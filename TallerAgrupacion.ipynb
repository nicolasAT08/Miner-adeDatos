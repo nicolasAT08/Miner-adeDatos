{
  "nbformat": 4,
  "nbformat_minor": 0,
  "metadata": {
    "colab": {
      "name": "TallerAgrupacion.ipynb",
      "provenance": [],
      "collapsed_sections": [],
      "toc_visible": true,
      "machine_shape": "hm",
      "include_colab_link": true
    },
    "kernelspec": {
      "name": "python3",
      "display_name": "Python 3"
    }
  },
  "cells": [
    {
      "cell_type": "markdown",
      "metadata": {
        "id": "view-in-github",
        "colab_type": "text"
      },
      "source": [
        "<a href=\"https://colab.research.google.com/github/nicolasAT08/MineriadeDatos/blob/main/TallerAgrupacion.ipynb\" target=\"_parent\"><img src=\"https://colab.research.google.com/assets/colab-badge.svg\" alt=\"Open In Colab\"/></a>"
      ]
    },
    {
      "cell_type": "markdown",
      "metadata": {
        "id": "2GbirP0Yf5KO"
      },
      "source": [
        "<center><h1>MINERIA DE DATOS</h1>\n",
        "<strong>Taller Agrupación</strong><br />\n",
        "PROFESORA ELIZABETH LEON GUZMAN <br />\n",
        "<strong>TEMA</strong> Distancias, Algoritmos de Agrupación</center>\n",
        "\n",
        "-------\n",
        "Práctica correspondiente a Agrupación (modelamiento no supervisado) usando diferentes distancias y similitudes para los algoritmos:\n",
        "\n",
        "* K-means\n",
        "* Hierarchical clustering\n",
        "--------"
      ]
    },
    {
      "cell_type": "markdown",
      "metadata": {
        "id": "nA0ThQuzDVcO"
      },
      "source": [
        "**PRESENTADO POR:** *Nicolás Aranguren T.*"
      ]
    },
    {
      "cell_type": "markdown",
      "metadata": {
        "id": "pWRvkbrqIR6S"
      },
      "source": [
        "# Distancias\n",
        "\n",
        "Dados los ejemplos numéricos A={1,0,2,5,3} y B={2,1,0,3,-1}, encontrar:\n",
        "\n",
        "a) La distancia euclideana\n",
        "\n",
        "b) La distancia city-block\n",
        "\n",
        "c) La distancia Minkowski para p=3"
      ]
    },
    {
      "cell_type": "code",
      "metadata": {
        "id": "Xu-wCMcRIROX",
        "colab": {
          "base_uri": "https://localhost:8080/",
          "height": 80
        },
        "outputId": "0f6f62ad-9115-4e8c-bad2-9eecc7cbdfbe"
      },
      "source": [
        "from sklearn.metrics.pairwise import euclidean_distances,cosine_distances\n",
        "from scipy.spatial.distance import cityblock, minkowski, euclidean, cosine, chebyshev\n",
        "from scipy.spatial import distance\n",
        "from scipy import stats\n",
        "\n",
        "import matplotlib.pyplot as plt\n",
        "import numpy as np\n",
        "import matplotlib.cm as cm\n",
        "import pandas as pd\n",
        "\n",
        "#Carga de datos:\n",
        "A = [[1,0,2,5, 3]]\n",
        "B = [[2,1,0,3,-1]]\n",
        "\n",
        "# Calculamos la similitud entre cada punto del dataset\n",
        "distancias = [[euclidean(A,B), cityblock(A,B), minkowski(A,B, p=3)]]\n",
        "d = pd.DataFrame(distancias,columns=['euclideana','cityblock','minkowski'])\n",
        "d"
      ],
      "execution_count": 1,
      "outputs": [
        {
          "output_type": "execute_result",
          "data": {
            "text/html": [
              "<div>\n",
              "<style scoped>\n",
              "    .dataframe tbody tr th:only-of-type {\n",
              "        vertical-align: middle;\n",
              "    }\n",
              "\n",
              "    .dataframe tbody tr th {\n",
              "        vertical-align: top;\n",
              "    }\n",
              "\n",
              "    .dataframe thead th {\n",
              "        text-align: right;\n",
              "    }\n",
              "</style>\n",
              "<table border=\"1\" class=\"dataframe\">\n",
              "  <thead>\n",
              "    <tr style=\"text-align: right;\">\n",
              "      <th></th>\n",
              "      <th>euclideana</th>\n",
              "      <th>cityblock</th>\n",
              "      <th>minkowski</th>\n",
              "    </tr>\n",
              "  </thead>\n",
              "  <tbody>\n",
              "    <tr>\n",
              "      <th>0</th>\n",
              "      <td>5.09902</td>\n",
              "      <td>10</td>\n",
              "      <td>4.344481</td>\n",
              "    </tr>\n",
              "  </tbody>\n",
              "</table>\n",
              "</div>"
            ],
            "text/plain": [
              "   euclideana  cityblock  minkowski\n",
              "0     5.09902         10   4.344481"
            ]
          },
          "metadata": {
            "tags": []
          },
          "execution_count": 1
        }
      ]
    },
    {
      "cell_type": "markdown",
      "metadata": {
        "id": "ZtzNrDMTIngf"
      },
      "source": [
        "##**Ejercicio 1**\n",
        "1. Calcular la distancia coseno, correlacion y chevishev\n",
        "2. ¿Qué puede decir de los resultados de las diferentes distancias? Incluyendo las incluidas en el ejemplo\n",
        "***RESPUESTA:*** las tres primeras medidas mostradas en el ejemplo y Chevishev hacen refenrecia a distancias, por lo tanto su análisis y compresión se deben en en términos espaciales propiamente dichos.\n",
        "\n",
        "Por otra parte las medidas coseno y correlacion miden la similitud, por lotanto se debe conocer la escala que manejan. En el caso de la similitud de coseno y correlación es $[0,1]$."
      ]
    },
    {
      "cell_type": "code",
      "metadata": {
        "colab": {
          "base_uri": "https://localhost:8080/",
          "height": 80
        },
        "id": "-5-4o5COrFj5",
        "outputId": "1d51a7ce-4f73-48d4-b96b-600bbf8024ec"
      },
      "source": [
        "from scipy.spatial.distance import cosine, correlation, chebyshev\n",
        "\n",
        "dist = [[cosine(A,B), correlation(A,B), chebyshev(A,B)]]\n",
        "d1 = pd.DataFrame(dist, columns=['coseno','correlación', 'chevishev'])\n",
        "d1"
      ],
      "execution_count": 2,
      "outputs": [
        {
          "output_type": "execute_result",
          "data": {
            "text/html": [
              "<div>\n",
              "<style scoped>\n",
              "    .dataframe tbody tr th:only-of-type {\n",
              "        vertical-align: middle;\n",
              "    }\n",
              "\n",
              "    .dataframe tbody tr th {\n",
              "        vertical-align: top;\n",
              "    }\n",
              "\n",
              "    .dataframe thead th {\n",
              "        text-align: right;\n",
              "    }\n",
              "</style>\n",
              "<table border=\"1\" class=\"dataframe\">\n",
              "  <thead>\n",
              "    <tr style=\"text-align: right;\">\n",
              "      <th></th>\n",
              "      <th>coseno</th>\n",
              "      <th>correlación</th>\n",
              "      <th>chevishev</th>\n",
              "    </tr>\n",
              "  </thead>\n",
              "  <tbody>\n",
              "    <tr>\n",
              "      <th>0</th>\n",
              "      <td>0.421171</td>\n",
              "      <td>0.753402</td>\n",
              "      <td>4</td>\n",
              "    </tr>\n",
              "  </tbody>\n",
              "</table>\n",
              "</div>"
            ],
            "text/plain": [
              "     coseno  correlación  chevishev\n",
              "0  0.421171     0.753402          4"
            ]
          },
          "metadata": {
            "tags": []
          },
          "execution_count": 2
        }
      ]
    },
    {
      "cell_type": "markdown",
      "metadata": {
        "id": "IQJEbjZ-Iy9w"
      },
      "source": [
        "##**Ejercicio 2** \n",
        "\n",
        "Dado los ejemplos categóricos C={A,B,A,B,A,A} y D={B,B,A,B,B,A}, encontrar:\n",
        "\n",
        "a) La similaridad usando SMC (Simple matching coefficient)\n",
        "\n",
        "b) La similaridad usando Jaccard\n",
        "\n",
        "c) La similaridad usando el Coeficiente de Rao"
      ]
    },
    {
      "cell_type": "markdown",
      "metadata": {
        "id": "HjKzfzD61n0h"
      },
      "source": [
        "**COMPROBACIÓN EN EXCEL Y PYTHON**\n",
        "\n",
        "![image.png](data:image/png;base64,iVBORw0KGgoAAAANSUhEUgAAAekAAABWCAYAAADrJW6DAAATSElEQVR4Ae1dMbLbOAzVlTKZSeGL7Mx2v/mHSLPtlu7T5ABb/2K7nCB15le5wl6AO5QMmwZomQRJAfp6nvFYsmUCfHjAEynZnAIeQAAIAAEgAASAgEsEJpdewSkgAASAABAAAkAgQKRBAiAABIAAEAACThGASDsNDNwCAkAACAABICBEepqmgCcwAAfAAXCgjgPe5ATxq4ufJ7xSLmVF+tfv/0LvZwSgd5tor3+ctJjG+Fo+YB/4H5l/ub57rbne/PLoTxpPkdmjHB7VrlZU8L2+Ah/ja/mAfeB/ZP7l+u615nrzy6M/aTxFZo9yeFS7ENu+YqvFM8bX8gH7wP/I/Mv13WvN9eaXR3/SeIrMHuXwqHa1ooLv9RX3GF/LB+wD/yPzL9d3rzXXm18e/UnjKTJ7lMOj2oXY9hVbLZ4xvpYP2Af+R+Zfru9ea643vzz6k8ZTZPYoh0e1qxUVfK+vuMf4Wj5gH/gfmX+5vnutud788uhPGk+R2cUOf3+5/6nW57/Dvyt3hRe3u9IGhLWvsPbEM8ZX+3h7XX4q8fqmbSHMXKz/9ns4n/jPNF6Dxg30f4/xXxhjx796xtZ8w2vNbffrZ/j6mfL2JXxr1Iw2f/4Jf4ifLbf5xGuJyKwSh//968si0H/+c/1ZVXzv018/r/tcAEra5d/Bvl9R5rHhxCovJm/hdTqF19dTmBpUWmd/EenT+f3i7kW0FX7o7Eez6L9d/K3xL88SzZFea26zXz/+Dp+mKXz6vOjQH9/b6mSbPxeRpkHqxbeJ9hUnELyWKESazhzqzhbagGgLAhcU7PfHkxOruKi8vYbpdA7v7+dwmnSj2GhLZ5+LdAjv59PiT3EHlgN19qNGo/928bfGv5JklYd7rbmtfi2DxJfwjQQxGSxqanubP0ykf+v0MfWb15J6kaZp7kpg2oDoLyopKN22CRs+/dFwVtXNN8UZXY1tTqzSehKnGpeRrBTM0jbicTr73CbfL/dAZz9qNPpvF39r/Mv5pTnSa81t8+sigrP+0LR33YCR17Uu/lCN73DiwGtJtUjnprp5p3P7bUDsRKQHC2EOVy/vcWIVFZV59HwKNNusHcVGWyr7YRHl+N3b8+ZPUR8uB6nso//hNN3w3jz+5vjXMKz+2MhJL/Uh9aPJr8tAiC6tkh7RfmqndLvJn+vIOa0hU2iZgue1pFqkf9FoESNplwlQSszex3FilZQUUZRZ0Sxpg47R2A8Xkb5dk75MfybCQe0/e9XYR//ZpYWN42+P/zNWtX0eOdk7z3u01+LXtz+jGH4JX39cBm40cqWRrGKg1OLPLxLpq30a3euFmteSepEmUKa6KYY2IHYykqYTmLuR2RRabiLokRRbtMGJ9by85Eaxy9nonWg+b2g+ot5+/FpuejveyDWF2nvH6u2j//LO+i3j7wH/QnIrD/Nac/V+0fXe+1FrbO9OuCuFWu9P1CV+Tfq/0Dq6j/6kj/u9y7Ths6K+nM1MYUpH099fcHd3JTme4bynzzmxUpJlt+MNU5kR6zy6UdxAVm1/dioj0g/8yvYhebPa/gM76P8pTFvE3wX+CYEGbEZOeqwhar/YVDf1rYcoUlv1r1KkxWi/Uhd4LVGJdOwIARMbnJ/X4X5+1KsOTGUH60HO+4t26nDhxHpWc+bfpmaHq1uNZKOH+dFU1q0nHUL/RSlZRcw6/tb2V8Hp9KHXmqvzi6aRk6lu0gbl7C7VeJ0/VB/zo3vba9IETOVrGxAECF6JWN5eY3wtH7AP/I/Mv1zfvdZcb3559CeNp8jsUQ6PatebWB3VnxhfywfsA/8j8y/Xd68115tfHv1J4ykye5TDo9o9qih663eMr+UD9oH/kfmX67vXmuvNL4/+pPEUmT3K4VHtehOro/oT42v5gH3gf2T+5fruteZ688ujP2k8RWZHh/EEBuAAOAAO1HEgLawethG/uvh5wivlT1akR4wGIwAj2kWbPm6mi/G1fMA+8D8y/3J991pzrXOVY+XdH5HZowI7ql2INEQ6Jp11osG+KCW8Fg7dPzr+OXC91lzrWHGsvPsjMmtUYEe1C5GGSMeks0402BelhNfCoftHxz8Hrteaax0rjpV3f0RmjQrsqHYh0hDpmHTWiQb7opTwWjh0/+j458D1WnOtY8Wx8u6PyKxRgR3VLkQaIh2TzjrRYF+UEl4Lh+4fHf8cuF5rrnWsOFbe/RGZNSqwo9qFSEOkY9JZJxrsi1LCa+HQ/aPjnwPXa821jhXHyrs/IrPWA5v/n9KStTzX2/UhNBB8fRx0RM/9d/ZreONZVLC/T/tLx+b/kVasvJXCss/+W8ffGv80gv23+9Rc+s/s+HOmupUPH9VTHVfv8VkWopmCZsW8+5Y6nODPS6zefu6l+e//1CeOj06kk8U0rgttpCtiZf7Xuw9h9CLyiDB4vw+mnFgp6R5v81WoLkVbwfJ92o/IxAVFTuH19RQmRb8J23323zr+1vhT9Ma8dqm5l8UrPn3+Ms9WtSwcQbVWx1XCaFmA53R+C3GpU3uRJn/eFwcfrK5G3pe8cnyaRToCT0tXrgWwC2Ey4k+Bx2sfsdXiyIlVQkZahSpNtPkM+XQOF8qXNaOe7uYiEcK29qNGv4Yp9nc+G9fNIkSQgL8oZWXcMcW/zEXtUT1q7jIIewnfaKWpJ4Oxkvqh4ypHQeYuP6J0v8mfWZTTvF38ajjfFrksmL0eWLl2ZgwKjabXpr3X27UVmBJiFR1zWe809vXumcw8FLWzw5OR2N/6B080vl/e4j7tR42m0YC+7xGlffaf95nvj46/Nf7l/dMcGTnRVm8u9X4WZpr2bp/y1nGVI6DnCm+pxR95Ut/uF/dHVNb1wOZF+teDxbhTgqy3+0FEeofimsaoZZsTiydCfn8hdPzu7XkK59phdKNI3WxHPza0P4+eb/ZkwudRy70L/EUpy8F0/545/vfu9N6LnGjJaV7XSwZjJfZ0XOXotIshtdjiTy5nbyfeZKHulfsjmL0e2LxIlwRvvV2IdAm5PR/DiVVGy0yiKa/p7NG+SHAmGmUYLkftsf+5yx3z9L/iREnTf3v8ayJcf2zEpKVmLJcxv4SvPy71maa8G2cGNbGSvc/UDnlQ0Tst/ggOhXa/uD9dRFoEMzOibCVMC9k2+y6mu4uS4nZQjtDLjRi113Q4sW821rYs7S+2o9/8mV6jX/M+/Wx//Y/eHx3/NIL9tyMn9LXvMiDL8HOaEuHO1PpnNnVc5fjkuMOPKdtv8mcP16RpFD09uaGgjTAYaT8jvvXnOqJnEu0oI+kH/ZzPzKf0RpSRhQb480sr2+JfFlvtUU0198ElTKr3a/cfPatFulrBUchwlx9SuN/mDxtUCNEudCI5jPujG0mzs6uSgDURRnG29owo+LzviQ8nVsK5lc0l0eJ302ftKDoa2Jv9+bfR2Y6ypF9BL/1ob/1ffLeLvw/80wj2346c0NU5ukksM2KmKe+G30zruEr4LPkR20ifmtknarHNnzghdA6nqz+3e0yo/dpX7k+lSOsLezSsI4zeJuxthx0nVi0xW4+HfZHKrZBWfR/42+KfC5bXmmvNFY6Vd38Es0YFdlS7EOLthHgNa2uiw75IZV6Lhu4Df1v8c8H1WnOtucKx8u6PYNaowI5qd0048Nl2Am5NdNgXqcxr0dB94G+Lfy64XmuuNVc4Vt79EcwaFdhR7UKItxPiNaytiQ77IpV5LRq6D/xt8c8F12vNteYKx8q7P4JZ0WE8gQE4AA6AA3Uc4MXfeh/xq4ufJ7xS7mRFem3EpP0sAqD9Lr7nY7S8FocYX8sH7AP/I/Mv13evNdc6VzlW3v0RmT0qsKPaXRMOfLaduFsTHfZFKvNaNHQf+Nvinwuu15przRWOlXd/BLNGBXZUuxDi7YR4DWtrosO+SGVei4buA39b/HPB9VpzrbnCsfLuj2DWqMCOandNOPDZdgJuTXTYF6nMa9HQfeBvi38uuF5rrjVXOFbe/RHMGhXYUe1CiLcT4jWsrYkO+yKVeS0aug/8bfHPBddrzbXmCsfKuz+CWaMCO6rdNeHAZ9sJuDXRYV+kMq9FQ/eBvy3+ueB6rbnWXOFYefdHMKs4sHzFpyfLlxW3i//p3uVd8C1EXxY1mILJ/+/e/e/uFLJ/p82zOrOP/otSkkEp/5Zp/Oe/Xj7NPzs14V8eki7vttfc3EpYL+FbY41uyZUZmE45SyA3+9OJQ4/8EZlVElhaCSVd+Sq+t7bQRkm7GPluN/LtjbWO6Muf5Z/Ob+F8shBpsv++5MeDlakoedZe0X9RStbgunxG+FvH38p+AUQNh7TX3ItI0wCMFtegfaVY63KFgCDOtOcstdjHn3YOPfJHZNbzwNLZVd0Z1fN29ytQvQVvj+21Eb192TmVfbGs3OKHZjStsk9ZmV1X+fph0YbK/tH7f0XWiH9X+2M2IifaagkT6d+62s99UHGVIOrIWWqyyR9qpEMOU1Pcn3qRpmnuJ+tH5wLD3/tw+4QN/9e2xjPPPeDEiUWEK3u1KZLzNOvpHC7n5HHSSj2iR/9FKSkL/XyUHncyskf8yfdRrxGTttrBRJpG0pW1n/vQEqueOUu4t/hDbbTUjlsbyxb3R2TWs8Dmprp5EHL7z9rNfQfv7Wd2gROLE29936ZIy4QPIa4zrLk2if6LUrIe8rtPbeJ/c8Ha/s2TnlvtNZdGzvd/r/nH97a61JIrPXOWsG7xh9pwJdK/aLRYeTbVTpg2YkDwx+LXRnSbIikTXu8H+g+RvhVsH1vtNZeNpH//DF8/L4LdItQtudIzZylKLf5QG75EmqY8JlyTFsJPJzCY7r5xt2hLL47UvCrROl7fUtkn5xum2akJlf2j95/As8L/an/MRuSEqFFVN3txkf4v0Ezq2k3Cz2yquEoQdeQsNdnkDzXSgUPUFPdHnP6WBPbbn5fpj3Q0/f0Fd3dXJcDYke2zROn9OScWEa7s1Uikw3Kn6PVGMVEAyryPR6H/opSUg9ehwO0T/wqIFIeW1PL1OiBFeqn9X8LXH/r61RarfjlLkLb5Q6201zBqifsjMqs0sHRGFY+fn09ujiptd500emKg3bHYxfjWP5aEu3LowqVNrwnf/ebyFM63u8iquoP+7zH+DvhXxbK6g9trrr9r0jMCnXKW0NTlLn27H4eoRe6PyKz2wObFYFS7EN883lvjwolFhNvqFfZFKm8F/WwH+Nvinwu215przRWOlXd/BLNGBXZUu1uLEezlTwqsiQ77IpV5LRq6D/xt8c8F12vNteYKx8q7P4JZowI7ql2IZl40t8bFmuiwL1KZ16Kh+8DfFv9ccL3WXGuucKy8+yOYNSqwo9rdWoxgL39SYE102BepzGvR0H3gb4t/Lrhea641VzhW3v0RzIoO4wkMwAFwAByo4wAv/tb7iF9d/DzhlXInK9IjRosRgBHtos38yHZrXGJ8LR+wD/yPzD/LvsP2WAREZo8S01Htbi1GsJc/KYBIilQam7msdeB/bPwZHbD7gRAQzB4lpqPahWjmRXNrXCASIpU2LRPA/9j4b0o2GNsUAcHsUWI6qt2txQj28icFEAmRStsmMi43bIo3N2bNf+4P9j8OAqKyjBLTUe1CNPOiuTUu1kUK9kUqb1qlgL8t/psGG8Y2RUAwa5SYjmp3azGCvfxJAYq0SKVtExkj6U3x5sas+c/9wf7HQUBUlnUxzf+Xa8mKKOvt5gs/BHE/uKiL1N3/8E7huthFZY7t1n4IYV5+b9KtY00w7bb/1vG3xp8CiFcg8AABnUgni2lcF9pIV8TKrAYFkd6P4GpOjnQisfw5/XVBjXkVKt0iF/u2/xbOJwuRBv6v88mRFf4PqjLeBgIJAs0iHQs6LV25thA4RBoinfBu2RRLQy7LvWlG0yqRtrZ/BaR9mbtd9v/o+F/jjw0g8BiBLiJNo+m1ae9DiPT3l/y/tSUzD5pR6h6+oxGJeZr3dA631SH1YrVH+7e01Peb2thj/63jT9gF8/Wsb55gCwhwBLqI9K+LOB1epDPT/HsQ2B4+9hGJEN5eddO+e7R/S0YvIg38bzGp29Lwr84Cjj4qAl1EGiPpjz2VXSLimiJlPZKytn8rOl5EWu/HHuNvjf/NPraAwGMEuoj0ck36S/j647FYxSQuKfa7PgbT3Y+ZlvvE+pqktf0rJnpxpCY0Ihms+29tn8DDdPcVCWz4Q6BZpGkUPeHu7o9/ErIyna8SibDcXXy9UUwU7fKE2ad96p+RSAP/SwCs8Kf44xUIPEZAJ9JsOcu1a9E0Mj7ESHpFxAiHj/qqE8n5R6rhdOWT7udXkd77tL+cpETf0+f1J2mP81Z8ss/+W8ffAf4ikngDCNwjUCnSj6ezn4lPLCLPjsHnenytsVOLxD0f1XuwL1JZjaXmi8DfFn9NzPCdfSAgmDVKTEe1ay1OsL+cWKBIi1TatAIA/2PjvynZYGxTBASzR4npqHYhkj5G3xAJkUrbJjL+u3tTvLkxa/5zf7D/cRAQlWWUmI5qFyINkY7paF0kYV+Ukk2r5NHx3xRsGNsUAZFZkex4AgNwABwAB+o4sGnlhrHDICBE+jA9R0eBABAAAkAACDhH4H/vSeUrrzOGdAAAAABJRU5ErkJggg==)"
      ]
    },
    {
      "cell_type": "markdown",
      "metadata": {
        "id": "lGWLvZpEHX9r"
      },
      "source": [
        "a)\n",
        "\n",
        "![image.png](data:image/png;base64,iVBORw0KGgoAAAANSUhEUgAAAhgAAABACAYAAABYxg6jAAAR60lEQVR4Ae1dPXLbPBDllTyeSaGLeCadGx/CjduU7tPkAKldpMsJvjrjKlfIBfANft5ysSAlEaIEgnqe8Ugifnb3YYX3CJDi4PhHBIgAESACRIAIEIGVERhW7o/dEQEiQASIABEgAkTAicAYhsHxnxgwB5gDzAHmAHOAOXBJDkBbZQLjz99/jv/EgDnAHOglB/wk2PKP9ol/+/zzY7Cdf/2dkOzwB3uZVOgnCZA5wBzwOaAnsxYTPe0LhbSAn+MfBPZ2xIUXOvo7IdlBgcEJm6TNHOgtB/Rk1oLhaF8opAX8GZm1cGAb40+BwdURbj8xB5gDq+fANib4FtQWbTJ+CpwtbY9wBYOT/OqTfG9nvfR3Pys1JFgSbDt55zaygsIVjB2S2k/3FO68eXbfuxYtt4rjP/f66Pfn1sTrGn3+c9+/ej+/uNffGyLi39/cg8+3rz93+F2qx5kCgwKDAoMCo7NJEaSb36r08PafigN11iRMM9H+eA4K2U+i4f/xm/u1upi5QRzB52uIgSv0OUPkv96+rDsGsJPGNs8tkwdpzDcpfFbPx+nY51adqgXG57s74Hs1DO7lo46mqu075z7fDyGnDu+fdcb9vQMX3EVz1/Z3Nf7rCIz3w8h375/1feqcFPnrD859ie/veCJdRehCMDc6g5yy54+dQ0TbHK8riIG/6/cJ3J9+gOhgY0WRB3GRcikKh8GNNmHbvCbB2W8OmHhWECd6MjufpT/cyzA4IfaPFzcMB1fD85fZ/3B+Uhc/zg9AatK+UJhgcvrN3sa/XgzI9RsfcX47JJFBgbHC5DRPxKXA8HVzIgDxpBWMRBoPbz/TVkAcME8aaOcng5MkEuI6Z1UBdaA69ZJ+LJvypYzZxOHt25UTf6bnxZYhxj9C8Mq2aTuS4YSdECuOqz5gBwJvUZ9HcJEx+ja7vVWsEoQ2X9zrj7RFAZ8m8++IbVW/EDGIzwgOny/ZlghwuZHILXNlfYFwqY0qgg2C4sWNixafgehrVjGq7AsDRru3Fxhw4E7t7278LxcYUXAP4Xvgc5oCQ03Yl05SZftEFIZMQAyRNEGMucCQvXuQwTCkVQeQzxlbKoZwZv2T6xngC0gatiBo8HnKNtrmcRyNUQgObZNdH7NghjLYtJ9HsspxHQVO8GFRnzZO2FT+pWXxaaFn248+/sF4SnyqLOSibWtsq3yF4BQf0LfHNY09hNmvt2d1LYi1YX24v881BB+2Bg7vbtyYqCfaGvugd+fq7aIP2l++grG/8b9MYHy+x5PUD0eBcaNtnDSRWzLJJn8QSE7M4Uw/kIkplxUQiIB5MgDhZmeviqAsCXkBgjaRmEr/izNz6c/4GWIcfYz9mhjnBIb0GWPLbRo7ui4INuGdt8txystMn9n4xHYZLsbOrHCz4+59PdX2lG0Vb4wB4k/1rQTGmEc6fhOv6rOMRbfb7/sagi0JxrmPl7qtihr7EAcUGG0E1v7G/zKBgdULv12C6zC4gnHVybUk6JLEzWRfEJApXyAwICDmBEZGmsAhI7jS/5yYNeEYP1Mc2QoGCBcxHhEYIE8/8cZ/iBVjB36HV1025zv686/TfZ7EpfBf4+Dfl7aFuNEWWGT+W4GX+s3GZLQFjCZXMCRPEC9WgHx7jdPYn/hofLqH4zUEXxJMPdHV2KfAAAL1uKOHGvz3N/71AsMLa4+hX72gwLjZBDpNNDlJm8m+ICBTLsQBcjxCEOhLtkBM3QniArlG0ir9z33X/Rk/xTYITvmLshmBkfuAa0/Q3tgxYylt3+K1DuMWQbx7A2Scx2H6PIVL4b/Gwb8vcROSRtsZgQFRCL99O4lJLhiN9orjE37r9mOfJl6Dofh6R8drCMbtbg8edLv0tQ3Bj142sr+78a8XGFix8N8j+1+7iqG/k96z8OcP3uMENR1zSTQghXFVwUz2BQGZ8kJgJBszIgJnuaO9eG1CJBvrn7Vlyy3Za2LN28Y4IQp0PUXA8DkRI1YU8raID33ldgrcgV9IdLQBSePzqT5t3MYmbIhAOhGfJmq0nRMYhTgxtqf6Sn5o0eQxFEFRCA/Er1c1bAz39VlPZpjLTr/Guwjkos6CcE73gBp19tG6EcHC/N1eA7K38a8XGHIXCVcwbjlxYiLPVZ1M/IEsDIEUBGTKFwoMT8AiaqAuNbnBHspA+sE3S7TnCww5i5d+PQaK0ERUxDtLvr/5FQYrACJuT1/973igrMQjFxkoT3esCCHnY3Gyz2O4oGxWYEzghDYZHubuDvha1FW4oQ5eNY7Z3UUKB29T+4r+9TH0d6ev1QSf/Q5C3S2qnqfr7EeC8231f83dJLQv58gim856s6vxp8Dg6kgnBKDPpoMAuDNSg6jDlkwugm4pcidsFSsaE3U6ybO1cK0j2LMo6KxKtF9J8Gehe7oS8V9PXNjVjNrPekwkO/zBtb707KfXiR9nz+rMG2fa93LWvGFBVYi/OxMTU/OKnsxO09H6NWhfKGR9cM/okfhTYFC4dEUE+ZaE/wJny/RdxVIn9DZJ5BsWPlPEf6tjJBgS/Bk65GpVtpF/2xIZGhPJTn/wVpMC7dQRH3EjbsyBPAf0ZHY1FjnSMe0LhRxB6XpFxH9b4sJvq+gxkezwB/lPDJgDzAHmAHOAOcAcuCQHICkzgcGzo/zsiHgQD+bAtnPAT4L8a4cA8W+HfQ+W5dvpE4WT6bYnU44Px4c5kOcACa4tzRD/tvhv3ToFxh1ctEhSykmJeOwHDxJcW4oh/m3x37p1CgwKDK5cMQe6zQESXFuKIf5t8d+6dQoMkku35MKViP2sRNSOJQmuLcUQ/7b4b906BQYFxkoCAz/ShZ8Gx+9pqB/t2gTWW/WLYqFGZJDg2lIM8W+L/9atU2BchfRAtv5WJ02wOK6P3YpYQKz57Vf581Uu8QWxUWDUECXb1OVezwQXHhsuPw9Q/zyUliTTM/4tcbsX2xQYVxcYw/h0zL8g4YYCQz0wDc/dWOeXOhEbBEYdYZBoiduSHOiV4IK4OLy7z86Zplf8O4e9G/cpMK4pMB6/uIdwhgJBARJOn4uff0Z5IulU/vD2070+jisP/kFc8ees47HzHsyVVjCUwPATOfoZ+4APsHdEMOA5JT7Gx2f3FHxEffSTx7osFvQx5UuMZ6o/EBRi85PgKKLQJ8bEE7pd3UEMY9kxO39EOE75OWKc+0EhgXG65LVPgvNPU+1zxcIyW5/42yj4+VoIUGBcVWB8c/Fx5ljFMOR2psCQR56j/oD+QIyaLOeIa1pgYBUjbpUY/0SATPVv+hOxAXI2fYnvqVw+z8Vi2he+IPbBRXGEz8lX8+TRX2/P7vW3x8b2a9pJOeJA+YwdqT9iFIXNKT/mxonHlwiOLgkuPCr84A4HCNLBDS8f15rjr9pvl/hfFRF2rhGgwLiywPglZ8eecAy5gWTlSaUoNyQsqw4ot2QGMjxGTokopa9UVxNx4c8/9yeVjyscE+0ChvANvuBz8hV9i31TLgLCxC7YWF/KeCKxp/YQPGIP2Bi7Ov6UC7noOmEHcc35OesH/OHrEkFh63ZJcB8vbtArGEFwDK5HjdEl/poB+f6qCFBgXF1gjMQ4LrMb0hVyAvkZkhWSRPl6AiMjU5ChXHg2nmFZgZG1u4bAOOnLCeIXwYIYgFmOYRmHHq//xu0TGQNseRghcwSzbKsmu+iX4sIKhqWfuyS4IDBe3Lhm8eneD4M7vPd3RUaX+F+VUtm5RoAC4xYCQ61cPH31hLcdgTF11n/WnSXFmT+IOxGvivm7xxhn+kLUqA/inybueV9OCwyQVS4ijN0ijn8O9bOtF/F7qZ+jiEC/8zGNdeE7X49j0iXBpS2SUU9QYGhS4vv9IECBcROBoQg2nOmCVBNJQnDIWXvtCobpL4utJGQQ3ngB5LH2ZqK3gsH6fqnAyLaWjO0QVxmPFks+NiHyTEQYgQE7IiBOlRuBgfYYwwzzKFam/ZiKiceWCqouBYYzgsJumXTEL33i3xHAnbtKgWEIYekEN10/kZSQViSOcakcAmNcjvdf1OERF4VeUWCYpXwhP8EBIgNbC2rFReokIhRRMeH7xQLD2zjmy3GBMV7MmeIotqHUGEAsCTaqDD6osdRCJo7/MT8hWKwfFBPT351luHRLcOm6i/C9H/q8/sJzX7f4d07cvbhPgWFJk59X+mXPZUSxBtmwj/vDnATXlmqIf1v8t26dAoOCgoKCOdBtDpDg2lIM8W+L/9atU2CQXLolF65Y3N+KhR1zElxbiiH+bfHfunUKDAoMCgzmQLc5QIJrSzHEvy3+W7eeCQyfLPwnBswB5gBzgDlwbg5sneToXzsEMoFhlx/5mUvQzAHmwJZzwJMg/9ohQPzbYd+DZfl2+kTZ8kRC30h0zAHmgM0BElxbmiH+bfHfunUKDO6/U1gyB7rNARJcW4oh/m3x37p1CgySS7fkYs9m+fn+VjhIcG0phvi3xX/r1ikwKDAoMJgD3eYACa4txRD/tvhv3ToFxi7JBT9drX/yesnZrW2Pn7tGf7Z8Sd9zdWEDD0ubq8fjXKkZc4AE15ZiiH9b/LdunQKjZ4FhnqExPlfkUgFg24P85wSGLR8J4HwyRB8zAuNkrPG2QvtYeXmKa7gFG/4n//SzVHy5et7I+X7XxMo2a+FbRXALnwPy+X5Qt+8f3PgUVOe6LgsPWZu6HVc/Sv44hVXhf7xLlu4IAQqMXgUGCFdI0RO0IdDVYgP5z/V/qvwcQkUfEwLjaKwQQ1/cw2MpEuITY1OZeuJp+SRZ8+TT1bA7J3bWqRUcywnuw70MgztAJZx4kmkQEId39zkx6e+hzIb18TK44eXDHp79vBz/2a5YsEMEKDB6JRKcfctTQjVJgayTIEgE/fD20716Ek4/qObP9scnvA5uPPs37e2TUbPPqDv2G1YCIArEP9RTAgIxhNWDZ/cUfFPlGBvUk750rBAYz+717YsbBt0+lX39luKGQBrbfIcNvnZ5HcZigguCQp+hx0enT3OqFyP5isXIAXsoG6MJ78LKzly8pm76uBj/6W54dKcIUGD0Siwg8MmlfZB5LjCEfFXbuK1iCde0zwSFJ/dT5f+cbE2IKEAbCIBkEyswEBGZQEhCQvlbbmMo31M92SpKfT79gO2EB2yJb1qw8H3takKLdksJrlx1iAJDVjT0RJ8I93BQ4hlKZA9lOlbn3NLVC998Kf7GJD/uHAEKjF4FhvdbE28mNAyhoh7IvBAIWMkA+Zv2Rf1T5co3IXG0STYSyYsYEBvwwRA9YkirL6PQUAIDfaQ44+qMFxWwHQXG1PZIC3KkTTPGFd/FpQRXCoxIrJMCw26fpGs3gsbYQ1lGbnHrCPopKzryYSn+R7pi0Q4RoMComNQ2RwyKfCNh54QqQmRDAgMkf7bAwDgVsWqBEa+jCCs1P765By9GgsAxeHAFo8vtkKnv3VKCKwXGkRWMme2UIEb2UKYIrcRFFR55uxT/I12xaIcIUGCAuHp/zUjTECpIeUMC48/SFQw9PlmsucAQMRVWOrAaMoOHuuhzirx47PIVhmtjuJjgZoTB5Jl7cU2CEiN7KBNCq1u98M0X4y82+eYeEKDA0MTV0Xu/AjCe/WOLAxdqzhDq1QQG7IPQPTEZ4ocowDUWVvTYcjUWx2M1dmQ7RN9RYvD4C3+xwpGI9Mdzhum1yZH9Xy5glhOcIVMjOPLrEJSg8GwQ6uIiyD2URYoLqxeDvvD1fOpbjv/5fbNm/whQYCgi62vCB2mOF6DN3gViyVxIOF30KIQLgYC+UX7qs7rmQl8LIqIhkv33N3OXx6lyGRvYn4rVCgxskwxKLKA94onEhm0aP0mGfxFglxNfX7nUb7xVBJeupYjjDsEQJ/NcYDj/QxfugPwYBpetdOyhzEXBNXkNyhn8VoX/Gf2yyj4QoMAQEut3kiWZcezuNQdWJbggGOrO5PdBB8ujWBX/5ebZYuMIUGBQYOzmgr97Jdl7jntNgvNbBbVn8huf56/m3pr4X81JdtwMAQoMCgwKDOZAtzlAgmvGHcEw8W+L/9atU2CQXLoll3s+c2fscVuMBNeWYoh/W/y3bj0TGD5Z+E8MmAPMAeYAc+DcHNg6ydG/dgiIwGjnAi0TASJABIgAESACe0Pgf0zJgACBzxeMAAAAAElFTkSuQmCC)"
      ]
    },
    {
      "cell_type": "markdown",
      "metadata": {
        "id": "uJ4nyXQhz_ks"
      },
      "source": [
        "b)\n",
        "\n",
        "![image.png](data:image/png;base64,iVBORw0KGgoAAAANSUhEUgAAAkQAAABBCAYAAAAwsrvAAAAR2UlEQVR4Ae1dO3LjOhDklbZctYEu4ipnTnyITZxuqNzJHsCxAmd7ghe7FO0VfAG8AoHGZ0DwJ5AErHaVSxJBDGYaI3ZrwE+n+EcEiAARIAJEgAgQgTtHoLvz+Bk+ESACRIAIEAEiQARUJIi6rlP8JwbMAeYAc4A5wBxgDtxLDkALJoLo89+X4j8xYA4wB1rJAX3QPvKP4xP/4/NPzwH/12AQfn+jTNYNrRwE6ScJmznAHNA5EB7QjiAmjh/RyO5TQPwphNYIIfQJ8yfKZN1AkiHJMAeYAy3lQHhA252N9e9yVqiOgN2NSfwpiCBu1ryG+UNBxCVCimDmQNM5EB7QHEvu+IbjRzSyI/JmKOJPQbRGCKFPmD9RJuuGln4Z0ldWMpgDzIHwgLY7G7NCxApZFRVCiiIInKWv4fGDgqhYdeBdPfZX6T2rt2I2jyC7veL4T/160FdxlMRrC5tf6u1J+/lT/fo7Nh8b4fb3t/qh8+rpnT9WMt+r8IBGQbQ/AsQ/otHdJ8DgT0G0VAhh/zB/o5nUDfzFPUR6ILv4Mswfr/8FeGGfkgQvfPnzHN8W4eG3+siQxPp53CGO3uctxMsGNmcLkhtxwzj21hdhbs0TZCJXiudFvfbDA9oiNrqe1Sm41cjLZVFvt3Oz4yulrudTf0w5na8unqVvmo3/6Pkvin+FgugS8+XpXKGPyviInKcgmkUcluwCAfLx+tOIk51+uQ+Np7eFxLleBB1BdhuIl3/lbQL3xz8bYgQxZHPJCKBOuTGtEG53rjfEbvVVZhf10nXKCYHLi+q6k1qjC9YJglrGv6jzKcABzLDgte34rRA8bP5L4V+Z2NBi6MX7pHNM58nLxW9Dhebo1zB/KYhWCiItPmLiEmRsSe7H67tdGjIJoUkO/fREONIb9WNO9QH7QJWHSzymbciXVESJOLRfsjKlf1VrcSiI/NMJkmBs0deT+sA4PQbYHtjAOBCki2yO4OLm6Hd2uXOoOhPOn1/Kgt+oEM7HPBFdiA9iG/Hj82iubCs+0nw5frzwgDabx3sCfFG+KHTthcGaKlGT4zugTNxOGLrt8980Gf/R8+/gLYV/fUIjFDrXs+GlGqtEYf5SEM0iF0uqIGTbB0RmSF4QIkgM5564z52t6oCoQaAjxCIJMvFZ2oIvEBVohwDD56Gx0de2OdGglweH21JRYMfVfR1moq+0FcQU4+oFWY/zIpsyTvgQ+GeXTIaFqewvfPn3pT5en+25RbANTNF3GnMILOcDcsUJINiC7ZFcCXCsUbxs4VN4QHM8M/GmXyo6nZVfKFpPTC2O7+FZHzdstBj/0fMP7JQqhX/dgujywgpRcH5N6wdwS0iO3G08VqiMCiLXRxImKkUQLXmMIBC88BD7Rn6YNvQxvqX+D1U+DFkJP3vb3kdjNxZL3i/09fuHBBiPiX0HSB6CwGIX94tjj9uEzSlcxDihr+Z9ipurlrl5hT9i7H9p39hX9EMeQDh9qU/45QSRtO37pj7fX1sZQlZKH7TXVEpaHL88IXuLc96lgoT4z8FtaB+TfxULIpxLdOrUtcK7aYffX1aIZv2iTslNE1EsOgRpgdQccYp2t+Q2LB4iorPE7oVHTHqxH7YtEgOp/zlyzlWBItGHmBBjQtw+JjMOlvH0K9pSPHzMYVvO92mbk7gk/se4fg6IGu1jHBMEXeiztpPzG/H7sWAvXyGStn1fj9n9bgsPaEOEMbQtJeT1v9RbHN9jsj5u2Ggx/qPnH9h9+wrRtXMXLlwqFEN6WS/MXwqiGwRRLCoEaYFsIR4Gloji/iOEBlu5S9Qj8WPsQAwYkp1PzjlBpJPG/AeEDr8ygij2AUIC/QVeYh5c31dz2bkRZF6EQjzEGAqbU7gk/ss5SHELBQh8jMSim6O0b+yrHwt2EBOqUIg5mROBVejTPb4PD2ieaCbeHX0OydHjO3iOEUTq6PiPHr84/nVWiPSFC/r7WasYoiBaRSYpuYHEfNVGkDHIdrYgsmM4QvWEqUnOkKm4H82f5/h8pOxYqf85cpbka+KEiIl9clUQ+IxKlq0CxX0RH2wJvOS8AL/+C4U+EET4PGVTxi3GxBhO0E3EZ6uCTqhEgkvYXlAhkktk6dwgTlSjpJ/3/XmVIFLmKi93EnVCkI6xJt+0OT7COkgQEX87AaXwr08QtSCGKIgk8c76DEJClcS8OmLsbQhCBNlmRQpEjiT3POk5EYZqjbMdnHeCNoiU3jcpDOTYIaGKOEDszq6OPfDRiSBz5dnbq74dgYzJ4PX4pO+jhDY5TuiDfo92e0Wbm6d4LiZtYh6c/4HvaMsKoiGcAr+0TdcX22F/Ceb+ZG1NrvrfVYt03DP8vMfKEGJeJ0j6m8C4cv7aS+41q7U5vhGEyDe87nUOVa8GovsArbvlAfFH/tUliHBVGfLKvVZ4HpH2DX/+nf1i4yDDV0nQ9/k5qVbcGTlDhEYCxYmznXIiqkTtNObeMd4wXnhAw4Ftz1eOH9HIntD3YxH/usRQeLl9C+/D/IkyWTdQCJFwfA7IqkdQyXCVkW+OVwUCMBGlN4gHP7ffZ97CA9rubHxLhaiQs4w/orFCqM43Uwf+FEVrxVc4f1Em6YbveMBkTLeQX7xEpXPELxPdYredvocKkgoEWe3fn/CANp/Gyu3J8SMaKQfsTEvEn2JorRjS/cL8iTJZN9R+8KN/7QgJzhXnao8cCA9oMzm06G4cP6KRotjOMUb8KYg2E0Q6ufhPDJgDzAHmAHOAOcAcuIccgPCOpL0OfI9fdByDlQPmAHOgVA7o4xb/jkOA+B+HPUcui0B0JKEgIkmVIinaYS7tlQMk5LKksNQa8V+KGPevFQEKIl6xw6ogc6DpHCAhH0svxP9Y/Dl6OQQoiEiGTZPhXlUIjlNvxYuEXI4Q1lgi/mtQY58aEaAgoiCiIGIONJ0DJORjqYX4H4s/Ry+HAAURybAgGeJGjng8B+5hhMdZ1FJlqNWvWvBpyw8ScjlCWGOJ+K9BjX1qRICCaDNBBHGgL9sMBQG2h9v2IiAIgfhS0viZbLf4gtgoiLjEdkseLevbKiFfz6foFifuQbM1MsWIT63iPxISm+4UAQqiXQRRZ59Krw/0EA0HCqLgobB4VleZu08jNgiiZcRGEUG81uRAk4SsH2x6OqurJR4jjl7UpUEiahL/BnGmy9sjQEG0tSB6+Kl+9De7hACCaLCfk0czoN2KCtv+4/Vd/XrwlR39sFHzSAmzbd7DR22FKBBEmoBgx9uADxhvROBET7t/Vo+9j9gfduJYl8UCG0O+mHiG7IFYEZs+aHvRB5uYEy1EZPUMMfi2sXG80B3y02Mc+0EBhHm65fVbEHL/5Pf1T3zfniryI3wL/PPhseWOEKAg2lwQ/VZvrz/70rhZmhJkPFMQdV0skPRByNgDkYfkniPaYUGEKtGgf04wDdkX9pw4gpjIxDo7FtE/8QWxd8qIOXy2voqnxH+8PqtffzU20q7o59oRB9oz47j9PUZGiE35kZsnbl8ikL4FIV9eVNexQnRH3MtQK0SAgmgHQfThqg+aIAUZzxVErqoj+juRAPIeI1NL7M6W3TcUDok//gn3voI00K/HEb7BF3y2wgC23fiiXcaC/Z/e/Ynf1tdIADl7qMTY8SHQgnZDtGLcMH6bD7FITHEzgseOM+Vn1o+xuWLbXFHUviC6qvOpU6czFtAqZIoRl9rHfyQ4Nt0VAhREuwgiLyr8sosQCY70QdaCbB2po932lyJiNJ6U2DXpROQP8h54pp0URFG/LQTRpC9pPJFQcdhgGQuYxRimcYTz9Z9fTnNzkBFeI5hFS3fRSfYUPnOFT26/1gn58tKpLjifqDUGah3/1vCmv9shQEE0KiBuIStLuo5EPQk/PmmCrkcQRSJioFqSI6LPZF/EWKhClNiX8zEtiOB7LHrgp52DgXGw/5JK1Jyr9WB3zr7wna9y3uPPLRNy62JIU1PL+G9HrbTcIgIURLsJoi/1iaWV6CRrS+oQSJack3OGBoTVm/U9EjTR8lxMHO7EYWfLV4f8CcfCnzF8EA/sSd9zy4PYX7a7ig4E1ZQv44JIiw8nPCLRIwQRMMv6NT6OwxVzKDDL+yHnh5/XiL82Cdksk7VcGQLhtYk/vOcrEfAIUBAJ8lpzQB7uY0nXkawhO790guUbvzyjDyzdA07CXrtkNiYi0IYlJPPqRIPDYmi/wF+334TvUvBIASXbE0GkMRvzxbYFGMfiEMLHxpssSwYxwTe37BW0wYfsOFN+5vygABr+7izDpUlC7k+ijr+H/fe/wZsRNYm/50C+IwIOAQqikNz53p+8TCyIRSM5QEJ2x/ND3hD/Q2DnoBsgQEHUyEG/xC9p2lhWeSBebeBFQt6AGRaYJP4LwOKuVSNAQURBxEoIc6DpHCAhH8sxxP9Y/Dl6OQQoiEiGTZMhqzhtVHG2nCcScjlCWGOJ+K9BjX1qRCARRDq5+U8MmAPMAeYAc2BuDtRIbvSJCCxFIBFEW/6So23+mmcOMAdK54Ambf4dhwDxPw57jlwWgehIohO79MGK9kiAzAHmwJY5QEIuSwpLrRH/pYhx/1oRoCDiOUQUwcyBpnOAhHwsvRD/Y/Hn6OUQoCAiGTZNhltWHmi7jcoWCbkcIayxRPzXoMY+NSJAQURBREHEHGg6B0jIx1IL8T8Wf45eDgEKombJEI+0CB8xseQXveyPx0vAnmxfYju3L8bAs8py+9W4vWXfa8SznE8k5HKEsMYS8V+DGvvUiAAFUe2CSDxjyz937FbBIvuD8HOCSLavITTYyAki6dOaMbbqM+X7VuPS7tTSZcuEfD2f+tucnM7XGvlhlk8t4z8rQO50NwhQENUsiCCG3ENFNSlDsJQmShB+zv5U+xx/YIOCaIrk2T4nn8w+bRLyRb10nTqdL+p80q8URHfDugy0WgQoiGoWRH+ezU0y3VPaQ5KAuLACxoqnH6/v6teDv6Hc458vZZ4Ab7bpz4ZsRf/kyfNhO957u50WaRBszj/sFwgexKBv+PnwrB5734L2CP+BClHYv+uUr5B9qU+Mb28m6mLLbc/Zctj9Vo+9LYtpuP+k78CVr3uLuTYFETjhSkEEKPhKBA5GgIIoIuTKyCwkdlclgo8QH7Eg6jorNoK+RkRIsSH6jwoiPabcPxAkWUFkx4TvTmDMFEQ6BvRNxhe2/72rx37fzPYxWwFWTlRpe72I+60+dI5M+o554SsF0ZKjOgXRErS4LxHYEgEKopoFkfYtIGv9S7ivzPQ+C4GC/bICApUiiBHRPxEcU+2BbzlBZEWEr+rAJnyQ4sGKkG542c5UumzfxLa1ldsu5jmylWDnBdB832Us/LyXMGKFaEuKmLbdNv7T8XGP+0GAgkgQ5V4H8cXjgLTdshHEhagQVSSIPl5/9kt+80VFKojC5b5eENoKGGz7io4RILntGu+cLSc6nbD7UrAz33cKoMU5Xei71zYhs0J0P3TLSGtHgIKo0EF5FzLAsk1P3PULIiwzzRcVsSCCKIHoCas6aPO2Y0GU2z5ka0gQLfedgmiX78DA95WC6FiaaRv/Y7Hj6HUhQEE0cIA96sAux9WkHxI7KhyG1PcWRKiwhMtdsYCBiEjOY0LVCoIO5zkl2Ft7dn8jejAexrKfUTGDbZxDlNn+1lerJmwFFSInkmB/0ncKIpm/e31um5BZIaqLEunNPSNAQZSQck3EBtHjr+5ChSM5yTkRAujrz8cJKyxJ/8lziIJzhsJzmZxQMOc3xcLDn4ujSUuf/5S09/hD7Og4IVr0PITbO/X4pK+6C9oRs7Y9uX3EFuyEgkj7NRVb1blTUx5v60ubgshcdt9/L/r8Nd/xFi+/bxP/e6Z9xp5DgIKIpNb0Yxv2qkJwnG1FzS34kpBzh/d9thP/fXDmKNsjQEFEQURBxBxoOgdIyNsTxdgIxH8MHba1hAAFEcmwaTK8pbLAvvVWfZbMDQn5WMoh/sfiz9HLIUBBREFEQcQcaDoHSMjlCGGNJeK/BjX2qRGBRBDp5OY/MWAOMAeYA8yBuTlQI7nRJyKwFIFIEC3tzP2JABEgAkSACBABIvAdEKAg+g6zyBiIABEgAkSACBCBmxD4H5w3WnvnsRwaAAAAAElFTkSuQmCC)"
      ]
    },
    {
      "cell_type": "markdown",
      "metadata": {
        "id": "CxARcOBP0DrX"
      },
      "source": [
        "c)\n",
        "\n",
        "![image.png](data:image/png;base64,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)"
      ]
    },
    {
      "cell_type": "code",
      "metadata": {
        "id": "mnMzvg3AWoav"
      },
      "source": [
        "from scipy.spatial.distance import jaccard, russellrao, euclidean\n",
        "\n",
        "C = [[1,0,1,0,1,1]]\n",
        "D = [[0,0,1,0,0,1]]\n",
        "\n",
        "def binarize(X,Y=None):\n",
        "    ''' Force binary representation of the matrix, according to X>median(X) '''\n",
        "    if Y==None:\n",
        "        X = np.matrix(X)\n",
        "        Xmedians = np.ones((np.shape(X)[0],1)) * np.median(X,0)\n",
        "        Xflags = X>Xmedians\n",
        "        X[Xflags] = 1; X[~Xflags] = 0\n",
        "        return X\n",
        "    else:\n",
        "        X = np.matrix(X); Y = np.matrix(Y);\n",
        "        XYmedian= np.median(np.bmat('X; Y'),0)\n",
        "        Xmedians = np.ones((np.shape(X)[0],1)) * XYmedian\n",
        "        Xflags = X>Xmedians\n",
        "        X[Xflags] = 1; X[~Xflags] = 0\n",
        "        Ymedians = np.ones((np.shape(Y)[0],1)) * XYmedian\n",
        "        Yflags = Y>Ymedians\n",
        "        Y[Yflags] = 1; Y[~Yflags] = 0\n",
        "        return [X,Y]"
      ],
      "execution_count": 3,
      "outputs": []
    },
    {
      "cell_type": "code",
      "metadata": {
        "colab": {
          "base_uri": "https://localhost:8080/"
        },
        "id": "Dow0YfGsubZR",
        "outputId": "3e2f4df6-8ad4-4575-e76b-447dcb508e7c"
      },
      "source": [
        "X = C\n",
        "Y = D\n",
        "N1, M = np.shape(X)\n",
        "N2, M = np.shape(Y)\n",
        "X,Y = binarize(X,Y);\n",
        "sim = ((X*Y.T)+((1-X)*(1-Y).T))/M\n",
        "sim"
      ],
      "execution_count": 4,
      "outputs": [
        {
          "output_type": "execute_result",
          "data": {
            "text/plain": [
              "matrix([[0.66666667]])"
            ]
          },
          "metadata": {
            "tags": []
          },
          "execution_count": 4
        }
      ]
    },
    {
      "cell_type": "code",
      "metadata": {
        "colab": {
          "base_uri": "https://localhost:8080/",
          "height": 80
        },
        "id": "QiEMGZ8tvAM4",
        "outputId": "d1c850ce-642a-44ab-e3ee-7a9f71d8deb7"
      },
      "source": [
        "distancias = [[jaccard(C,D),russellrao(C,D),sim ]] ##, correlation(A,B), chebyshev(A,B)]]\n",
        "d3 = pd.DataFrame(distancias,columns=['Jaccard','RussellRao','smc'])   #,'Correlacion','Chebyshev'])\n",
        "d3"
      ],
      "execution_count": 5,
      "outputs": [
        {
          "output_type": "execute_result",
          "data": {
            "text/html": [
              "<div>\n",
              "<style scoped>\n",
              "    .dataframe tbody tr th:only-of-type {\n",
              "        vertical-align: middle;\n",
              "    }\n",
              "\n",
              "    .dataframe tbody tr th {\n",
              "        vertical-align: top;\n",
              "    }\n",
              "\n",
              "    .dataframe thead th {\n",
              "        text-align: right;\n",
              "    }\n",
              "</style>\n",
              "<table border=\"1\" class=\"dataframe\">\n",
              "  <thead>\n",
              "    <tr style=\"text-align: right;\">\n",
              "      <th></th>\n",
              "      <th>Jaccard</th>\n",
              "      <th>RussellRao</th>\n",
              "      <th>smc</th>\n",
              "    </tr>\n",
              "  </thead>\n",
              "  <tbody>\n",
              "    <tr>\n",
              "      <th>0</th>\n",
              "      <td>0.5</td>\n",
              "      <td>0.666667</td>\n",
              "      <td>[[[[[0.66666667]]]]]</td>\n",
              "    </tr>\n",
              "  </tbody>\n",
              "</table>\n",
              "</div>"
            ],
            "text/plain": [
              "   Jaccard  RussellRao                   smc\n",
              "0      0.5    0.666667  [[[[[0.66666667]]]]]"
            ]
          },
          "metadata": {
            "tags": []
          },
          "execution_count": 5
        }
      ]
    },
    {
      "cell_type": "markdown",
      "metadata": {
        "id": "uHIVpeaevvIY"
      },
      "source": [
        "# K-means"
      ]
    },
    {
      "cell_type": "markdown",
      "metadata": {
        "id": "-ZkdXxNaJP5m"
      },
      "source": [
        "##**Ejercicio 3**\n",
        "\n",
        "Usar el algoritmo k-means y distancia Euclidean para agrupar los siguientes puntos en 3\n",
        "\n",
        "grupos: A1=(2,10), A2=(2,5), A3=(8,4), A4=(5,8), A5=(7,5), A6=(6,4), A7=(1,2), A8=(4,9). Asumir los centroides iniciales: A1, A4 and A7.\n",
        "\n",
        "a) Correr una iteración y mostrar: <br />\n",
        "\n",
        "> 1) Los nuevos grupos <br />\n",
        "\n",
        "![image.png](data:image/png;base64,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)\n",
        "\n",
        "> 2) Los nuevos centroides <br />\n",
        "\n",
        "**RESPUESTA:** los nue(1,2) , (6,4), (7,4)\n",
        "\n",
        "b) Iterar más. ¿Cuantas iteraciones se necesita para converger? <br />\n",
        "\n",
        "**RESPUESTA:** se rqequieren 3 iteraciones para converger.\n",
        "\n",
        "c) Mostrar gráficamente (los puntos y centroides) al converger: <br />\n",
        "\n",
        "> 1) grupos finales <br />\n",
        "\n",
        "![image.png](data:image/png;base64,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)\n",
        "\n",
        "> 2) centroides finales <br /> \n",
        "\n",
        "**RESPUESTA:** CENTROIDES (1,2) , (3,8) , (7,4)"
      ]
    },
    {
      "cell_type": "code",
      "metadata": {
        "id": "izv70RlQzuFU"
      },
      "source": [
        "from sklearn.cluster import KMeans\n",
        "import numpy as np\n",
        "\n",
        "Centroid_init = np.array([[2,10],[5,8],[1,2]])\n",
        "#print(Centroid_init)\n",
        "points = np.array([[2,10], [2,5], [8,4], [5,8], [7,5], [6,4], [1,2], [4,9]])\n",
        "#kmeans = KMeans(n_clusters=3,init=Centroid_init, random_state=i,n_init=1).fit(points)\n",
        "#print(kmeans.cluster_centers_)\n",
        "all_clusters,all_preds=simple_kmeans(points,3)"
      ],
      "execution_count": 52,
      "outputs": []
    },
    {
      "cell_type": "code",
      "metadata": {
        "id": "nbuyoSJWqo3t"
      },
      "source": [
        "# Definición de una funcion del simplekmeans para ver por iteraciones\n",
        "from sklearn.metrics.pairwise import euclidean_distances\n",
        "def simple_kmeans(X,k, iter=100):\n",
        "    # Inicializacion de los primeros centroides\n",
        "    init_clus=np.random.choice(np.arange(points.shape[0]),replace=False, size=k)\n",
        "    #print(init_clus)\n",
        "    clusters=X[init_clus]\n",
        "    preds=np.argmin(euclidean_distances(points,clusters),axis=1)\n",
        "    all_clusters=[clusters.copy()]\n",
        "    all_preds=[preds]\n",
        "    for i in range(iter):\n",
        "        for clus in range(k):\n",
        "            clusters[clus]=X[preds==clus].mean(axis=0)\n",
        "            all_clusters.append(clusters.copy())\n",
        "            preds=np.argmin(euclidean_distances(points,clusters),axis=1)\n",
        "            all_preds.append(preds.copy())\n",
        "    return all_clusters,all_preds\n",
        "\n",
        "all_clusters,all_preds=simple_kmeans(points,5)"
      ],
      "execution_count": 15,
      "outputs": []
    },
    {
      "cell_type": "code",
      "metadata": {
        "colab": {
          "base_uri": "https://localhost:8080/",
          "height": 391
        },
        "id": "8oTbZooszw_w",
        "outputId": "e080b1a8-8fa9-49a0-c226-a491bca97d86"
      },
      "source": [
        "iteration=5 #@param {type:\"slider\", min:0, max:5, step:1}\n",
        "plt.figure(figsize=(6,6))\n",
        "plt.scatter(points[:,0],points[:,1],c=all_preds[iteration])\n",
        "plt.scatter(all_clusters[iteration][:,0],all_clusters[iteration][:,1],c=\"r\")"
      ],
      "execution_count": 53,
      "outputs": [
        {
          "output_type": "execute_result",
          "data": {
            "text/plain": [
              "<matplotlib.collections.PathCollection at 0x7efddf9b4d90>"
            ]
          },
          "metadata": {
            "tags": []
          },
          "execution_count": 53
        },
        {
          "output_type": "display_data",
          "data": {
            "image/png": "[encoded data removed]",
            "text/plain": [
              "<Figure size 432x432 with 1 Axes>"
            ]
          },
          "metadata": {
            "tags": [],
            "needs_background": "light"
          }
        }
      ]
    },
    {
      "cell_type": "markdown",
      "metadata": {
        "id": "kmFcElL-v7i9"
      },
      "source": [
        "# Determinar el número de k\n",
        "La distancia intra-cluster mide qué tan compacto es cada cluster, ecisten varias medidas intra-cluster, una de ellas se define como:\n",
        "\n",
        "\n",
        "\n",
        "$$\\sum_{i=0}^{n}\\min_{\\mu_j \\in C}(||x_i - \\mu_j||^2)$$\n",
        "\n",
        "k-means minimiza esta medida, y se utiliza para medir la calidad del cluster. El método consiste en  ejecutar varias veces el k-means con diferentes valores de k,  y graficar el valor de la inercia para cda k. La grafica resultante es una curva que desciende (a myor número de grupos menor la inercia). En esta gráfica se busca un valor de k tan pequeño como sea posible y que tenga un valor de la métrica bajo. A este tipo de gráfica se le conoce usualmente como gráfica de codo o *elbow*:"
      ]
    },
    {
      "cell_type": "code",
      "metadata": {
        "id": "49IgwKH2v8CY",
        "colab": {
          "base_uri": "https://localhost:8080/",
          "height": 279
        },
        "outputId": "b4fd8302-9e9c-49e1-fe0e-3832ca3bf162"
      },
      "source": [
        "points = np.array([[2,10], [2,5], [8,4], [5,8], [7,5], [6,4], [1,2], [4,9]])\n",
        "\n",
        "Sum_of_squared_distances = []\n",
        "K = range(2,9)\n",
        "for k in K:\n",
        "    km = KMeans(n_clusters=k)\n",
        "    km = km.fit(points)\n",
        "    Sum_of_squared_distances.append(km.inertia_)\n",
        "    \n",
        "plt.plot(K, Sum_of_squared_distances, 'bx-')\n",
        "plt.xlabel('k')\n",
        "plt.ylabel('SSE')\n",
        "plt.show()\n"
      ],
      "execution_count": 17,
      "outputs": [
        {
          "output_type": "display_data",
          "data": {
            "image/png": "[encoded data removed]",
            "text/plain": [
              "<Figure size 432x288 with 1 Axes>"
            ]
          },
          "metadata": {
            "tags": [],
            "needs_background": "light"
          }
        }
      ]
    },
    {
      "cell_type": "markdown",
      "metadata": {
        "id": "4vfO3d-12iFi"
      },
      "source": [
        "\n",
        "##**Ejercicios: 4, 5 y 6**\n",
        "\n",
        "**4.**  Calcular la gráfica del codo para el ejemplo 1 (calificaciones de películas)\n",
        "\n",
        "![image.png](data:image/png;base64,iVBORw0KGgoAAAANSUhEUgAAAX4AAAEGCAYAAABiq/5QAAAgAElEQVR4Ae2dCdhVVbnH/8ikgCDgEA6fSJqWlsOnoYboNTNzzGwwu1pmUnq9aaY3vFbqJTPAa1ZqTpfMDHNowMJC5WbmLKioqCihITnixFUUgd77vK19YnM43/nOOd8+Zw/nt57ne/a41n7X793ff+/zrr3WkkgQgAAEIAABCEAAAhCAAAQgAAEIQAACEIAABCAAAQhAAAIQgAAEIAABCEAAAhCAAATqJjB8+HDr7OzkDwbcA9wD3AN13AOSXqpbcLOSwUWfBAEIQAAC9RGQNCsrOl63HQh/fc7mbAhAAAJOAOHnPoAABCDQZgQQ/jZzONWFAAQggPBzD0AAAhBoMwJpCf96kq6X9LikxyTtJmmYpJslPRkth3YX9CfG32Z3K9WFAAQSIZCW8P9U0pciYe8nyR8EkySNj/b5cmIzhP+qq8w239ysV6+w9G0SBCAAgXYikIbwD5H0lKReZcI+T9KIaJ8vfbtqqveN30V+wABv0V7159uIfzvd8tQVAhBIQ/h3kHSvpCskPSDpckkDJb0WU3l/KMS3Y4c0LjJ6VkdHR10e9Df9uOiX1n0/CQIQgEC7EEhD+HeWtELS6EjNfyBpQgWhfzWu9pXW633j9/BOSezjS99PggAEINAuBNIQ/ndJejom5HtImh6Fdpoa6uGNv11ua+oJAQhUI5CG8Lvm/1nS1pH4nylpcvQXb9z1xt6qqd43fmL81W4FjkEAAu1CIC3h9zi/jxXxkKTfSPJPN4dLmhl9znlL9HlnosLvTnXxL7359+lDw2673OjUEwIQWEUgLeGvKui1Hqz3jX9Vtc0uvDDE++fOje9lHQIQgEDxCbSt8C9aFIT/7LOL72RqCAEIQCBOoG2F3yF88INmu+wSx8E6BCAAgeITaGvh/+53w1v/M88U39HUEAIQgECJQFsL/6OPBuG/4IISDpYQgAAEik+grYXf3bv11mb77FN8R1NDCEAAAiUCbS/83/iGmX/W+corJSQsIQABCBSbQNsL/113hXAPA7UV+0andhCAwCoCbS/8K1eajRhhdthhq6CwBgEIQKDIBNpe+N25X/mK2cCBZkuXFtnV1A0CEIBAIIDwm9kf/hDCPb/9LbcFBCAAgeITQPjNbNkys8GDzY45pvgOp4YQgAAEEP7oHjj8cLMNNjBbsYKbAgIQgECxCSD8kX+vuSaEe267rdgOp3YQgAAEEP7oHnj9dbN+/cxOPpmbAgIQgECxCSD8Mf9+7GNmo0aZ/f3vsZ2sQgACECgYAYQ/5tBLLgnhnjlzYjtZhQAEIFAwAgh/zKHPPWfmE6+fdVZsJ6sQgAAECkYA4S9z6O67m+24Y9lONiEAAQgUiADCX+bMSZNCuOfpp8sOsAkBCECgIAQQ/jJHPvFEEP7zzy87wCYEIACBghBA+Cs4ctttzfbaq8IBdkEAAhAoAAGEv4ITTz/dbK21zBYvrnCQXRCAAARyTgDhr+DA++4L4Z4rrqhwkF0QgAAEck4A4a/gQO/AtemmZoccUuEguyAAAQjknEBawv+0pIclPRgzYJikmyU9GS2HqpvU2dnZNPwnnGC2zjpmb77ZtEtQMAQgAIFUCMR0txuVTfawC//6ZUVOkjQ+2ufLiWXH19hspvDfcksI9/z616n4hYtCAAIQaBqBLAn/PEkjInX3pW9XTc0U/nfeMRs61Ozzn28aewqGAAQgkAqBtIT/KUn3S5otaVyk7q/FVL6XpPh27NA/zp/lhnd0dDQV2pFHmg0bZrZ8eVMvQ+EQgAAEWkogLeHfJFLyDSXNkTS2gtC/Glf7SuvNfON3L/zylyHc87//21KfcDEIQAACTSWQlvDHdfxMSadEoZ3MhHqc+htvmK29ttlXv9pUH1A4BCAAgZYSSEP4B0paN1J+X79T0n6SJpc17npjb9XU7Dd+98RBB5l5RIkx+lt6X3IxCECgiQTSEP5RUXjHQzxzJZ0eqftwSTOjzzlvkeSfd1ZNrRD+KVNCuGf27CZ6gaIhAAEItJBAGsJfVczrOdgK4X/xxTB8w7e+1UKvcCkIQAACTSSA8NcAd+xYs/e/v4YTOQUCEIBADggg/DU46bzzQrhn/vwaTuYUCEAAAhkngPDX4KAFC4Lwn3tuDSdzCgQgAIGME0D4a3TQ9tubjRlT48mcBgEIQCDDBBD+Gp1zxhlhIvYXXqgxA6dBAAIQyCgBhL9GxzzwQAj3XHZZjRk4DQIQgEBGCSD8NTrGO3CNHGl2wAE1ZuA0CEAAAhklgPDX4ZiTTjLr399syZI6MnEqBCAAgYwRQPjrcMitt4Zwz3XX1ZGJUyEAAQhkjADCX4dDfHjm4cPNjjiijkycCgEIQCBjBBD+Oh1y9NFmQ4aYLVtWZ0ZOhwAEIJARAgh/nY6YNi2Ee266qc6MnA4BCEAgIwQQ/jodsXSp2YABZscfX2dGTocABCCQEQIIfwOOOPRQs403Nlu5soHMZIEABCCQMgGEvwEHXHllCPfcc08DmckCAQhAIGUCCH8DDnj5ZbPevc1OO62BzGSBAAQgkDIBhL9BB+y9t9l739tgZrJBAAIQSJEAwt8g/B/9KIR7Hn+8wQLIBgEIQCAlAgh/g+AXLgzC/73vNVgA2SAAAQikRADh7wH4zk6zXXftQQFkhQAEIJACAYS/B9AnTAhv/c8+24NCyAoBCECgxQQQ/h4Af+SRIPw//nEPCiErBCAAgRYTQPh7ANzH6N9yS7OPfrQHhZAVAhCAQIsJIPw9BH7KKWZ9+5q99loPCyI7BCAAgRYRSFP4e0t6QNLvFNIWku6RNF/SNZL6Rfu7XHR662rK6fbbQ7jn6qtTNoTLQwACEKiRQJrCf7KkqTHhv1bS4ZHKXyzpuC4VPzqQBeFfscJso43MPv3pGolzGgQgAIGUCaQl/JtKmilp70j4e0laLKlPpOm7SZqRB+F3/x17rNmgQWZvv52yN7k8BCAAgRoIpCX810vqlLRXJPzrRyGektZvJumR0kZXyyy88Tvj6dNDuOfGG2sgzikQgAAEUiaQhvAfKOmiSMwbEf5xkdGzOjo6UsYXLv/WW+GNf9y4TJiDERCAAASqEkhD+M+RtEjS05Kel7RU0s/zHOpxwh7j91i/x/xJEIAABLJMIA3hj0duSm/8vu+6ssbd4+MnVlrPSqjHHTx1agj33HFHlt2NbRCAAARcqzSrkqa2al9c+EdJujeK9ftDoH93RmRJ+P07fv+e/9RTua0gAAEIZJtA2sLfnbZXPZ4l4Xc377tv6MnrPXpJEIAABLJKAOFP0DM+Zo9k5mP4kCAAAQhklQDCn6Bn/va3IPzf+U6ChVIUBCAAgYQJIPwJAx092mznnRMulOIgAAEIJEgA4U8Qphd1zjnhrd9n6CJBAAIQyCIBhD9hr/gcvB7n9zl5SRCAAASySADhb4JXttnG7MMfbkLBFAkBCEAgAQIIfwIQy4sYP96sd2+zV14pP8I2BCAAgfQJIPxN8MHdd4dwz89+1oTCKRICEIBADwkg/D0EWCn7ypVmG29s9olPVDrKPghAAALpEkD4m8T/uOPMBgwwW7q0SRegWAhAAAINEkD4GwTXXbYZM0K454YbujuT4xCAAARaSwDhbxLvZcvMhgwxO/roJl2AYiEAAQg0SADhbxBcLdmOOMJs+HCz5ctrOZtzIAABCLSGAMLfRM7XXhvCPX/6UxMvQtEQgAAE6iSA8NcJrJ7Tlywx69/f7GtfqycX50IAAhBoLgGEv7l87YADzEaONGOM/iaDpngIQKBmAgh/zagaO/Gyy0K458EHG8tPLghAAAJJE0D4kyZaVt7zz5v16mV25pllB9iEAAQgkBIBhL8F4D/0IbMddmjBhbgEBCAAgRoIIPw1QOrpKeeeG8I9Cxb0tCTyQwACEOg5AYS/5wy7LeHJJ4Pwf//73Z7KCRCAAASaTqBR4R+srlNH14eSPdLZ2dl0QEldYLvtzPbcM6nSKAcCEIBA4wQaFf77YxI+M7buq/FjZYeS3cyT8H/zm2ZrrWX20kuNO4ucEIAABJIg0KjwPxCT8Pi67y7fjp2a7GqehH/27BDumTIlCbdRBgQgAIHGCTQq/PG3+vi6K3v5drnary3pXklzJM2VdFZ0whaS7pE0X9I1kvqVZyzfzpPweweuzTYzO/jgxp1FTghAAAJJEGhU+BdJOlnS1yWV1kvbz5QLdNl2L0mDon19I7HfVdK1kg6P9l8s6biyfGts5kn43Vn//u9ma69t9sYbSbiOMiAAAQg0RqBR4T9DUrW/NUS6ix0Dol8IoyUtltQnOm83STO6yPPP3XkT/pkzQ7jnV79qzFnkggAEIJAEgUaF/5/i2+BKb0kPSnpD0kRJ60chnlJxm0l6pLTR1TJvwu/DMw8danbkkUm4jjIgAAEINEagUeE/VtJWkSB76GaKpNclPSRpx66EusL+9ST9UdKYOoR/XGT0rI6OjsZqnWKuo44K4v/OOykawaUhAIG2JtCo8PvbuMfnPR0habak4ZL2kfTnaH+ti29LOrUdQj1+p3mYRzLzsA8JAhCAQBoEGhV+D9OU0lRJJ5Y2aviqZwNJ/qbvaZ3oQXGgpOvKGnePj87pcpG3UI872Bt2vYHXG3pJEIAABNIg0Kjw+yebIyT5p5kvSNo2ps6PxdYrrX4g+tbfw0L+y8Hf+D2Nij7z9M85/SHQP9rf5SKPwu9OPuSQ8GknY/SncctzTQhAoFHh9zf0v0l6XtJlMWXeU9L02HZTV/Mq/D/5SQj3zJrFDQgBCECg9QQaFf5dJPmYPEMjZT9K0jRJl0rapKlqHys8r8Lvwzb48A0+jAMJAhCAQKsJNCr8HuoZFmnwWEnPSjpM0gRJ18e0uamreRV+d7IP2OYDt5EgAAEItJpAo8Lvwy2U0oWSzixtRN/nxzabt5pn4T///BDu8SGbSRCAAARaSaBR4fdG2VIv28cl+Vt/KXXb8ap0Yk+XeRb+p54Kwj95civdzbUgAAEIuPZoViP6e7qkO6K4vo/G6Z24PG0Z7Y82m7vIs/D7zefTMfq0jCQIQAACrSTQqPC7ovvAaodKGhiT9/dI2im23dTVvAv/WWeFidh9QnYSBCAAgVYR6InwN1XUayk878I/Z04I91x6aavczXUgAAEINB7qqUWXm35O3oXfO3BtsYXZ/vtzK0IAAhBoHQHe+FvHuuKVvvY1s379zJYsqXiYnRCAAAQSJ4DwJ460vgJvuy2Ee669tr58nA0BCECgUQIIf6PkEsq3YoXZ+uubffazCRVIMRCAAAS6IYDwdwOoFYe/+EWzwYPNli1rxdW4BgQg0O4EEP4M3AE33BDCPTNmZMAYTIAABApPAOHPgIuXLjUbONDsuOMyYAwmQAAChSeA8GfExYcdZjZihNnKlRkxCDMgAIHCEkD4M+Lan/0shHvuvjsjBmEGBCBQWAIIf0Zc+8orZn36mI0fnxGDMAMCECgsAYQ/Q67dZx+zbbbJkEGYAgEIFJIAwp8ht15wQQj3PPZYhozCFAhAoHAEEP4MuXThwiD855yTIaMwBQIQKBwBhD9jLt15Z7PRozNmFOZAAAKFIoDwZ8ydZ58d3voXLcqYYZgDAQgUhgDCnzFXzp0bhP+iizJmGOZAAAKFIYDwZ8yVPkb/VluZ7btvxgzDHAhAoDAEEP4MuvLUU8M3/a++mkHjMAkCEMg9gTSEfzNJf5T0qKS5kk6MpuoaJulmSU9Gy6HdTeGV9xm4urp77rwzhHt+/vOuzmA/BCAAgcYJpCH8I2ITsq8r6QlJ75M0SdL4SOx9ObFdhd/H69loI7NPfapxx5ITAhCAQFcE0hD+cj2fJukjkuZJ8oeCJ1/6dtVU1Dd+d9a4cWaDBpm99VZXrmM/BCAAgcYIpC38IyUtlDRY0msxle9Vth07pHGR0bM6Ojoaq3UOct14Ywj3TJ+eA2MxEQIQyBWBNIV/kKTZkj4RqXpc+H3Xq3G1r7Re5Df+t982W3ddsy99KVf3E8ZCAAI5IJCW8PeVNEPSyTFBJ9RTdsN85jNmG25o5vPykiAAAQgkRSAN4fcwzpWSzo+Jvq9OLmvc9cbeqqnIb/zu4KuvDuGe229Pyt2UAwEIQMB1RbOqimsTDo6R5Bd+SNKD0d/+koZLmhl9znmLJP+8s2oquvC//rpZ375mp5zCrQoBCEAgOQJpCH9VMa/nYNGF3928335m7363mffoJUEAAhBIggDCnwTFJpZx8cUh3PPww028CEVDAAJtRQDhz7i7n33WrFcvswkTMm4o5kEAArkhgPDnwFW77WbW2ZkDQzERAhDIBQGEPwdumjgxhHv++tccGIuJEIBA5gkg/Jl3kdm8eUH4f/jDHBiLiRCAQOYJIPyZd1Ew8L3vNdt775wYi5kQgECmCSD8mXbPKuP+8z/Nevc2e/nlVftYgwAEINAIAYS/EWop5Ln33hDu+elPU7g4l4QABApFAOHPiTt9jP5NNjE79NCcGIyZEIBAZgkg/Jl1zZqGHX+82TrrmL355prH2AMBCECgVgIIf62kMnDezTeHcM+0aRkwBhMgAIHcEkD4c+S6d94xGzLE7AtfyJHRmAoBCGSOAMKfOZdUN+hznzMbPtxs+fLq53EUAhCAQFcEEP6uyGR0/3XXhXDPrbdm1EDMggAEMk8A4c+8i1Y38P/+z6x/f7OTTlp9P1sQgAAEaiWA8NdKKkPnHXig2eabM0Z/hlyCKRDIFQGEP1fuCsZefnkI9zzwQA6Nx2QIQCB1Agh/6i6o34AXXjBbay2zM86oPy85IAABCCD8Ob0H9tjDbPvtc2o8ZkMAAqkSQPhTxd/4xf/7v0O4Z8GCxssgJwQg0J4EEP6c+n3+/CD8552X0wpgNgQgkBoBhD819D2/8Kabhk87fU5e/8rnqqt6XiYlQAACxSeA8OfUxy7yffuGt34pLAcMQPxz6k7MhkBLCSD8LcWd3MX8Db8k+PGl7ydBAAIQqEYgDeGfIulFSY9oVRom6WZJT0bLoasOdb3W2dlZrW6FPubhnbjgx9d/8QuzV18tdPWpHAQg0AMCaQj/WEk7lQn/JEnjI4n35cSu5X7VkXYW/q7e+P37fn8I+DSNY8eaTZpkNncuvXx78D9CVggUjkAawu/KPbJM+OdJGhFJui99u9vUzsLvMX6P6cff9H37yivN7rzTzOfo9e/8S8dHjjT7t38zu/FGs7feKtx9TIUgAIE6CGRF+F+LqXwvSfHt2KF/rI6LjJ7V0dFRR1WLd6qLv7/5V/uq55lnzC65xOygg1Y9KHwWLx/v5+KLzRYuLB4XagQBCFQnkEXhd3V/tVztK2238xt/dbdWPupv+r//vdkJJ5htscWqXwMf+IDZaaeZ3XGH2YoVlfOyFwIQKA6BrAg/oZ4W31N//7vZo4+GNoA99wxtAh4W8klefLKXqVPNXn65xUZxOQhAoCUEsiL8k8sad72xt9vEG39y94h/BXTNNWZHHWW2/vrh14A3FI8ZY3bOOWYPP0wDcXK0KQkC6RJIQ/ivlvScpOWSFkk6RtJwSTOjzzlvkeSfd3abEP7m3Dwe7rnrLrNvftNsxx1XhYS8SeW448x+9zuzpUubc21KhQAEmk8gDeHvVtBrPQHhb/4N4ldYtMjs0kvNDjnEbODA8CDwBuIDDjC76CKzv/61NXZwFQhAIBkCCH8yHNumlLffNpsxw+yrXzUbNWrVr4HttjP7xjfMbruNieDb5magorklgPDn1nXpG+4NxI89ZnbuuWb/8i9mffqEB8HQoWaf/WwYN2jx4vTtxAIIQGB1Agj/6jzY6gGB114zu+46s89/3mzDDcNDwBuId9/d7LvfNZszhwbiHuAlKwQSI4DwJ4aSguIEVq40u+ces29/28yHVCr1IN5sM7Mvf9nshhvM3nwz5KilI1q8bNYhAIGeEUD4e8aP3DUSePZZM58k/tBDzQYNCg+C/v3NvPMYw0vXCJHTIJAQAYQ/IZAUUzsBbyC++Wazk05a1S5Q+kVQWnpfglmzzJYsqb1czoQABGojgPDXxomzmkSg2vDSpYfAxhuHxuOvfMXs+98PA8395S8ML9Ekl1BsGxBA+NvAyVmuYlfDS48YYfarX4Vew1/4gtluu5kNG7aqrcAfCv36mb3vfSF8NH682U9+EkYmZaiJLHsc27JAAOHPghfa2Iauhpf2/ZXSSy+Z3X672f/8j9l//EfoVLbNNmu2E3io6EMfMvviF80mTjT7zW/Cp6fvvFOpVPZBoL0IIPzt5e9M1jaJr3qWLzd74gmz3/429Cs49tgwEc1GG63+K8EnqNlqqzAs9de/Hnok/+lPZs8/z6emmbw5MKopBBD+pmCl0CwR8AHo/NNSn6Tm9NPNPvlJs/e/32zttVd/KAwZYvbBD5odeaTZd74T+iQ89BAT12TJl9iSDAGEPxmOlJJDAt7X4KmnzP7wB7Mf/MDs+OPNPvxhs003Xf2B4A3QPoPZRz8ahqq48EKzW24Jk9h47+V4SuLXS7w81iHQDAIIfzOoUmbuCbzxhtn995tdfbXZmWeGISh22mlVH4TSF0c+3eUOO5h95jOhkdkbnEvHfOnHu2qvyD0kKpBbAgh/bl2H4WkQ8Dd8H6105swwMumJJ5p97GOrD1gXF35f945qn/pU+LXgcxtccUUY6M7DSN5YXf6rIY16cc32IoDwt5e/qW0TCVTrk7D11mbrrrv6r4HSA8J7LvtQFqNHm33842HOg//6L7PLLgtzH8yebeY9n5kWs4nOa7OiEf42czjVbR6Brvok+P5S8hDSk0+G4at9xrPzzw/DWfvMZx/5iJkPb+3TX5YeCvGlD3j3rneFyXH239/smGPCZDne5vDrX5vdfXeYG2HZstLVWEKgMgGEvzIX9kKgbgIey/eYflysG43x+7AWPsGNi7mLuou7z4jmYu+i7zOj+UPAHwbx65XW/eHhDxF/mPhDxedK8IeMP2x8zgR/+PhDqFqioboanXwfQ/jz7T+szxiBVoulh388DOThIJ8S08NDHibyKTI9bOThIw8jlQ+EV3pAePjpPe8x22uv0IB98slmkyeH/N42UTrPl40+xDLmIswx96tm1TrTYebOY+pF7mEI1EbAG5C9IdkblH0GNW9g9oZmn0nNG57HjDF797vX/MUSF35f94fBYYeZnXCC2dlnm02ZYvb734e5Fl580cw/kSVlnwDCn30fYSEEWkbAHxCvv25WraHah8jwzm7lDwXf9lnYvB/ELruYHXxwmHvBP4e95JIwB8N994WvorynNSk9Agh/euy5MgQyS6CWhmqfSMdHSfWxk3zmtR/+0Oy008x8UD3v7Oa9o33MpEoPCH+w+Cxt229vtt9+ZkcfHXpVX3CB2S9/GQbb8851b72VWUS5Ngzhz7X7MB4CzSGQZEO1f2W0cGEYNsMHy/vxj8PMbD6e0oEHhhnafOhtH0ep0kPC53D2UVi9V/W//qvZqaeanXde6Fx3661m8+Z1P29Dq9temuOV5EpF+JNjSUkQKBSBVoulN1T7YHneY3r69DBj24QJYSgNn7lt113N/JdIee/o0sPCZ3bzAfjGjg09qX2iHx+Z1edxoKF69VsT4V+dB1sQgEDGCXg7hM+58MgjYSY3H3zPBd57UX/602Z77GG25ZZmAwdW/gVRelD4p7D+S2L33c0OOCD8mvBG6299K/yi8IZr/5TWf1XMmRM+r/UZ4YrQ0zprwr+fpHmS5ksa391nRHzVk/H/UMyDQMoEXKirNVT7F0p77x36RfhAfOutV/18f2h4SMr7SfjDxRuxva+EP3C+/OXQX+J73wuN2ddea3bTTWbeoD1/vtnixT3vfZ3Ur7AsCX9vSX+RNEpSP0lzJL2vmvgj/Cn/V3F5COSAQC0N1fFqeMjplVfMFiwI/SN8JNbrrw99JCZNCg3Y3k/i8MNDI7b3lfC+EBts0PUc0qVfGb4cPNisoyM0bHv/Ce9v4Y3b3ofCQ1s/+lEY2M/DXXfcYfboo2bPPRdmmEuqg2CWhH83STNiQn+aJP/rMiH88duVdQhAoBKBJBuqK5Uf3+dhIO8R/cwzoc+E95KeNi30m/Ce02ecEfpO+JwPBx0U+k9su63ZJpt034ci/vCIr8eHBInbUm09S8L/SUmXx1T+SEkXxLZLq+Mio2d1+GOTBAEIQKAbAkmFSLq5TI8P+xdQL7xg9vjjZnfdZXbjjWZTp4YhO+JiH1/3UFa9KY/CX3oAiDf+et3N+RCAQF4J1BuyqlbPLAk/oZ5qnuIYBCDQ1gSSDFllSfj7SFogaYtY4+62/3y9r7DCG39b/x9QeQi0HYGkQlZZEn6X9v0lPRF93XN6Ba1fbRfC33b3PRWGAAQSIJA14V9N2LvbQPgTuAMoAgIQaDsCCH/buZwKQwAC7U4A4W/3O4D6QwACbUcA4W87l1NhCECg3Qkg/O1+B1B/CECg7QjkWvglvRRVwOePrPfv6Qby1HuNVp1flLoUpR7ud+pS//9kK/5fiuKXntbDtbMtk99kRUlFqUtR6uH3FXXJ5n9XUfxSlHq0/C4pErii1KUo9UD4W/7vXPMFi3KPFaUeNTsuqROLBK4odSlKPfwepS5J/acmW05R/FKUeiTr3RpK81E+i5KKUpei1MPvK+qSzf+uovilKPXI5l2CVRCAAAQgAAEIQAACEIAABCAAAQhAAAJZJjBF0ouSHsmykTXYtpmkP0p6VNJcSSfWkCerp6wt6d5onmWvy1lZNbQOu3wO6Qck/a6OPFk81b8Xf1jSgzlvsF5P0vWSHpf0mCSf/yOPaevIF+4P/1si6aQ8VqTVNo+VtFMBhH9EVA/nt240nHXVyelbDbqO6/WSNCg6v6+keyTtWkf+LJ56sqSpBRH+9bMIuE6bfirpS1GefpL8QZD35C8Xz0vaPO8VaZX9Iwsg/OWspkn6SPnOHG4PkHS/pNE5tL1k8qaSZkraG+EvISQIbyMAAAJ/SURBVEl1OUTSU5L8BaNIaV9JdxSpQs2uS9GE3+uzUNLgZoNrYvn+9uI/Xd+QNLGJ12lF0R5S6JS0VwGE3wXTH8Szc/yJ6g5RKPGKKPx2uaSBrbgRmnwND1uf0ORrFKr4Igm/h0j8n/ITBfGQ/wT3tovtclqfAyVdFNleBOHfJKrLhlEbjIdK85Z2lrQi9ivyB5Im5K0SZfZ6uGqxpI3K9rNZhUBRhN/j4TMkeTy5SOnbkk7JaYXOkbQoGqTN469LJV2V07qUm31mTv3yrsgfpfrsIWl6aSOny0Mk3ZRT21MzuwjC7/HKKyWdnxrF5C68QayxbR1Jf5bkb855T3l/4/dwiH844MnX75S0X7Sdt4XfU/5FjCd/gE2O1vO6+IWko/NqfBp2Xy3pOUnLozezY9IwIoFrjpFkkh6Kfd7lk9XnMX0gir16XfwzW3/jL0LKu/CPisI7c6JPhk/PsVM8zu/j2/g99htJQ3NcF38IvyzJG61JEIAABCAAAQhAAAIQgAAEIAABCEAAAhCAAAQgAAEIQAACEIAABCAAAQhAAAIQgAAEIAABCKxBoAh9RNaoFDsgAAEIQKBrAgh/12w4AgEIQKCQBOLC7x2gfEz+XQpZUyoFAQhAAAL/IFASfh8ewEV/e7hAAAIQgECxCbjwvxDN9JTXiXGK7SFqBwEIQCBhAi78T0QjJ45LuGyKgwAEIACBDBIohXp8IK3bJR2RQRsxCQIQgAAEEiRQEn4v0ieVuU/SwQmWT1EQgAAEIAABCEAAAhCAAAQgAAEIQAACEIAABCAAAQhAAAIQgAAEIAABCEAAAhCAAAQgAAEIQAACEIAABCAAAQhAAAIFIPD/O5Ze7Bx/pSwAAAAASUVORK5CYII=)\n",
        "\n",
        "**5.** Entrenar un modelo K-means con un conjunto de datos en dos dimensiones, realice una exploración del parámetro $K$. Seleccione un valor apropiado (utilizando el método del codo y argumente su decisión.\n",
        "\n",
        "***RESPUESTA:*** luego de agregar algunos datos de entrenamiento al modelo de clustering de películas, se se sigiere un valor $k=3$, siendo este el valor donde se empieza a reducir más simétricamente SSE.\n",
        "\n",
        "![image.png](data:image/png;base64,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)\n",
        "\n",
        "**6.** Aplicar el algoritmo k-means al conjunto de datos Iris (sin la clase), para k=2,3,4,5,6,7,8. Dibujar la gáfica de Elbow(codo) basada en el SSE. Explique los resultados.\n",
        "\n",
        "**RESPUESTA:** se sabe con anticipación que las clases son tres (setosa, versicolor y virginica), por lo tanto el valor de $k$ debería ser $3$. Sin embargo, valores mayores a tres muestran un SSE menor y esto se debe a que en el conjunto de datos axisten sobrelapes entre las especies y el modelo no logra identificar el $3$ específico."
      ]
    },
    {
      "cell_type": "code",
      "metadata": {
        "colab": {
          "base_uri": "https://localhost:8080/",
          "height": 279
        },
        "id": "EG8ZZHXm_s8I",
        "outputId": "1f2e9e9a-812d-4a09-f462-bba49ce0cfc7"
      },
      "source": [
        "# 4. Calcular la gráfica del codo para el ejemplo 1 (calificaciones de películas)\n",
        "from sklearn import cluster\n",
        "\n",
        "titulos = ['usuario','El viaje de Chihiro','Star Wars','The Matrix','Advengers','Malefica']\n",
        "puntajes = [['juan',1,5,5,4,2],['ana',2,4,5,3,2],['luis',2,4,4,5,3],['jorge',4,2,2,3,5],['maría',5,1,2,3,4],['oscar',4,2,1,4,5],['mariana',3,5,5,5,3]]\n",
        "movies = pd.DataFrame(puntajes,columns=titulos)\n",
        "movies\n",
        "data = movies.drop('usuario',axis=1)\n",
        "k_means = cluster.KMeans(n_clusters=2, max_iter=50, random_state=1)\n",
        "k_means.fit(data) \n",
        "labels = k_means.labels_\n",
        "\n",
        "Sum_of_squared_distances = []\n",
        "K = range(1,8)\n",
        "for k in K:\n",
        "    km = KMeans(n_clusters=k)\n",
        "    km = km.fit(data)\n",
        "    Sum_of_squared_distances.append(km.inertia_)\n",
        "    \n",
        "plt.plot(K, Sum_of_squared_distances, 'bo-')\n",
        "plt.xlabel('k')\n",
        "plt.ylabel('SSE')\n",
        "plt.show()"
      ],
      "execution_count": 18,
      "outputs": [
        {
          "output_type": "display_data",
          "data": {
            "image/png": "[encoded data removed]",
            "text/plain": [
              "<Figure size 432x288 with 1 Axes>"
            ]
          },
          "metadata": {
            "tags": [],
            "needs_background": "light"
          }
        }
      ]
    },
    {
      "cell_type": "code",
      "metadata": {
        "colab": {
          "base_uri": "https://localhost:8080/",
          "height": 111
        },
        "id": "n1xauuB0AYA1",
        "outputId": "060d1e28-dab6-4fe3-abb0-ed7cb311d39a"
      },
      "source": [
        "centroids = k_means.cluster_centers_\n",
        "pd.DataFrame(centroids,columns=data.columns)"
      ],
      "execution_count": 19,
      "outputs": [
        {
          "output_type": "execute_result",
          "data": {
            "text/html": [
              "<div>\n",
              "<style scoped>\n",
              "    .dataframe tbody tr th:only-of-type {\n",
              "        vertical-align: middle;\n",
              "    }\n",
              "\n",
              "    .dataframe tbody tr th {\n",
              "        vertical-align: top;\n",
              "    }\n",
              "\n",
              "    .dataframe thead th {\n",
              "        text-align: right;\n",
              "    }\n",
              "</style>\n",
              "<table border=\"1\" class=\"dataframe\">\n",
              "  <thead>\n",
              "    <tr style=\"text-align: right;\">\n",
              "      <th></th>\n",
              "      <th>El viaje de Chihiro</th>\n",
              "      <th>Star Wars</th>\n",
              "      <th>The Matrix</th>\n",
              "      <th>Advengers</th>\n",
              "      <th>Malefica</th>\n",
              "    </tr>\n",
              "  </thead>\n",
              "  <tbody>\n",
              "    <tr>\n",
              "      <th>0</th>\n",
              "      <td>4.333333</td>\n",
              "      <td>1.666667</td>\n",
              "      <td>1.666667</td>\n",
              "      <td>3.333333</td>\n",
              "      <td>4.666667</td>\n",
              "    </tr>\n",
              "    <tr>\n",
              "      <th>1</th>\n",
              "      <td>2.000000</td>\n",
              "      <td>4.500000</td>\n",
              "      <td>4.750000</td>\n",
              "      <td>4.250000</td>\n",
              "      <td>2.500000</td>\n",
              "    </tr>\n",
              "  </tbody>\n",
              "</table>\n",
              "</div>"
            ],
            "text/plain": [
              "   El viaje de Chihiro  Star Wars  The Matrix  Advengers  Malefica\n",
              "0             4.333333   1.666667    1.666667   3.333333  4.666667\n",
              "1             2.000000   4.500000    4.750000   4.250000  2.500000"
            ]
          },
          "metadata": {
            "tags": []
          },
          "execution_count": 19
        }
      ]
    },
    {
      "cell_type": "code",
      "metadata": {
        "id": "Gm-j4wfrDEtw"
      },
      "source": [
        "## datos de entrenamiento\n",
        "\n",
        "testData = np.array([[4,2,5,4,4],[5,1,2,3,4],[4,4,3,3,1],[3,3,2,4,3],[2,5,2,1,4]])\n",
        "labels = k_means.predict(testData)\n",
        "labels = labels.reshape(-1,1)\n",
        "usernames = np.array(['santiago','diego','alejandra','tati','yina']).reshape(-1,1)\n",
        "cols = movies.columns.tolist()\n",
        "cols.append('Cluster ID')\n",
        "newusers = pd.DataFrame(np.concatenate((usernames, testData, labels), axis=1),columns=cols)\n",
        "newusers\n",
        "data1 = newusers.drop('usuario',axis=1)"
      ],
      "execution_count": 20,
      "outputs": []
    },
    {
      "cell_type": "code",
      "metadata": {
        "colab": {
          "base_uri": "https://localhost:8080/",
          "height": 279
        },
        "id": "CNAkojGOEhkO",
        "outputId": "04754461-ea3e-434f-e748-05bcd4275886"
      },
      "source": [
        "Sum_of_squared_distances1 = []\n",
        "K1 = range(1,5)\n",
        "for k in K1:\n",
        "    km1 = KMeans(n_clusters=k)\n",
        "    km1 = km1.fit(data1)\n",
        "    Sum_of_squared_distances1.append(km1.inertia_)\n",
        "    \n",
        "plt.plot(K1, Sum_of_squared_distances1, 'bo-')\n",
        "plt.xlabel('k')\n",
        "plt.ylabel('SSE')\n",
        "plt.show()"
      ],
      "execution_count": 21,
      "outputs": [
        {
          "output_type": "display_data",
          "data": {
            "image/png": "[encoded data removed]",
            "text/plain": [
              "<Figure size 432x288 with 1 Axes>"
            ]
          },
          "metadata": {
            "tags": [],
            "needs_background": "light"
          }
        }
      ]
    },
    {
      "cell_type": "code",
      "metadata": {
        "colab": {
          "base_uri": "https://localhost:8080/",
          "height": 279
        },
        "id": "EB1UqAdEIj35",
        "outputId": "c68c5267-9f63-4805-c8bb-f4e7c5eef77b"
      },
      "source": [
        "#6. Aplicar el algoritmo k-means al conjunto de datos Iris (sin la clase), para k=2,3,4,5,6,7,8.\n",
        "#   Dibujar la gáfica de Elbow(codo) basada en el SSE. Explique los resultados.\n",
        "iris = pd.read_csv(\"iris.csv\")\n",
        "iris = iris.drop(\"species\", axis=1)\n",
        "\n",
        "Sum_of_squared_distances = []\n",
        "K = range(2,9)\n",
        "for k in K:\n",
        "    km = KMeans(n_clusters=k)\n",
        "    km = km.fit(iris)\n",
        "    Sum_of_squared_distances.append(km.inertia_)\n",
        "    \n",
        "plt.plot(K, Sum_of_squared_distances, 'bo-')\n",
        "plt.xlabel('k')\n",
        "plt.ylabel('SSE')\n",
        "plt.show()"
      ],
      "execution_count": 23,
      "outputs": [
        {
          "output_type": "display_data",
          "data": {
            "image/png": "[encoded data removed]",
            "text/plain": [
              "<Figure size 432x288 with 1 Axes>"
            ]
          },
          "metadata": {
            "tags": [],
            "needs_background": "light"
          }
        }
      ]
    },
    {
      "cell_type": "markdown",
      "metadata": {
        "id": "IEMqCEeOI5iA"
      },
      "source": [
        "#Hierarchical Clustering\n",
        "\n"
      ]
    },
    {
      "cell_type": "markdown",
      "metadata": {
        "id": "8A-KvPVfopfE"
      },
      "source": [
        "###Ejemplo1\n",
        "Usaremos un dataset de vertebrados (ejemplo de TAN) usado para clasificación. Se ejecutaran los tres algoritmos clásicos de agrupacion jerarquica aglomerativa: single link (MIN), complete link (MAX), y  group average, usando scipy library de python.\n",
        "\n"
      ]
    },
    {
      "cell_type": "code",
      "metadata": {
        "colab": {
          "base_uri": "https://localhost:8080/",
          "height": 514
        },
        "id": "vaolZ5bipKTi",
        "outputId": "5d7c0303-2f1d-4af9-aa8c-df00b873a366"
      },
      "source": [
        "import pandas as pd\n",
        "\n",
        "data = pd.read_csv('vertebrate.csv',header='infer')\n",
        "data"
      ],
      "execution_count": 25,
      "outputs": [
        {
          "output_type": "execute_result",
          "data": {
            "text/html": [
              "<div>\n",
              "<style scoped>\n",
              "    .dataframe tbody tr th:only-of-type {\n",
              "        vertical-align: middle;\n",
              "    }\n",
              "\n",
              "    .dataframe tbody tr th {\n",
              "        vertical-align: top;\n",
              "    }\n",
              "\n",
              "    .dataframe thead th {\n",
              "        text-align: right;\n",
              "    }\n",
              "</style>\n",
              "<table border=\"1\" class=\"dataframe\">\n",
              "  <thead>\n",
              "    <tr style=\"text-align: right;\">\n",
              "      <th></th>\n",
              "      <th>Name</th>\n",
              "      <th>Warm-blooded</th>\n",
              "      <th>Gives Birth</th>\n",
              "      <th>Aquatic Creature</th>\n",
              "      <th>Aerial Creature</th>\n",
              "      <th>Has Legs</th>\n",
              "      <th>Hibernates</th>\n",
              "      <th>Class</th>\n",
              "    </tr>\n",
              "  </thead>\n",
              "  <tbody>\n",
              "    <tr>\n",
              "      <th>0</th>\n",
              "      <td>human</td>\n",
              "      <td>1</td>\n",
              "      <td>1</td>\n",
              "      <td>0</td>\n",
              "      <td>0</td>\n",
              "      <td>1</td>\n",
              "      <td>0</td>\n",
              "      <td>mammals</td>\n",
              "    </tr>\n",
              "    <tr>\n",
              "      <th>1</th>\n",
              "      <td>python</td>\n",
              "      <td>0</td>\n",
              "      <td>0</td>\n",
              "      <td>0</td>\n",
              "      <td>0</td>\n",
              "      <td>0</td>\n",
              "      <td>1</td>\n",
              "      <td>reptiles</td>\n",
              "    </tr>\n",
              "    <tr>\n",
              "      <th>2</th>\n",
              "      <td>salmon</td>\n",
              "      <td>0</td>\n",
              "      <td>0</td>\n",
              "      <td>1</td>\n",
              "      <td>0</td>\n",
              "      <td>0</td>\n",
              "      <td>0</td>\n",
              "      <td>fishes</td>\n",
              "    </tr>\n",
              "    <tr>\n",
              "      <th>3</th>\n",
              "      <td>whale</td>\n",
              "      <td>1</td>\n",
              "      <td>1</td>\n",
              "      <td>1</td>\n",
              "      <td>0</td>\n",
              "      <td>0</td>\n",
              "      <td>0</td>\n",
              "      <td>mammals</td>\n",
              "    </tr>\n",
              "    <tr>\n",
              "      <th>4</th>\n",
              "      <td>frog</td>\n",
              "      <td>0</td>\n",
              "      <td>0</td>\n",
              "      <td>1</td>\n",
              "      <td>0</td>\n",
              "      <td>1</td>\n",
              "      <td>1</td>\n",
              "      <td>amphibians</td>\n",
              "    </tr>\n",
              "    <tr>\n",
              "      <th>5</th>\n",
              "      <td>komodo</td>\n",
              "      <td>0</td>\n",
              "      <td>0</td>\n",
              "      <td>0</td>\n",
              "      <td>0</td>\n",
              "      <td>1</td>\n",
              "      <td>0</td>\n",
              "      <td>reptiles</td>\n",
              "    </tr>\n",
              "    <tr>\n",
              "      <th>6</th>\n",
              "      <td>bat</td>\n",
              "      <td>1</td>\n",
              "      <td>1</td>\n",
              "      <td>0</td>\n",
              "      <td>1</td>\n",
              "      <td>1</td>\n",
              "      <td>1</td>\n",
              "      <td>mammals</td>\n",
              "    </tr>\n",
              "    <tr>\n",
              "      <th>7</th>\n",
              "      <td>pigeon</td>\n",
              "      <td>1</td>\n",
              "      <td>0</td>\n",
              "      <td>0</td>\n",
              "      <td>1</td>\n",
              "      <td>1</td>\n",
              "      <td>0</td>\n",
              "      <td>birds</td>\n",
              "    </tr>\n",
              "    <tr>\n",
              "      <th>8</th>\n",
              "      <td>cat</td>\n",
              "      <td>1</td>\n",
              "      <td>1</td>\n",
              "      <td>0</td>\n",
              "      <td>0</td>\n",
              "      <td>1</td>\n",
              "      <td>0</td>\n",
              "      <td>mammals</td>\n",
              "    </tr>\n",
              "    <tr>\n",
              "      <th>9</th>\n",
              "      <td>leopard shark</td>\n",
              "      <td>0</td>\n",
              "      <td>1</td>\n",
              "      <td>1</td>\n",
              "      <td>0</td>\n",
              "      <td>0</td>\n",
              "      <td>0</td>\n",
              "      <td>fishes</td>\n",
              "    </tr>\n",
              "    <tr>\n",
              "      <th>10</th>\n",
              "      <td>turtle</td>\n",
              "      <td>0</td>\n",
              "      <td>0</td>\n",
              "      <td>1</td>\n",
              "      <td>0</td>\n",
              "      <td>1</td>\n",
              "      <td>0</td>\n",
              "      <td>reptiles</td>\n",
              "    </tr>\n",
              "    <tr>\n",
              "      <th>11</th>\n",
              "      <td>penguin</td>\n",
              "      <td>1</td>\n",
              "      <td>0</td>\n",
              "      <td>1</td>\n",
              "      <td>0</td>\n",
              "      <td>1</td>\n",
              "      <td>0</td>\n",
              "      <td>birds</td>\n",
              "    </tr>\n",
              "    <tr>\n",
              "      <th>12</th>\n",
              "      <td>porcupine</td>\n",
              "      <td>1</td>\n",
              "      <td>1</td>\n",
              "      <td>0</td>\n",
              "      <td>0</td>\n",
              "      <td>1</td>\n",
              "      <td>1</td>\n",
              "      <td>mammals</td>\n",
              "    </tr>\n",
              "    <tr>\n",
              "      <th>13</th>\n",
              "      <td>eel</td>\n",
              "      <td>0</td>\n",
              "      <td>0</td>\n",
              "      <td>1</td>\n",
              "      <td>0</td>\n",
              "      <td>0</td>\n",
              "      <td>0</td>\n",
              "      <td>fishes</td>\n",
              "    </tr>\n",
              "    <tr>\n",
              "      <th>14</th>\n",
              "      <td>salamander</td>\n",
              "      <td>0</td>\n",
              "      <td>0</td>\n",
              "      <td>1</td>\n",
              "      <td>0</td>\n",
              "      <td>1</td>\n",
              "      <td>1</td>\n",
              "      <td>amphibians</td>\n",
              "    </tr>\n",
              "  </tbody>\n",
              "</table>\n",
              "</div>"
            ],
            "text/plain": [
              "             Name  Warm-blooded  Gives Birth  ...  Has Legs  Hibernates       Class\n",
              "0           human             1            1  ...         1           0     mammals\n",
              "1          python             0            0  ...         0           1    reptiles\n",
              "2          salmon             0            0  ...         0           0      fishes\n",
              "3           whale             1            1  ...         0           0     mammals\n",
              "4            frog             0            0  ...         1           1  amphibians\n",
              "5          komodo             0            0  ...         1           0    reptiles\n",
              "6             bat             1            1  ...         1           1     mammals\n",
              "7          pigeon             1            0  ...         1           0       birds\n",
              "8             cat             1            1  ...         1           0     mammals\n",
              "9   leopard shark             0            1  ...         0           0      fishes\n",
              "10         turtle             0            0  ...         1           0    reptiles\n",
              "11        penguin             1            0  ...         1           0       birds\n",
              "12      porcupine             1            1  ...         1           1     mammals\n",
              "13            eel             0            0  ...         0           0      fishes\n",
              "14     salamander             0            0  ...         1           1  amphibians\n",
              "\n",
              "[15 rows x 8 columns]"
            ]
          },
          "metadata": {
            "tags": []
          },
          "execution_count": 25
        }
      ]
    },
    {
      "cell_type": "code",
      "metadata": {
        "id": "yOSNmrcrpxO9"
      },
      "source": [
        "# importamos las librerías\n",
        "from scipy.cluster import hierarchy\n",
        "import matplotlib.pyplot as plt\n",
        "%matplotlib inline\n",
        "\n",
        "names = data['Name']\n",
        "Y = data['Class']\n",
        "# Se eliminan la columna de nombre y la clase\n",
        "X = data.drop(['Name','Class'],axis=1)"
      ],
      "execution_count": 26,
      "outputs": []
    },
    {
      "cell_type": "markdown",
      "metadata": {
        "id": "fsfUIMM93AF9"
      },
      "source": [
        "###Single Link (MIN)"
      ]
    },
    {
      "cell_type": "code",
      "metadata": {
        "colab": {
          "base_uri": "https://localhost:8080/",
          "height": 265
        },
        "id": "X4Oy7veCrin8",
        "outputId": "2c83bd53-5ccd-4e5b-d34b-e16834c31fc5"
      },
      "source": [
        "Z = hierarchy.single(X)\n",
        "dn = hierarchy.dendrogram(Z,labels=names.tolist(),orientation='right')"
      ],
      "execution_count": 27,
      "outputs": [
        {
          "output_type": "display_data",
          "data": {
            "image/png": "[encoded data removed]",
            "text/plain": [
              "<Figure size 432x288 with 1 Axes>"
            ]
          },
          "metadata": {
            "tags": [],
            "needs_background": "light"
          }
        }
      ]
    },
    {
      "cell_type": "markdown",
      "metadata": {
        "id": "JP9Fgg_DrwY9"
      },
      "source": [
        "###Complete Link (MAX)"
      ]
    },
    {
      "cell_type": "code",
      "metadata": {
        "colab": {
          "base_uri": "https://localhost:8080/",
          "height": 265
        },
        "id": "ZSmT0vdKqYnj",
        "outputId": "b8c61bbf-73b9-4e83-cf91-f0432b5f3333"
      },
      "source": [
        "Z = hierarchy.complete(X)\n",
        "dn = hierarchy.dendrogram(Z,labels=names.tolist(),orientation='right')"
      ],
      "execution_count": 28,
      "outputs": [
        {
          "output_type": "display_data",
          "data": {
            "image/png": "[encoded data removed]",
            "text/plain": [
              "<Figure size 432x288 with 1 Axes>"
            ]
          },
          "metadata": {
            "tags": [],
            "needs_background": "light"
          }
        }
      ]
    },
    {
      "cell_type": "markdown",
      "metadata": {
        "id": "Dg3yEmdor-35"
      },
      "source": [
        "###Average - Promedio"
      ]
    },
    {
      "cell_type": "code",
      "metadata": {
        "colab": {
          "base_uri": "https://localhost:8080/",
          "height": 265
        },
        "id": "uy5q4_LZp6r1",
        "outputId": "a1c6d015-82b9-4ad5-93eb-4358f422f88e"
      },
      "source": [
        "Z = hierarchy.average(X)\n",
        "dn = hierarchy.dendrogram(Z,labels=names.tolist(),orientation='right')"
      ],
      "execution_count": 29,
      "outputs": [
        {
          "output_type": "display_data",
          "data": {
            "image/png": "[encoded data removed]",
            "text/plain": [
              "<Figure size 432x288 with 1 Axes>"
            ]
          },
          "metadata": {
            "tags": [],
            "needs_background": "light"
          }
        }
      ]
    },
    {
      "cell_type": "markdown",
      "metadata": {
        "id": "PRngbS6mp7VI"
      },
      "source": [
        "###Ward"
      ]
    },
    {
      "cell_type": "code",
      "metadata": {
        "colab": {
          "base_uri": "https://localhost:8080/",
          "height": 265
        },
        "id": "c1GYP3QXsUL_",
        "outputId": "329f87f2-7409-46d3-b013-4d044583ec6f"
      },
      "source": [
        "Z = hierarchy.ward(X)\n",
        "dn = hierarchy.dendrogram(Z,labels=names.tolist(),orientation='right')"
      ],
      "execution_count": 30,
      "outputs": [
        {
          "output_type": "display_data",
          "data": {
            "image/png": "[encoded data removed]",
            "text/plain": [
              "<Figure size 432x288 with 1 Axes>"
            ]
          },
          "metadata": {
            "tags": [],
            "needs_background": "light"
          }
        }
      ]
    },
    {
      "cell_type": "markdown",
      "metadata": {
        "id": "FujCVwmR3D4o"
      },
      "source": [
        "##**Ejercicio 1**\n",
        "\n",
        "¿Qué concluye de los cuatro métodos? con respecto al conjunto de datos usado.\n",
        "\n",
        "##**Ejercicio 2**\n",
        "\n",
        "Dado un conjunto de ejemplos categóricos de 5 dimensiones:\n"
      ]
    },
    {
      "cell_type": "code",
      "metadata": {
        "id": "i2o_HtYXK0Rs"
      },
      "source": [
        "from scipy.spatial import distance\n",
        "\n",
        "X1 = np.array([\n",
        "              [ 1,0,1,1,0],\n",
        "              [ 1,1,0,1,0],\n",
        "              [ 0,0,1,1,0],\n",
        "              [ 0,1,0,1,0],\n",
        "              [ 1,0,1,1,0],\n",
        "              [ 0,1,1,0,0],\n",
        "             ])"
      ],
      "execution_count": 31,
      "outputs": []
    },
    {
      "cell_type": "markdown",
      "metadata": {
        "id": "iviV83cgK1r3"
      },
      "source": [
        "a) Aplique agrupamiento jerárquico aglomerativo, usando:\n",
        "\n",
        "1) Medida intercluster enlace simple (single link o MIN) basado en el coeficiente de Rao. Diagramar el dendograma\n",
        "\n",
        "2) Medida intercluster enlace completo (complete link o MAX) basado en coeficiente de corres-pondencia simple CCS (su sigla en inglés, SMC Simple Matching Coeficient). Diagramar el dendograma\n",
        "\n",
        "b) ¿Es posible usar el método de Ward? Explique.\n",
        "\n",
        "**RESPUESTA:** Si es posible debido  que este utiliza la suma de cuadrados de las diferencias con respecto al centroide para conformar los clusters."
      ]
    },
    {
      "cell_type": "code",
      "metadata": {
        "colab": {
          "base_uri": "https://localhost:8080/",
          "height": 265
        },
        "id": "rrVY-3yVR8AM",
        "outputId": "aa151e74-2ac5-4965-8878-cc4dc2668222"
      },
      "source": [
        "# SINGLE LINK (MIN)\n",
        "\n",
        "Z1 = hierarchy.single(X1)\n",
        "dn1 = hierarchy.dendrogram(Z1,orientation='right')"
      ],
      "execution_count": 32,
      "outputs": [
        {
          "output_type": "display_data",
          "data": {
            "image/png": "[encoded data removed]",
            "text/plain": [
              "<Figure size 432x288 with 1 Axes>"
            ]
          },
          "metadata": {
            "tags": [],
            "needs_background": "light"
          }
        }
      ]
    },
    {
      "cell_type": "code",
      "metadata": {
        "colab": {
          "base_uri": "https://localhost:8080/",
          "height": 265
        },
        "id": "hZo3qfYkSKYF",
        "outputId": "8213c84d-ae9d-4d59-bbe7-dd9d52177c13"
      },
      "source": [
        "# COMPLETE LINK (MAX)\n",
        "\n",
        "Z1 = hierarchy.complete(X1)\n",
        "dn1 = hierarchy.dendrogram(Z1,orientation='right')"
      ],
      "execution_count": 33,
      "outputs": [
        {
          "output_type": "display_data",
          "data": {
            "image/png": "[encoded data removed]",
            "text/plain": [
              "<Figure size 432x288 with 1 Axes>"
            ]
          },
          "metadata": {
            "tags": [],
            "needs_background": "light"
          }
        }
      ]
    },
    {
      "cell_type": "code",
      "metadata": {
        "colab": {
          "base_uri": "https://localhost:8080/",
          "height": 265
        },
        "id": "qYU6V3WmTOog",
        "outputId": "b165ba12-2f33-4842-fd62-a826968792a8"
      },
      "source": [
        "#WARD\n",
        "\n",
        "Z1 = hierarchy.ward(X1)\n",
        "dn1 = hierarchy.dendrogram(Z1,orientation='right')"
      ],
      "execution_count": 34,
      "outputs": [
        {
          "output_type": "display_data",
          "data": {
            "image/png": "[encoded data removed]",
            "text/plain": [
              "<Figure size 432x288 with 1 Axes>"
            ]
          },
          "metadata": {
            "tags": [],
            "needs_background": "light"
          }
        }
      ]
    },
    {
      "cell_type": "markdown",
      "metadata": {
        "id": "ZkaC9M35LBdd"
      },
      "source": [
        "**Ejercicio 3**\n",
        "\n",
        "Usar el conjunto de datos “Perfume Data Data Set” del repositorio UCI (Machine Learning), para aplicar los algoritmos: single link, complete link, average link y Ward. Mostrar dendogramas y explicar resultados."
      ]
    },
    {
      "cell_type": "code",
      "metadata": {
        "id": "-YGJmQ46Prii"
      },
      "source": [
        "import pandas as pd\n",
        "\n",
        "perf = pd.read_csv('perfume_data.csv', header='infer')\n",
        "nombres = perf.ajayeb\n",
        "perf1 = perf.drop('ajayeb', axis=1)\n",
        "perf1 = perf1.astype(float)"
      ],
      "execution_count": 36,
      "outputs": []
    },
    {
      "cell_type": "code",
      "metadata": {
        "colab": {
          "base_uri": "https://localhost:8080/",
          "height": 265
        },
        "id": "yS3Inx0wVMzu",
        "outputId": "d65362ae-b2e3-4c22-c287-76512a36a324"
      },
      "source": [
        "Z2 = hierarchy.single(perf1)\n",
        "dn2 = hierarchy.dendrogram(Z2,labels=nombres.tolist(),orientation='right')"
      ],
      "execution_count": 37,
      "outputs": [
        {
          "output_type": "display_data",
          "data": {
            "image/png": "[encoded data removed]",
            "text/plain": [
              "<Figure size 432x288 with 1 Axes>"
            ]
          },
          "metadata": {
            "tags": [],
            "needs_background": "light"
          }
        }
      ]
    },
    {
      "cell_type": "code",
      "metadata": {
        "colab": {
          "base_uri": "https://localhost:8080/",
          "height": 265
        },
        "id": "lmHfLnMAX5ce",
        "outputId": "88bba894-3c16-4470-fb32-b72b35f48ec6"
      },
      "source": [
        "Z2 = hierarchy.complete(perf1)\n",
        "dn2 = hierarchy.dendrogram(Z2,labels=nombres.tolist(),orientation='right')"
      ],
      "execution_count": 38,
      "outputs": [
        {
          "output_type": "display_data",
          "data": {
            "image/png": "[encoded data removed]",
            "text/plain": [
              "<Figure size 432x288 with 1 Axes>"
            ]
          },
          "metadata": {
            "tags": [],
            "needs_background": "light"
          }
        }
      ]
    },
    {
      "cell_type": "code",
      "metadata": {
        "colab": {
          "base_uri": "https://localhost:8080/",
          "height": 265
        },
        "id": "yLKBsCBXX_Ny",
        "outputId": "041bb912-5adb-4964-cc3b-3336fe351920"
      },
      "source": [
        "Z2 = hierarchy.average(perf1)\n",
        "dn2 = hierarchy.dendrogram(Z2,labels=nombres.tolist(),orientation='right')"
      ],
      "execution_count": 39,
      "outputs": [
        {
          "output_type": "display_data",
          "data": {
            "image/png": "[encoded data removed]",
            "text/plain": [
              "<Figure size 432x288 with 1 Axes>"
            ]
          },
          "metadata": {
            "tags": [],
            "needs_background": "light"
          }
        }
      ]
    },
    {
      "cell_type": "code",
      "metadata": {
        "colab": {
          "base_uri": "https://localhost:8080/",
          "height": 265
        },
        "id": "dwOwRLMzYCYs",
        "outputId": "7460acce-b529-4b35-d26d-20639df99870"
      },
      "source": [
        "Z2 = hierarchy.ward(perf1)\n",
        "dn2 = hierarchy.dendrogram(Z2,labels=nombres.tolist(),orientation='right')"
      ],
      "execution_count": 40,
      "outputs": [
        {
          "output_type": "display_data",
          "data": {
            "image/png": "[encoded data removed]",
            "text/plain": [
              "<Figure size 432x288 with 1 Axes>"
            ]
          },
          "metadata": {
            "tags": [],
            "needs_background": "light"
          }
        }
      ]
    },
    {
      "cell_type": "markdown",
      "metadata": {
        "id": "R-w6SVAeKwkD"
      },
      "source": [
        "\n",
        "##**Ejercicio 3**\n",
        "\n",
        "Usar el data set creado en la sección \"Determinar el número de K\" y construya un dendograma con distancia euclidiana (from sklearn.metrics.pairwise import euclidean_distances), y otro con similitud coseno (puede utilizar la función de scikit-learn [cosine similarity](https://scikit-learn.org/stable/modules/generated/sklearn.metrics.pairwise.cosine_similarity.html)). Discuta los resultados."
      ]
    },
    {
      "cell_type": "code",
      "metadata": {
        "colab": {
          "base_uri": "https://localhost:8080/",
          "height": 279
        },
        "id": "d0zKuAQgpxAV",
        "outputId": "2c3d8781-5a95-4f30-ae32-86e24a5abaa8"
      },
      "source": [
        "points\n",
        "from sklearn.metrics.pairwise import euclidean_distances\n",
        "from scipy.spatial import distance\n",
        "\n",
        "Sum_of_squared_distances = []\n",
        "K = range(2,9)\n",
        "for k in K:\n",
        "    km = KMeans(n_clusters=k)\n",
        "    km = km.fit(points)\n",
        "    Sum_of_squared_distances.append(km.inertia_)\n",
        "    \n",
        "plt.plot(K, Sum_of_squared_distances, 'bx-')\n",
        "plt.xlabel('k')\n",
        "plt.ylabel('SSE')\n",
        "plt.show()"
      ],
      "execution_count": 41,
      "outputs": [
        {
          "output_type": "display_data",
          "data": {
            "image/png": "[encoded data removed]",
            "text/plain": [
              "<Figure size 432x288 with 1 Axes>"
            ]
          },
          "metadata": {
            "tags": [],
            "needs_background": "light"
          }
        }
      ]
    },
    {
      "cell_type": "code",
      "metadata": {
        "colab": {
          "base_uri": "https://localhost:8080/"
        },
        "id": "YySxvJROzusA",
        "outputId": "7065f2c9-c353-4ff6-e999-889ef9beb047"
      },
      "source": [
        "euclidean_distances(points,points)\n",
        "points"
      ],
      "execution_count": 42,
      "outputs": [
        {
          "output_type": "execute_result",
          "data": {
            "text/plain": [
              "array([[ 2, 10],\n",
              "       [ 2,  5],\n",
              "       [ 8,  4],\n",
              "       [ 5,  8],\n",
              "       [ 7,  5],\n",
              "       [ 6,  4],\n",
              "       [ 1,  2],\n",
              "       [ 4,  9]])"
            ]
          },
          "metadata": {
            "tags": []
          },
          "execution_count": 42
        }
      ]
    },
    {
      "cell_type": "code",
      "metadata": {
        "colab": {
          "base_uri": "https://localhost:8080/",
          "height": 265
        },
        "id": "FdF8mwVi14f-",
        "outputId": "e28e6fa6-9fd0-4a87-9150-36c053319829"
      },
      "source": [
        "Z3 = hierarchy.single(points)\n",
        "dn3 = hierarchy.dendrogram(Z3,orientation='right')"
      ],
      "execution_count": 43,
      "outputs": [
        {
          "output_type": "display_data",
          "data": {
            "image/png": "[encoded data removed]",
            "text/plain": [
              "<Figure size 432x288 with 1 Axes>"
            ]
          },
          "metadata": {
            "tags": [],
            "needs_background": "light"
          }
        }
      ]
    },
    {
      "cell_type": "markdown",
      "metadata": {
        "id": "wPl1mzUFLRqd"
      },
      "source": [
        "\n",
        "# K-Nearest Neighbor"
      ]
    },
    {
      "cell_type": "markdown",
      "metadata": {
        "id": "oOHnW0P3fHKk"
      },
      "source": [
        "##**Ejercicio 1**\n",
        "\n",
        "Usar el algoritmo de agrupación K-Nearest Neighbor y distancia Euclidean para agrupar los datos del ejercicio 3. Usar un umbral de 4."
      ]
    }
  ]
}