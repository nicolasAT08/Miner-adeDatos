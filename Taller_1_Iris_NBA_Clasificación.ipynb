{
  "nbformat": 4,
  "nbformat_minor": 0,
  "metadata": {
    "kernelspec": {
      "display_name": "Python 3",
      "language": "python",
      "name": "python3"
    },
    "language_info": {
      "codemirror_mode": {
        "name": "ipython",
        "version": 3
      },
      "file_extension": ".py",
      "mimetype": "text/x-python",
      "name": "python",
      "nbconvert_exporter": "python",
      "pygments_lexer": "ipython3",
      "version": "3.6.8"
    },
    "colab": {
      "name": "Taller 1 Iris-NBA Clasificación.ipynb",
      "provenance": [],
      "collapsed_sections": []
    }
  },
  "cells": [
    {
      "cell_type": "markdown",
      "metadata": {
        "id": "M083o4P876RW"
      },
      "source": [
        "<center><h1>MINERIA DE DATOS</h1>\n",
        "<strong>Taller de Clasificación</strong><br />\n",
        "PROFESORA ELIZABETH LEON GUZMAN <br />\n",
        "<strong>TEMA</strong> Clasificación y Validación</center>"
      ]
    },
    {
      "cell_type": "markdown",
      "metadata": {
        "id": "neJxfvc676RY"
      },
      "source": [
        "# **1. Crear un modelo usando Naive Bayes a un conjunto de datos categórico.**\n",
        "\n",
        "a) Realizar una partición del conjunto de datos, usando muestreo estratificado: 70 % para entrenamiento y 30 % para test.\n",
        "\n",
        "b) Entrenar el modelo <br />\n",
        "c) Aplicar el modelo al conjunto de test <br />\n",
        "d) Medir el desempeño del modelo calculando Matriz de confusión, Exactitud (Accuracy), Error de \n",
        "clasificación, Precisión (Precision), Índice de Recuperación (Recall), Medida F1"
      ]
    },
    {
      "cell_type": "markdown",
      "metadata": {
        "id": "LKgF1vzz76Ra"
      },
      "source": [
        "##### Carga de Datos categóricos"
      ]
    },
    {
      "cell_type": "code",
      "metadata": {
        "id": "1qObdmRC76Rb"
      },
      "source": [
        "from scipy.io import arff\n",
        "import pandas as pd"
      ],
      "execution_count": null,
      "outputs": []
    },
    {
      "cell_type": "code",
      "metadata": {
        "id": "Ia2yf8Y276Rf",
        "colab": {
          "base_uri": "https://localhost:8080/",
          "height": 793
        },
        "outputId": "7264d7a4-2b6f-478c-f1b0-6389354cab5e"
      },
      "source": [
        "#Reading the Cathegorical data:\n",
        "#pd_weather = pd.read_csv('weka_dataset/weather.nominal.arff', sep=',', \n",
        " #                        names=['outlook','temperature','humidity','windy','play'])\n",
        "\n",
        "pd_contact = pd.read_csv('ContactLens.csv')\n",
        "X = pd_contact.values\n",
        "y = pd_contact['ContactLens']\n",
        "\n",
        "pd_contact\n",
        "\n",
        "#print(X)\n",
        "#print(y)"
      ],
      "execution_count": null,
      "outputs": [
        {
          "output_type": "execute_result",
          "data": {
            "text/html": [
              "<div>\n",
              "<style scoped>\n",
              "    .dataframe tbody tr th:only-of-type {\n",
              "        vertical-align: middle;\n",
              "    }\n",
              "\n",
              "    .dataframe tbody tr th {\n",
              "        vertical-align: top;\n",
              "    }\n",
              "\n",
              "    .dataframe thead th {\n",
              "        text-align: right;\n",
              "    }\n",
              "</style>\n",
              "<table border=\"1\" class=\"dataframe\">\n",
              "  <thead>\n",
              "    <tr style=\"text-align: right;\">\n",
              "      <th></th>\n",
              "      <th>Age</th>\n",
              "      <th>SpectaclePrescrip</th>\n",
              "      <th>Astigmatism</th>\n",
              "      <th>TearProdRate</th>\n",
              "      <th>ContactLens</th>\n",
              "    </tr>\n",
              "  </thead>\n",
              "  <tbody>\n",
              "    <tr>\n",
              "      <th>0</th>\n",
              "      <td>young</td>\n",
              "      <td>myope</td>\n",
              "      <td>no</td>\n",
              "      <td>reduced</td>\n",
              "      <td>none</td>\n",
              "    </tr>\n",
              "    <tr>\n",
              "      <th>1</th>\n",
              "      <td>young</td>\n",
              "      <td>myope</td>\n",
              "      <td>no</td>\n",
              "      <td>normal</td>\n",
              "      <td>soft</td>\n",
              "    </tr>\n",
              "    <tr>\n",
              "      <th>2</th>\n",
              "      <td>young</td>\n",
              "      <td>myope</td>\n",
              "      <td>yes</td>\n",
              "      <td>reduced</td>\n",
              "      <td>none</td>\n",
              "    </tr>\n",
              "    <tr>\n",
              "      <th>3</th>\n",
              "      <td>young</td>\n",
              "      <td>myope</td>\n",
              "      <td>yes</td>\n",
              "      <td>normal</td>\n",
              "      <td>hard</td>\n",
              "    </tr>\n",
              "    <tr>\n",
              "      <th>4</th>\n",
              "      <td>young</td>\n",
              "      <td>hypermetrope</td>\n",
              "      <td>no</td>\n",
              "      <td>reduced</td>\n",
              "      <td>none</td>\n",
              "    </tr>\n",
              "    <tr>\n",
              "      <th>5</th>\n",
              "      <td>young</td>\n",
              "      <td>hypermetrope</td>\n",
              "      <td>no</td>\n",
              "      <td>normal</td>\n",
              "      <td>soft</td>\n",
              "    </tr>\n",
              "    <tr>\n",
              "      <th>6</th>\n",
              "      <td>young</td>\n",
              "      <td>hypermetrope</td>\n",
              "      <td>yes</td>\n",
              "      <td>reduced</td>\n",
              "      <td>none</td>\n",
              "    </tr>\n",
              "    <tr>\n",
              "      <th>7</th>\n",
              "      <td>young</td>\n",
              "      <td>hypermetrope</td>\n",
              "      <td>yes</td>\n",
              "      <td>normal</td>\n",
              "      <td>hard</td>\n",
              "    </tr>\n",
              "    <tr>\n",
              "      <th>8</th>\n",
              "      <td>pre-presbyopic</td>\n",
              "      <td>myope</td>\n",
              "      <td>no</td>\n",
              "      <td>reduced</td>\n",
              "      <td>none</td>\n",
              "    </tr>\n",
              "    <tr>\n",
              "      <th>9</th>\n",
              "      <td>pre-presbyopic</td>\n",
              "      <td>myope</td>\n",
              "      <td>no</td>\n",
              "      <td>normal</td>\n",
              "      <td>soft</td>\n",
              "    </tr>\n",
              "    <tr>\n",
              "      <th>10</th>\n",
              "      <td>pre-presbyopic</td>\n",
              "      <td>myope</td>\n",
              "      <td>yes</td>\n",
              "      <td>reduced</td>\n",
              "      <td>none</td>\n",
              "    </tr>\n",
              "    <tr>\n",
              "      <th>11</th>\n",
              "      <td>pre-presbyopic</td>\n",
              "      <td>myope</td>\n",
              "      <td>yes</td>\n",
              "      <td>normal</td>\n",
              "      <td>hard</td>\n",
              "    </tr>\n",
              "    <tr>\n",
              "      <th>12</th>\n",
              "      <td>pre-presbyopic</td>\n",
              "      <td>hypermetrope</td>\n",
              "      <td>no</td>\n",
              "      <td>reduced</td>\n",
              "      <td>none</td>\n",
              "    </tr>\n",
              "    <tr>\n",
              "      <th>13</th>\n",
              "      <td>pre-presbyopic</td>\n",
              "      <td>hypermetrope</td>\n",
              "      <td>no</td>\n",
              "      <td>normal</td>\n",
              "      <td>soft</td>\n",
              "    </tr>\n",
              "    <tr>\n",
              "      <th>14</th>\n",
              "      <td>pre-presbyopic</td>\n",
              "      <td>hypermetrope</td>\n",
              "      <td>yes</td>\n",
              "      <td>reduced</td>\n",
              "      <td>none</td>\n",
              "    </tr>\n",
              "    <tr>\n",
              "      <th>15</th>\n",
              "      <td>pre-presbyopic</td>\n",
              "      <td>hypermetrope</td>\n",
              "      <td>yes</td>\n",
              "      <td>normal</td>\n",
              "      <td>none</td>\n",
              "    </tr>\n",
              "    <tr>\n",
              "      <th>16</th>\n",
              "      <td>presbyopic</td>\n",
              "      <td>myope</td>\n",
              "      <td>no</td>\n",
              "      <td>reduced</td>\n",
              "      <td>none</td>\n",
              "    </tr>\n",
              "    <tr>\n",
              "      <th>17</th>\n",
              "      <td>presbyopic</td>\n",
              "      <td>myope</td>\n",
              "      <td>no</td>\n",
              "      <td>normal</td>\n",
              "      <td>none</td>\n",
              "    </tr>\n",
              "    <tr>\n",
              "      <th>18</th>\n",
              "      <td>presbyopic</td>\n",
              "      <td>myope</td>\n",
              "      <td>yes</td>\n",
              "      <td>reduced</td>\n",
              "      <td>none</td>\n",
              "    </tr>\n",
              "    <tr>\n",
              "      <th>19</th>\n",
              "      <td>presbyopic</td>\n",
              "      <td>myope</td>\n",
              "      <td>yes</td>\n",
              "      <td>normal</td>\n",
              "      <td>hard</td>\n",
              "    </tr>\n",
              "    <tr>\n",
              "      <th>20</th>\n",
              "      <td>presbyopic</td>\n",
              "      <td>hypermetrope</td>\n",
              "      <td>no</td>\n",
              "      <td>reduced</td>\n",
              "      <td>none</td>\n",
              "    </tr>\n",
              "    <tr>\n",
              "      <th>21</th>\n",
              "      <td>presbyopic</td>\n",
              "      <td>hypermetrope</td>\n",
              "      <td>no</td>\n",
              "      <td>normal</td>\n",
              "      <td>soft</td>\n",
              "    </tr>\n",
              "    <tr>\n",
              "      <th>22</th>\n",
              "      <td>presbyopic</td>\n",
              "      <td>hypermetrope</td>\n",
              "      <td>yes</td>\n",
              "      <td>reduced</td>\n",
              "      <td>none</td>\n",
              "    </tr>\n",
              "    <tr>\n",
              "      <th>23</th>\n",
              "      <td>presbyopic</td>\n",
              "      <td>hypermetrope</td>\n",
              "      <td>yes</td>\n",
              "      <td>normal</td>\n",
              "      <td>none</td>\n",
              "    </tr>\n",
              "  </tbody>\n",
              "</table>\n",
              "</div>"
            ],
            "text/plain": [
              "               Age SpectaclePrescrip Astigmatism TearProdRate ContactLens\n",
              "0            young             myope          no      reduced        none\n",
              "1            young             myope          no       normal        soft\n",
              "2            young             myope         yes      reduced        none\n",
              "3            young             myope         yes       normal        hard\n",
              "4            young      hypermetrope          no      reduced        none\n",
              "5            young      hypermetrope          no       normal        soft\n",
              "6            young      hypermetrope         yes      reduced        none\n",
              "7            young      hypermetrope         yes       normal        hard\n",
              "8   pre-presbyopic             myope          no      reduced        none\n",
              "9   pre-presbyopic             myope          no       normal        soft\n",
              "10  pre-presbyopic             myope         yes      reduced        none\n",
              "11  pre-presbyopic             myope         yes       normal        hard\n",
              "12  pre-presbyopic      hypermetrope          no      reduced        none\n",
              "13  pre-presbyopic      hypermetrope          no       normal        soft\n",
              "14  pre-presbyopic      hypermetrope         yes      reduced        none\n",
              "15  pre-presbyopic      hypermetrope         yes       normal        none\n",
              "16      presbyopic             myope          no      reduced        none\n",
              "17      presbyopic             myope          no       normal        none\n",
              "18      presbyopic             myope         yes      reduced        none\n",
              "19      presbyopic             myope         yes       normal        hard\n",
              "20      presbyopic      hypermetrope          no      reduced        none\n",
              "21      presbyopic      hypermetrope          no       normal        soft\n",
              "22      presbyopic      hypermetrope         yes      reduced        none\n",
              "23      presbyopic      hypermetrope         yes       normal        none"
            ]
          },
          "metadata": {
            "tags": []
          },
          "execution_count": 86
        }
      ]
    },
    {
      "cell_type": "markdown",
      "metadata": {
        "id": "A9uUuwVk76Rj"
      },
      "source": [
        "#### a. partición del conjunto de datos, usando muestreo estratificado: 70 % para entrenamiento y 30 % para test."
      ]
    },
    {
      "cell_type": "code",
      "metadata": {
        "id": "Yh3EmeVT76Rk",
        "colab": {
          "base_uri": "https://localhost:8080/"
        },
        "outputId": "e059a402-0cfb-490c-e0cf-3810e1c5ad51"
      },
      "source": [
        "# Import LabelEncoder\n",
        "from sklearn import preprocessing\n",
        "import numpy as np\n",
        "\n",
        "from sklearn.model_selection import train_test_split\n",
        "\n",
        "le = preprocessing.LabelEncoder()\n",
        "\n",
        "# Converting string labels into numbers.\n",
        "Age_encoded=le.fit_transform(pd_contact['Age'])\n",
        "SpectaclePrescrip_encoded = le.fit_transform(pd_contact['SpectaclePrescrip'])\n",
        "Astigmatism_encoded = le.fit_transform(pd_contact['Astigmatism'])\n",
        "TearProdRate_encoded = le.fit_transform(pd_contact['TearProdRate'])\n",
        "label = le.fit_transform(pd_contact['ContactLens'])\n",
        "\n",
        "# Combining all dimensions of the dataset\n",
        "features = list(zip(Age_encoded, SpectaclePrescrip_encoded, Astigmatism_encoded, TearProdRate_encoded))\n",
        "\n",
        "print(features)\n",
        "\n",
        "#Se parten los datos para usar 70 Entrenamiento y 30 test:\n",
        "X_train_contact, X_test_contact, y_train_contact, y_test_contact = train_test_split(features, label,\n",
        "                                                    test_size=.3)"
      ],
      "execution_count": null,
      "outputs": [
        {
          "output_type": "stream",
          "text": [
            "[(2, 1, 0, 1), (2, 1, 0, 0), (2, 1, 1, 1), (2, 1, 1, 0), (2, 0, 0, 1), (2, 0, 0, 0), (2, 0, 1, 1), (2, 0, 1, 0), (0, 1, 0, 1), (0, 1, 0, 0), (0, 1, 1, 1), (0, 1, 1, 0), (0, 0, 0, 1), (0, 0, 0, 0), (0, 0, 1, 1), (0, 0, 1, 0), (1, 1, 0, 1), (1, 1, 0, 0), (1, 1, 1, 1), (1, 1, 1, 0), (1, 0, 0, 1), (1, 0, 0, 0), (1, 0, 1, 1), (1, 0, 1, 0)]\n"
          ],
          "name": "stdout"
        }
      ]
    },
    {
      "cell_type": "code",
      "metadata": {
        "colab": {
          "base_uri": "https://localhost:8080/"
        },
        "id": "AcQNpf2_qDYL",
        "outputId": "84cfced1-1317-418a-eaa7-ebffda6d5710"
      },
      "source": [
        "X_test_contact"
      ],
      "execution_count": null,
      "outputs": [
        {
          "output_type": "execute_result",
          "data": {
            "text/plain": [
              "[(1, 1, 1, 1),\n",
              " (1, 1, 0, 0),\n",
              " (2, 0, 1, 0),\n",
              " (2, 1, 0, 1),\n",
              " (2, 0, 1, 1),\n",
              " (1, 0, 1, 0),\n",
              " (0, 0, 1, 1),\n",
              " (1, 0, 1, 1)]"
            ]
          },
          "metadata": {
            "tags": []
          },
          "execution_count": 89
        }
      ]
    },
    {
      "cell_type": "markdown",
      "metadata": {
        "id": "BIyP2aUu76Rn"
      },
      "source": [
        "####  b) Entrenar el modelo"
      ]
    },
    {
      "cell_type": "code",
      "metadata": {
        "id": "Sr9YF2on76Ro",
        "colab": {
          "base_uri": "https://localhost:8080/"
        },
        "outputId": "02f58142-2999-49d9-88d1-92c2070e233b"
      },
      "source": [
        "#Import Gaussian Naive Bayes model\n",
        "from sklearn.naive_bayes import CategoricalNB\n",
        "# De sklearn.naive_bayes importar GaussianNB, BernoulliNB, MultinomialNB  de acuerdo a los tipos de datos\n",
        "\n",
        "\n",
        "#Create a Gaussian Classifier\n",
        "model = CategoricalNB()\n",
        "model.fit(X_train_contact, y_train_contact)\n",
        "\n",
        "#Predicted output:\n",
        "predicted = model.predict([[2, 0, 1, 0]])\n",
        "print(predicted)\n"
      ],
      "execution_count": null,
      "outputs": [
        {
          "output_type": "stream",
          "text": [
            "[2]\n"
          ],
          "name": "stdout"
        }
      ]
    },
    {
      "cell_type": "markdown",
      "metadata": {
        "id": "pdU363H476Rr"
      },
      "source": [
        "#### c) Aplicar el modelo al conjunto de test"
      ]
    },
    {
      "cell_type": "code",
      "metadata": {
        "id": "xMJWhCy376Rs"
      },
      "source": [
        "from sklearn.metrics import precision_score, recall_score, confusion_matrix, f1_score, classification_report\n",
        "\n",
        "y_pred_contact = model.predict(X_test_contact)"
      ],
      "execution_count": null,
      "outputs": []
    },
    {
      "cell_type": "markdown",
      "metadata": {
        "id": "Do5LHhjj76Rv"
      },
      "source": [
        "#### d) Medir el desempeño del modelo calculando Matriz de confusión, Exactitud (Accuracy), Error de clasificación, Precisión (Precision), Índice de Recuperación (Recall), Medida F1"
      ]
    },
    {
      "cell_type": "code",
      "metadata": {
        "id": "FZuC2Hn776Rw",
        "colab": {
          "base_uri": "https://localhost:8080/",
          "height": 606
        },
        "outputId": "81c38064-c909-49d4-d3fb-bce35759a7d9"
      },
      "source": [
        "import matplotlib.pyplot as plt\n",
        "from sklearn.utils.multiclass import unique_labels\n",
        "\n",
        "#Se Define la función para dibujar la matriz de confusión:\n",
        "def plot_confusion_matrix(y_true, y_pred, classes,\n",
        "                          normalize=False, cmap=plt.cm.Blues):\n",
        "\n",
        "    title = 'confusion matrix'\n",
        "    cm = confusion_matrix(y_true, y_pred)\n",
        "    #classes = classes[unique_labels(y_true, y_pred)]\n",
        "    \n",
        "    #Matriz de Consufión calculada:\n",
        "    print(\"Se imprime la matriz de Confusión\")\n",
        "\n",
        "    fig, ax = plt.subplots()\n",
        "    im = ax.imshow(cm, interpolation='nearest', cmap=cmap)\n",
        "    ax.figure.colorbar(im, ax=ax)\n",
        "    ax.set(xticks=np.arange(cm.shape[1]),\n",
        "           yticks=np.arange(cm.shape[0]),\n",
        "           xticklabels=classes, yticklabels=classes,\n",
        "           title=title,\n",
        "           ylabel='Etiqueta Verdadera',\n",
        "           xlabel='Etiqueta predicha')\n",
        "\n",
        "    plt.setp(ax.get_xticklabels(), rotation=45, ha=\"right\",\n",
        "             rotation_mode=\"anchor\")\n",
        "\n",
        "    fmt = '.2f' if normalize else 'd'\n",
        "    thresh = cm.max() / 2.\n",
        "    for i in range(cm.shape[0]):\n",
        "        for j in range(cm.shape[1]):\n",
        "            ax.text(j, i, format(cm[i, j], fmt),\n",
        "                    ha=\"center\", va=\"center\",\n",
        "                    color=\"red\" if cm[i, j] > thresh else \"red\")\n",
        "    fig.tight_layout()\n",
        "    return ax\n",
        "\n",
        "\n",
        "np.set_printoptions(precision=2)\n",
        "y_test_contact = list(map(int, y_test_contact))\n",
        "y_pred_contact = list(map(int, y_pred_contact))\n",
        "\n",
        "class_names = ['none', 'soft', 'hard']\n",
        "cm = confusion_matrix(y_test_contact, y_pred_contact)\n",
        "\n",
        "plot_confusion_matrix(y_test_contact, y_pred_contact, classes=class_names)\n",
        "plt.show()\n",
        "\n",
        "print(\"Imprimiendo el análisis de los resultados accuracy, precision, recall, f1: \")\n",
        "\n",
        "print(cm)\n",
        "# Print the precision and recall, among other metrics\n",
        "print(classification_report(y_test_contact, y_pred_contact, digits=2))\n"
      ],
      "execution_count": null,
      "outputs": [
        {
          "output_type": "stream",
          "text": [
            "Se imprime la matriz de Confusión\n"
          ],
          "name": "stdout"
        },
        {
          "output_type": "display_data",
          "data": {
            "image/png": "[encoded data removed]",
            "text/plain": [
              "<Figure size 432x288 with 2 Axes>"
            ]
          },
          "metadata": {
            "tags": [],
            "needs_background": "light"
          }
        },
        {
          "output_type": "stream",
          "text": [
            "Imprimiendo el análisis de los resultados accuracy, precision, recall, f1: \n",
            "[[0 0 1]\n",
            " [1 5 1]\n",
            " [0 0 0]]\n",
            "              precision    recall  f1-score   support\n",
            "\n",
            "           0       0.00      0.00      0.00         1\n",
            "           1       1.00      0.71      0.83         7\n",
            "           2       0.00      0.00      0.00         0\n",
            "\n",
            "    accuracy                           0.62         8\n",
            "   macro avg       0.33      0.24      0.28         8\n",
            "weighted avg       0.88      0.62      0.73         8\n",
            "\n"
          ],
          "name": "stdout"
        },
        {
          "output_type": "stream",
          "text": [
            "/usr/local/lib/python3.7/dist-packages/sklearn/metrics/_classification.py:1272: UndefinedMetricWarning: Recall and F-score are ill-defined and being set to 0.0 in labels with no true samples. Use `zero_division` parameter to control this behavior.\n",
            "  _warn_prf(average, modifier, msg_start, len(result))\n"
          ],
          "name": "stderr"
        }
      ]
    },
    {
      "cell_type": "markdown",
      "metadata": {
        "id": "qB-LJXlZ76Rz"
      },
      "source": [
        "# **2. Crear un modelo usando Naive Bayes al conjunto de datos de IRIS.**"
      ]
    },
    {
      "cell_type": "code",
      "metadata": {
        "colab": {
          "base_uri": "https://localhost:8080/",
          "height": 419
        },
        "id": "CWLcH_1O53Q1",
        "outputId": "4e723cd9-eb4f-48d0-c27d-948269311b55"
      },
      "source": [
        "#Reading the Cathegorical data:\n",
        "#pd_weather = pd.read_csv('weka_dataset/weather.nominal.arff', sep=',', \n",
        " #                        names=['outlook','temperature','humidity','windy','play'])\n",
        "\n",
        "pd_iris = pd.read_csv('iris.csv')\n",
        "X = pd_iris.values\n",
        "y = pd_iris['species']\n",
        "\n",
        "pd_iris\n",
        "\n",
        "#print(X)\n",
        "#print(y)"
      ],
      "execution_count": null,
      "outputs": [
        {
          "output_type": "execute_result",
          "data": {
            "text/html": [
              "<div>\n",
              "<style scoped>\n",
              "    .dataframe tbody tr th:only-of-type {\n",
              "        vertical-align: middle;\n",
              "    }\n",
              "\n",
              "    .dataframe tbody tr th {\n",
              "        vertical-align: top;\n",
              "    }\n",
              "\n",
              "    .dataframe thead th {\n",
              "        text-align: right;\n",
              "    }\n",
              "</style>\n",
              "<table border=\"1\" class=\"dataframe\">\n",
              "  <thead>\n",
              "    <tr style=\"text-align: right;\">\n",
              "      <th></th>\n",
              "      <th>sepal_length</th>\n",
              "      <th>sepal_width</th>\n",
              "      <th>petal_length</th>\n",
              "      <th>petal_width</th>\n",
              "      <th>species</th>\n",
              "    </tr>\n",
              "  </thead>\n",
              "  <tbody>\n",
              "    <tr>\n",
              "      <th>0</th>\n",
              "      <td>5.1</td>\n",
              "      <td>3.5</td>\n",
              "      <td>1.4</td>\n",
              "      <td>0.2</td>\n",
              "      <td>setosa</td>\n",
              "    </tr>\n",
              "    <tr>\n",
              "      <th>1</th>\n",
              "      <td>4.9</td>\n",
              "      <td>3.0</td>\n",
              "      <td>1.4</td>\n",
              "      <td>0.2</td>\n",
              "      <td>setosa</td>\n",
              "    </tr>\n",
              "    <tr>\n",
              "      <th>2</th>\n",
              "      <td>4.7</td>\n",
              "      <td>3.2</td>\n",
              "      <td>1.3</td>\n",
              "      <td>0.2</td>\n",
              "      <td>setosa</td>\n",
              "    </tr>\n",
              "    <tr>\n",
              "      <th>3</th>\n",
              "      <td>4.6</td>\n",
              "      <td>3.1</td>\n",
              "      <td>1.5</td>\n",
              "      <td>0.2</td>\n",
              "      <td>setosa</td>\n",
              "    </tr>\n",
              "    <tr>\n",
              "      <th>4</th>\n",
              "      <td>5.0</td>\n",
              "      <td>3.6</td>\n",
              "      <td>1.4</td>\n",
              "      <td>0.2</td>\n",
              "      <td>setosa</td>\n",
              "    </tr>\n",
              "    <tr>\n",
              "      <th>...</th>\n",
              "      <td>...</td>\n",
              "      <td>...</td>\n",
              "      <td>...</td>\n",
              "      <td>...</td>\n",
              "      <td>...</td>\n",
              "    </tr>\n",
              "    <tr>\n",
              "      <th>145</th>\n",
              "      <td>6.7</td>\n",
              "      <td>3.0</td>\n",
              "      <td>5.2</td>\n",
              "      <td>2.3</td>\n",
              "      <td>virginica</td>\n",
              "    </tr>\n",
              "    <tr>\n",
              "      <th>146</th>\n",
              "      <td>6.3</td>\n",
              "      <td>2.5</td>\n",
              "      <td>5.0</td>\n",
              "      <td>1.9</td>\n",
              "      <td>virginica</td>\n",
              "    </tr>\n",
              "    <tr>\n",
              "      <th>147</th>\n",
              "      <td>6.5</td>\n",
              "      <td>3.0</td>\n",
              "      <td>5.2</td>\n",
              "      <td>2.0</td>\n",
              "      <td>virginica</td>\n",
              "    </tr>\n",
              "    <tr>\n",
              "      <th>148</th>\n",
              "      <td>6.2</td>\n",
              "      <td>3.4</td>\n",
              "      <td>5.4</td>\n",
              "      <td>2.3</td>\n",
              "      <td>virginica</td>\n",
              "    </tr>\n",
              "    <tr>\n",
              "      <th>149</th>\n",
              "      <td>5.9</td>\n",
              "      <td>3.0</td>\n",
              "      <td>5.1</td>\n",
              "      <td>1.8</td>\n",
              "      <td>virginica</td>\n",
              "    </tr>\n",
              "  </tbody>\n",
              "</table>\n",
              "<p>150 rows × 5 columns</p>\n",
              "</div>"
            ],
            "text/plain": [
              "     sepal_length  sepal_width  petal_length  petal_width    species\n",
              "0             5.1          3.5           1.4          0.2     setosa\n",
              "1             4.9          3.0           1.4          0.2     setosa\n",
              "2             4.7          3.2           1.3          0.2     setosa\n",
              "3             4.6          3.1           1.5          0.2     setosa\n",
              "4             5.0          3.6           1.4          0.2     setosa\n",
              "..            ...          ...           ...          ...        ...\n",
              "145           6.7          3.0           5.2          2.3  virginica\n",
              "146           6.3          2.5           5.0          1.9  virginica\n",
              "147           6.5          3.0           5.2          2.0  virginica\n",
              "148           6.2          3.4           5.4          2.3  virginica\n",
              "149           5.9          3.0           5.1          1.8  virginica\n",
              "\n",
              "[150 rows x 5 columns]"
            ]
          },
          "metadata": {
            "tags": []
          },
          "execution_count": 65
        }
      ]
    },
    {
      "cell_type": "markdown",
      "metadata": {
        "id": "bmggqnIR76R0"
      },
      "source": [
        "#### a). Realizar una partición del conjunto de datos, usando muestreo estratificado: 70 % para entrenamiento y 30 % para test."
      ]
    },
    {
      "cell_type": "code",
      "metadata": {
        "colab": {
          "base_uri": "https://localhost:8080/"
        },
        "id": "vO7mURdb6TO1",
        "outputId": "3aef6ee6-53fe-499c-87df-aaa4e3f5f160"
      },
      "source": [
        "# Import LabelEncoder\n",
        "from sklearn import preprocessing\n",
        "import numpy as np\n",
        "\n",
        "from sklearn.model_selection import train_test_split\n",
        "\n",
        "le = preprocessing.LabelEncoder()\n",
        "\n",
        "# Converting string labels into numbers.\n",
        "sepal_length_encoded=le.fit_transform(pd_iris['sepal_length'])\n",
        "sepal_width_encoded = le.fit_transform(pd_iris['sepal_width'])\n",
        "petal_length_encoded = le.fit_transform(pd_iris['petal_length'])\n",
        "petal_width_encoded = le.fit_transform(pd_iris['petal_width'])\n",
        "label = le.fit_transform(pd_iris['species'])\n",
        "\n",
        "# Combining all dimensions of the dataset\n",
        "features = list(zip(sepal_length_encoded, sepal_width_encoded, petal_length_encoded, petal_width_encoded))\n",
        "\n",
        "print(features)\n",
        "\n",
        "#Se parten los datos para usar 70 Entrenamiento y 30 test:\n",
        "X_train_iris, X_test_iris, y_train_iris, y_test_iris = train_test_split(features, label,\n",
        "                                                    test_size=.3)"
      ],
      "execution_count": null,
      "outputs": [
        {
          "output_type": "stream",
          "text": [
            "[(8, 14, 4, 1), (6, 9, 4, 1), (4, 11, 3, 1), (3, 10, 5, 1), (7, 15, 4, 1), (11, 18, 7, 3), (3, 13, 4, 2), (7, 13, 5, 1), (1, 8, 4, 1), (6, 10, 5, 0), (11, 16, 5, 1), (5, 13, 6, 1), (5, 9, 4, 0), (0, 9, 1, 0), (15, 19, 2, 1), (14, 22, 5, 3), (11, 18, 3, 3), (8, 14, 4, 2), (14, 17, 7, 2), (8, 17, 5, 2), (11, 13, 7, 1), (8, 16, 5, 3), (3, 15, 0, 1), (8, 12, 7, 4), (5, 13, 8, 1), (7, 9, 6, 1), (7, 13, 6, 3), (9, 14, 5, 1), (9, 13, 4, 1), (4, 11, 6, 1), (5, 10, 6, 1), (11, 13, 5, 3), (9, 20, 5, 0), (12, 21, 4, 1), (6, 10, 5, 0), (7, 11, 2, 1), (12, 14, 3, 1), (6, 10, 5, 0), (1, 9, 3, 1), (8, 13, 5, 1), (7, 14, 3, 2), (2, 2, 3, 2), (1, 11, 3, 1), (7, 14, 6, 5), (8, 17, 8, 3), (5, 9, 4, 2), (8, 17, 6, 1), (3, 11, 4, 1), (10, 16, 5, 1), (7, 12, 4, 1), (27, 11, 23, 10), (21, 11, 21, 11), (26, 10, 25, 11), (12, 2, 16, 9), (22, 7, 22, 11), (14, 7, 21, 9), (20, 12, 23, 12), (6, 3, 10, 6), (23, 8, 22, 9), (9, 6, 15, 10), (7, 0, 11, 6), (16, 9, 18, 11), (17, 1, 16, 6), (18, 8, 23, 10), (13, 8, 12, 9), (24, 10, 20, 10), (13, 9, 21, 11), (15, 6, 17, 6), (19, 1, 21, 11), (13, 4, 15, 7), (16, 11, 24, 14), (18, 7, 16, 9), (20, 4, 25, 11), (18, 7, 23, 8), (21, 8, 19, 9), (23, 9, 20, 10), (25, 7, 24, 10), (24, 9, 26, 13), (17, 8, 21, 11), (14, 5, 11, 6), (12, 3, 14, 7), (12, 3, 13, 6), (15, 6, 15, 8), (17, 6, 27, 12), (11, 9, 21, 11), (17, 13, 21, 12), (24, 10, 23, 11), (20, 2, 20, 9), (13, 9, 17, 9), (12, 4, 16, 9), (12, 5, 20, 8), (18, 9, 22, 10), (15, 5, 16, 8), (7, 2, 10, 6), (13, 6, 18, 9), (14, 9, 18, 8), (14, 8, 18, 9), (19, 8, 19, 9), (8, 4, 9, 7), (14, 7, 17, 9), (20, 12, 36, 21), (15, 6, 27, 15), (28, 9, 35, 17), (20, 8, 32, 14), (22, 9, 34, 18), (32, 9, 40, 17), (6, 4, 21, 13), (30, 8, 38, 14), (24, 4, 34, 14), (29, 15, 37, 21), (22, 11, 27, 16), (21, 6, 29, 15), (25, 9, 31, 17), (14, 4, 26, 16), (15, 7, 27, 20), (21, 11, 29, 19), (22, 9, 31, 14), (33, 17, 41, 18), (33, 5, 42, 19), (17, 1, 26, 11), (26, 11, 33, 19), (13, 7, 25, 16), (33, 7, 41, 16), (20, 6, 25, 14), (24, 12, 33, 17), (29, 11, 36, 14), (19, 7, 24, 14), (18, 9, 25, 14), (21, 7, 32, 17), (29, 9, 34, 12), (31, 7, 37, 15), (34, 17, 39, 16), (21, 7, 32, 18), (20, 7, 27, 11), (18, 5, 32, 10), (33, 9, 37, 19), (20, 13, 32, 20), (21, 10, 31, 14), (17, 9, 24, 14), (26, 10, 30, 17), (24, 10, 32, 20), (26, 10, 27, 19), (15, 6, 27, 15), (25, 11, 35, 19), (24, 12, 33, 21), (24, 9, 28, 19), (20, 4, 26, 15), (22, 9, 28, 16), (19, 13, 30, 19), (16, 9, 27, 14)]\n"
          ],
          "name": "stdout"
        }
      ]
    },
    {
      "cell_type": "markdown",
      "metadata": {
        "id": "aMjlugu-76R4"
      },
      "source": [
        "#### b) Entrenar el modelo"
      ]
    },
    {
      "cell_type": "code",
      "metadata": {
        "colab": {
          "base_uri": "https://localhost:8080/"
        },
        "id": "aqvtNHE67bWL",
        "outputId": "e0b59e64-0494-4794-8d80-e351f400fd75"
      },
      "source": [
        "len(X_train_iris)"
      ],
      "execution_count": null,
      "outputs": [
        {
          "output_type": "execute_result",
          "data": {
            "text/plain": [
              "105"
            ]
          },
          "metadata": {
            "tags": []
          },
          "execution_count": 67
        }
      ]
    },
    {
      "cell_type": "code",
      "metadata": {
        "colab": {
          "base_uri": "https://localhost:8080/"
        },
        "id": "txLxrVaC7VLG",
        "outputId": "4011879a-d758-4e31-da71-59a1d8076ae7"
      },
      "source": [
        "#Import Gaussian Naive Bayes model\n",
        "from sklearn.naive_bayes import CategoricalNB\n",
        "# De sklearn.naive_bayes importar GaussianNB, BernoulliNB, MultinomialNB  de acuerdo a los tipos de datos\n",
        "\n",
        "\n",
        "#Create a Gaussian Classifier\n",
        "model = CategoricalNB()\n",
        "model.fit(X_train_iris, y_train_iris)\n",
        "\n",
        "#Predicted output:\n",
        "predicted = model.predict(X_train_iris)\n",
        "print(predicted)"
      ],
      "execution_count": null,
      "outputs": [
        {
          "output_type": "stream",
          "text": [
            "[2 0 2 1 0 2 1 2 1 1 2 0 2 2 1 0 0 2 2 1 2 2 2 2 2 0 1 2 0 1 2 1 0 0 2 2 0\n",
            " 2 0 1 0 0 2 0 1 0 1 2 2 1 2 0 1 0 2 1 2 1 2 1 0 2 1 0 1 1 0 0 1 0 1 2 0 1\n",
            " 2 0 0 0 1 0 1 0 2 1 1 1 1 0 2 0 1 2 2 2 2 2 1 0 2 2 2 1 2 1 1]\n"
          ],
          "name": "stdout"
        }
      ]
    },
    {
      "cell_type": "markdown",
      "metadata": {
        "id": "mFC3aXOY76R7"
      },
      "source": [
        "#### c) Aplicar el modelo al conjunto de test\n",
        "\t\n"
      ]
    },
    {
      "cell_type": "code",
      "metadata": {
        "id": "gcrL3lac-mJ5"
      },
      "source": [
        "from sklearn.metrics import precision_score, recall_score, confusion_matrix, f1_score, classification_report\n",
        "\n",
        "y_pred_iris = model.predict(X_test_iris)"
      ],
      "execution_count": null,
      "outputs": []
    },
    {
      "cell_type": "markdown",
      "metadata": {
        "id": "ZJaDzjiu76R_"
      },
      "source": [
        "#### d) Medir el desempeño del modelo calculando Matriz de confusión, Exactitud (Accuracy), Error de clasificación, Precisión (Precision), Índice de Recuperación (Recall), Medida F1"
      ]
    },
    {
      "cell_type": "code",
      "metadata": {
        "colab": {
          "base_uri": "https://localhost:8080/",
          "height": 552
        },
        "id": "rQn2F0pAPTDz",
        "outputId": "9c774eff-8483-4407-83b2-9993347236f3"
      },
      "source": [
        "import matplotlib.pyplot as plt\n",
        "from sklearn.utils.multiclass import unique_labels\n",
        "\n",
        "#Se Define la función para dibujar la matriz de confusión:\n",
        "def plot_confusion_matrix(y_true, y_pred, classes,\n",
        "                          normalize=False, cmap=plt.cm.Blues):\n",
        "\n",
        "    title = 'confusion matrix'\n",
        "    cm = confusion_matrix(y_true, y_pred)\n",
        "    #classes = classes[unique_labels(y_true, y_pred)]\n",
        "    \n",
        "    #Matriz de Consufión calculada:\n",
        "    print(\"Se imprime la matriz de Confusión\")\n",
        "\n",
        "    fig, ax = plt.subplots()\n",
        "    im = ax.imshow(cm, interpolation='nearest', cmap=cmap)\n",
        "    ax.figure.colorbar(im, ax=ax)\n",
        "    ax.set(xticks=np.arange(cm.shape[1]),\n",
        "           yticks=np.arange(cm.shape[0]),\n",
        "           xticklabels=classes, yticklabels=classes,\n",
        "           title=title,\n",
        "           ylabel='Etiqueta Verdadera',\n",
        "           xlabel='Etiqueta predicha')\n",
        "\n",
        "    plt.setp(ax.get_xticklabels(), rotation=45, ha=\"right\",\n",
        "             rotation_mode=\"anchor\")\n",
        "\n",
        "    fmt = '.2f' if normalize else 'd'\n",
        "    thresh = cm.max() / 2.\n",
        "    for i in range(cm.shape[0]):\n",
        "        for j in range(cm.shape[1]):\n",
        "            ax.text(j, i, format(cm[i, j], fmt),\n",
        "                    ha=\"center\", va=\"center\",\n",
        "                    color=\"red\" if cm[i, j] > thresh else \"red\")\n",
        "    fig.tight_layout()\n",
        "    return ax\n",
        "\n",
        "\n",
        "np.set_printoptions(precision=2)\n",
        "y_test_iris = list(map(int, y_test_iris))\n",
        "y_pred_iris = list(map(int, y_pred_iris))\n",
        "\n",
        "class_names = ['setosa', 'versicolor', 'virginica']\n",
        "cm = confusion_matrix(y_test_iris, y_pred_iris)\n",
        "\n",
        "plot_confusion_matrix(y_test_iris, y_pred_iris, classes=class_names)\n",
        "plt.show()\n",
        "\n",
        "print(\"Imprimiendo el análisis de los resultados accuracy, precision, recall, f1: \")\n",
        "\n",
        "print(cm)\n",
        "# Print the precision and recall, among other metrics\n",
        "print(classification_report(y_test_iris, y_pred_iris, digits=2))"
      ],
      "execution_count": null,
      "outputs": [
        {
          "output_type": "stream",
          "text": [
            "Se imprime la matriz de Confusión\n"
          ],
          "name": "stdout"
        },
        {
          "output_type": "display_data",
          "data": {
            "image/png": "[encoded data removed]",
            "text/plain": [
              "<Figure size 432x288 with 2 Axes>"
            ]
          },
          "metadata": {
            "tags": [],
            "needs_background": "light"
          }
        },
        {
          "output_type": "stream",
          "text": [
            "Imprimiendo el análisis de los resultados accuracy, precision, recall, f1: \n",
            "[[19  0  0]\n",
            " [ 0 16  0]\n",
            " [ 0  1  9]]\n",
            "              precision    recall  f1-score   support\n",
            "\n",
            "           0       1.00      1.00      1.00        19\n",
            "           1       0.94      1.00      0.97        16\n",
            "           2       1.00      0.90      0.95        10\n",
            "\n",
            "    accuracy                           0.98        45\n",
            "   macro avg       0.98      0.97      0.97        45\n",
            "weighted avg       0.98      0.98      0.98        45\n",
            "\n"
          ],
          "name": "stdout"
        }
      ]
    },
    {
      "cell_type": "markdown",
      "metadata": {
        "id": "ehygB3oc76Tg"
      },
      "source": [
        "# **3. ¿Qué diferencias tienen los modelos Naive Bayes en cuanto al tipo de dato que manejan (discreto y continuo)?**"
      ]
    },
    {
      "cell_type": "markdown",
      "metadata": {
        "id": "iXNmsHCja5Zp"
      },
      "source": [
        "En general se puede ver como los modelos de Naive Bayes para datos continuos (Iris) arrojan mejores resultados en cuanto a medidadas de desempeño como: *precision, recall y la medida F*. Esto puede llegar a deberse a la precisión con el manejo de los datos continuos, los cuales representan valores puntuales. Por otra parte, para los datos continuos se genera una discretización y tan solo se miden frecuencias por categoría.\n",
        "\n",
        "              Dataset ContactLenses                             Dataset Iris\n",
        "![image.png](data:image/png;base64,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)"
      ]
    },
    {
      "cell_type": "markdown",
      "metadata": {
        "id": "hShUwR5Rcngc"
      },
      "source": [
        "# **ÁRBOL DE DECISIÓN**"
      ]
    },
    {
      "cell_type": "code",
      "metadata": {
        "colab": {
          "base_uri": "https://localhost:8080/"
        },
        "id": "j2iLQUpJmQre",
        "outputId": "67453712-c6d1-4d70-d1ba-0c63cef44c42"
      },
      "source": [
        "import pandas as pd\n",
        "nba = pd.read_csv('nba.txt', sep=\" \", header='infer')\n",
        "print(nba)"
      ],
      "execution_count": 1,
      "outputs": [
        {
          "output_type": "stream",
          "text": [
            "        G    GS   MPG    FG%    3p%    FT%  ...  SPG  BPG   TO   PF   PPG  Class\n",
            "0     362   223  24.4  0.466  0.405  0.800  ...  0.5  0.3  0.8  2.0   8.8      1\n",
            "1      19     0  11.9  0.273  0.298  0.970  ...  0.4  0.0  1.2  1.4   4.6      1\n",
            "2    1148  1140  36.9  0.452  0.400  0.894  ...  1.2  0.2  2.2  2.3  20.0      1\n",
            "3     466   170  19.8  0.482  0.284  0.745  ...  1.2  0.4  1.4  2.2   7.8      1\n",
            "4      38     1   9.5  0.381  0.292  0.743  ...  0.3  0.1  0.5  1.1   3.1      1\n",
            "..    ...   ...   ...    ...    ...    ...  ...  ...  ...  ...  ...   ...    ...\n",
            "303    14     0  12.0  0.414  0.000  0.478  ...  0.5  0.4  1.1  1.6   2.5      2\n",
            "304    19     0   5.8  0.444  0.000  0.417  ...  0.2  0.8  0.3  0.7   1.5      2\n",
            "305    43     5  14.7  0.507  0.000  0.652  ...  0.5  0.4  0.5  1.4   4.6      2\n",
            "306   137    29  14.4  0.511  0.000  0.624  ...  0.3  1.2  0.9  2.4   4.2      2\n",
            "307   361   104  15.5  0.462  0.222  0.740  ...  0.5  0.4  0.8  2.0   4.5      2\n",
            "\n",
            "[308 rows x 16 columns]\n"
          ],
          "name": "stdout"
        }
      ]
    },
    {
      "cell_type": "code",
      "metadata": {
        "colab": {
          "base_uri": "https://localhost:8080/",
          "height": 450
        },
        "id": "7b596BSNoMAq",
        "outputId": "fffd2c86-f6db-430f-d782-b808b1528bc0"
      },
      "source": [
        "pd.crosstab([nba['MPG'], nba['FG%']], nba['Class'])"
      ],
      "execution_count": 2,
      "outputs": [
        {
          "output_type": "execute_result",
          "data": {
            "text/html": [
              "<div>\n",
              "<style scoped>\n",
              "    .dataframe tbody tr th:only-of-type {\n",
              "        vertical-align: middle;\n",
              "    }\n",
              "\n",
              "    .dataframe tbody tr th {\n",
              "        vertical-align: top;\n",
              "    }\n",
              "\n",
              "    .dataframe thead th {\n",
              "        text-align: right;\n",
              "    }\n",
              "</style>\n",
              "<table border=\"1\" class=\"dataframe\">\n",
              "  <thead>\n",
              "    <tr style=\"text-align: right;\">\n",
              "      <th></th>\n",
              "      <th>Class</th>\n",
              "      <th>1</th>\n",
              "      <th>2</th>\n",
              "    </tr>\n",
              "    <tr>\n",
              "      <th>MPG</th>\n",
              "      <th>FG%</th>\n",
              "      <th></th>\n",
              "      <th></th>\n",
              "    </tr>\n",
              "  </thead>\n",
              "  <tbody>\n",
              "    <tr>\n",
              "      <th>4.5</th>\n",
              "      <th>0.357</th>\n",
              "      <td>1</td>\n",
              "      <td>0</td>\n",
              "    </tr>\n",
              "    <tr>\n",
              "      <th>5.1</th>\n",
              "      <th>0.515</th>\n",
              "      <td>0</td>\n",
              "      <td>1</td>\n",
              "    </tr>\n",
              "    <tr>\n",
              "      <th>5.8</th>\n",
              "      <th>0.444</th>\n",
              "      <td>0</td>\n",
              "      <td>1</td>\n",
              "    </tr>\n",
              "    <tr>\n",
              "      <th>5.9</th>\n",
              "      <th>0.290</th>\n",
              "      <td>0</td>\n",
              "      <td>1</td>\n",
              "    </tr>\n",
              "    <tr>\n",
              "      <th>6.1</th>\n",
              "      <th>0.477</th>\n",
              "      <td>0</td>\n",
              "      <td>1</td>\n",
              "    </tr>\n",
              "    <tr>\n",
              "      <th>...</th>\n",
              "      <th>...</th>\n",
              "      <td>...</td>\n",
              "      <td>...</td>\n",
              "    </tr>\n",
              "    <tr>\n",
              "      <th>36.9</th>\n",
              "      <th>0.452</th>\n",
              "      <td>1</td>\n",
              "      <td>0</td>\n",
              "    </tr>\n",
              "    <tr>\n",
              "      <th rowspan=\"2\" valign=\"top\">37.0</th>\n",
              "      <th>0.416</th>\n",
              "      <td>1</td>\n",
              "      <td>0</td>\n",
              "    </tr>\n",
              "    <tr>\n",
              "      <th>0.472</th>\n",
              "      <td>1</td>\n",
              "      <td>0</td>\n",
              "    </tr>\n",
              "    <tr>\n",
              "      <th>37.2</th>\n",
              "      <th>0.486</th>\n",
              "      <td>1</td>\n",
              "      <td>0</td>\n",
              "    </tr>\n",
              "    <tr>\n",
              "      <th>37.7</th>\n",
              "      <th>0.461</th>\n",
              "      <td>1</td>\n",
              "      <td>0</td>\n",
              "    </tr>\n",
              "  </tbody>\n",
              "</table>\n",
              "<p>308 rows × 2 columns</p>\n",
              "</div>"
            ],
            "text/plain": [
              "Class       1  2\n",
              "MPG  FG%        \n",
              "4.5  0.357  1  0\n",
              "5.1  0.515  0  1\n",
              "5.8  0.444  0  1\n",
              "5.9  0.290  0  1\n",
              "6.1  0.477  0  1\n",
              "...        .. ..\n",
              "36.9 0.452  1  0\n",
              "37.0 0.416  1  0\n",
              "     0.472  1  0\n",
              "37.2 0.486  1  0\n",
              "37.7 0.461  1  0\n",
              "\n",
              "[308 rows x 2 columns]"
            ]
          },
          "metadata": {
            "tags": []
          },
          "execution_count": 2
        }
      ]
    },
    {
      "cell_type": "code",
      "metadata": {
        "id": "pwNSkbTRthHW"
      },
      "source": [
        "from sklearn import tree\n",
        "\n",
        "Y = nba['Class']\n",
        "X = nba.drop(['Class'],axis=1)\n",
        "\n",
        "clf = tree.DecisionTreeClassifier(criterion='entropy',max_depth=3)\n",
        "clf = clf.fit(X, Y)"
      ],
      "execution_count": 8,
      "outputs": []
    },
    {
      "cell_type": "code",
      "metadata": {
        "colab": {
          "base_uri": "https://localhost:8080/",
          "height": 594
        },
        "id": "KWKDMudgt3Be",
        "outputId": "a5f8d3e6-f58a-4685-a531-9087a095a9ad"
      },
      "source": [
        "import pydotplus \n",
        "from IPython.display import Image\n",
        "\n",
        "dot_data = tree.export_graphviz(clf, feature_names=X.columns, class_names=['mammals','non-mammals'], filled= True,\n",
        "                                out_file=None, ) \n",
        "graph = pydotplus.graph_from_dot_data(dot_data) \n",
        "Image(graph.create_png())"
      ],
      "execution_count": 9,
      "outputs": [
        {
          "output_type": "execute_result",
          "data": {
            "image/png": "[encoded data removed]",
            "text/plain": [
              "<IPython.core.display.Image object>"
            ]
          },
          "metadata": {
            "tags": []
          },
          "execution_count": 9
        }
      ]
    }
  ]
}