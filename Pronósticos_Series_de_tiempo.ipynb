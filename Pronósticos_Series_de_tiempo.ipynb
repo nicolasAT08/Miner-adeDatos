{
  "nbformat": 4,
  "nbformat_minor": 0,
  "metadata": {
    "colab": {
      "name": "Pronósticos-Series de tiempo.ipynb",
      "provenance": [],
      "collapsed_sections": []
    },
    "kernelspec": {
      "name": "python3",
      "display_name": "Python 3"
    },
    "language_info": {
      "name": "python"
    }
  },
  "cells": [
    {
      "cell_type": "code",
      "metadata": {
        "colab": {
          "base_uri": "https://localhost:8080/"
        },
        "id": "JCQfloJYa4KC",
        "outputId": "99bff0fe-f64c-4a13-94f0-6199a75852f5"
      },
      "source": [
        "from google.colab import drive\n",
        "drive.mount('/content/drive')"
      ],
      "execution_count": 14,
      "outputs": [
        {
          "output_type": "stream",
          "text": [
            "Drive already mounted at /content/drive; to attempt to forcibly remount, call drive.mount(\"/content/drive\", force_remount=True).\n"
          ],
          "name": "stdout"
        }
      ]
    },
    {
      "cell_type": "code",
      "metadata": {
        "id": "_QkqH-4rbC_x"
      },
      "source": [
        "import pandas as pd \n",
        "import numpy as np\n",
        "from scipy.stats import trim_mean\n",
        "from numpy import mean, absolute\n",
        "import seaborn as sns\n",
        "import matplotlib.pyplot as plt\n",
        "from pylab import *\n",
        "from sklearn import *"
      ],
      "execution_count": 15,
      "outputs": []
    },
    {
      "cell_type": "code",
      "metadata": {
        "id": "HrpNABw6ahpm"
      },
      "source": [
        "import pandas as pd\n",
        "data_clust = pd.read_csv('/content/drive/MyDrive/UseLand_Clustering_Pron.csv' , sep = \";\")"
      ],
      "execution_count": 16,
      "outputs": []
    },
    {
      "cell_type": "code",
      "metadata": {
        "colab": {
          "base_uri": "https://localhost:8080/",
          "height": 421
        },
        "id": "XAnwS2nwvIjM",
        "outputId": "73c60363-bf7f-48d5-9ca1-d0a713fbb623"
      },
      "source": [
        "#data_clust = data_clust.drop(data_clust[data_clust['Value'] == 0].index)\n",
        "data_clust.plot.scatter(x='Year',y='Value')\n",
        "plt.title('Colombia - Agricultural Land')"
      ],
      "execution_count": 17,
      "outputs": [
        {
          "output_type": "execute_result",
          "data": {
            "text/plain": [
              "Text(0.5, 1.0, 'Colombia - Agricultural Land')"
            ]
          },
          "metadata": {
            "tags": []
          },
          "execution_count": 17
        },
        {
          "output_type": "display_data",
          "data": {
            "image/png": "[encoded data removed]",
            "text/plain": [
              "<Figure size 576x432 with 1 Axes>"
            ]
          },
          "metadata": {
            "tags": [],
            "needs_background": "light"
          }
        }
      ]
    },
    {
      "cell_type": "code",
      "metadata": {
        "colab": {
          "base_uri": "https://localhost:8080/",
          "height": 204
        },
        "id": "ZWjE6cmCgBSO",
        "outputId": "e40eb7d0-1966-46ee-d4b4-21a876694d29"
      },
      "source": [
        "data_clust.head()"
      ],
      "execution_count": 18,
      "outputs": [
        {
          "output_type": "execute_result",
          "data": {
            "text/html": [
              "<div>\n",
              "<style scoped>\n",
              "    .dataframe tbody tr th:only-of-type {\n",
              "        vertical-align: middle;\n",
              "    }\n",
              "\n",
              "    .dataframe tbody tr th {\n",
              "        vertical-align: top;\n",
              "    }\n",
              "\n",
              "    .dataframe thead th {\n",
              "        text-align: right;\n",
              "    }\n",
              "</style>\n",
              "<table border=\"1\" class=\"dataframe\">\n",
              "  <thead>\n",
              "    <tr style=\"text-align: right;\">\n",
              "      <th></th>\n",
              "      <th>Year</th>\n",
              "      <th>Value</th>\n",
              "    </tr>\n",
              "  </thead>\n",
              "  <tbody>\n",
              "    <tr>\n",
              "      <th>0</th>\n",
              "      <td>2018</td>\n",
              "      <td>4949200</td>\n",
              "    </tr>\n",
              "    <tr>\n",
              "      <th>1</th>\n",
              "      <td>2017</td>\n",
              "      <td>4949900</td>\n",
              "    </tr>\n",
              "    <tr>\n",
              "      <th>2</th>\n",
              "      <td>2016</td>\n",
              "      <td>4472300</td>\n",
              "    </tr>\n",
              "    <tr>\n",
              "      <th>3</th>\n",
              "      <td>2015</td>\n",
              "      <td>4475390</td>\n",
              "    </tr>\n",
              "    <tr>\n",
              "      <th>4</th>\n",
              "      <td>2014</td>\n",
              "      <td>4478470</td>\n",
              "    </tr>\n",
              "  </tbody>\n",
              "</table>\n",
              "</div>"
            ],
            "text/plain": [
              "   Year    Value\n",
              "0  2018  4949200\n",
              "1  2017  4949900\n",
              "2  2016  4472300\n",
              "3  2015  4475390\n",
              "4  2014  4478470"
            ]
          },
          "metadata": {
            "tags": []
          },
          "execution_count": 18
        }
      ]
    },
    {
      "cell_type": "code",
      "metadata": {
        "id": "8gIukZWXbJAd"
      },
      "source": [
        "from sklearn.cluster import KMeans\n",
        "import numpy as np\n",
        "# Definición de una funcion del simplekmeans para ver por iteraciones\n",
        "from sklearn.metrics.pairwise import euclidean_distances\n",
        "def simple_kmeans(data_clust,k, iter=100):\n",
        "    # Inicializacion de los primeros centroides\n",
        "    init_clus=np.random.choice(np.arange(data_clust.shape[0]),replace=False, size=k)\n",
        "    #print(init_clus)\n",
        "    clusters=data_clust[init_clus]\n",
        "    preds=np.argmin(euclidean_distances(data_clust,clusters),axis=1)\n",
        "    all_clusters=[clusters.copy()]\n",
        "    all_preds=[preds]\n",
        "    for i in range(iter):\n",
        "        for clus in range(k):\n",
        "            clusters[clus]=data_clust[preds==clus].mean(axis=0)\n",
        "            all_clusters.append(clusters.copy())\n",
        "            preds=np.argmin(euclidean_distances(data_clust,clusters),axis=1)\n",
        "            all_preds.append(preds.copy())\n",
        "    return all_clusters,all_preds\n",
        "\n",
        "points = np.array(data_clust)\n",
        "all_clusters,all_preds=simple_kmeans(points,17)\n"
      ],
      "execution_count": 19,
      "outputs": []
    },
    {
      "cell_type": "code",
      "metadata": {
        "colab": {
          "base_uri": "https://localhost:8080/",
          "height": 402
        },
        "id": "9e-NReDubQqZ",
        "outputId": "e9a683c7-9274-4c6e-b8c7-f528d6a9be11"
      },
      "source": [
        "# Iteración 0. Se realiza la inicialización aleatoriamente, para el ejemplo son 5 puntos, \n",
        "# y los demas puntos se asignan al cluster más cercano.\n",
        "\n",
        "iteration=80 #@param {type:\"slider\", min:0, max:80, step:1}\n",
        "plt.figure(figsize=(6,6))\n",
        "plt.scatter(points[:,0],points[:,1],c=all_preds[iteration])\n",
        "plt.scatter(all_clusters[iteration][:,0],all_clusters[iteration][:,1],c=\"r\")"
      ],
      "execution_count": 20,
      "outputs": [
        {
          "output_type": "execute_result",
          "data": {
            "text/plain": [
              "<matplotlib.collections.PathCollection at 0x7fa7808f2e10>"
            ]
          },
          "metadata": {
            "tags": []
          },
          "execution_count": 20
        },
        {
          "output_type": "display_data",
          "data": {
            "image/png": "[encoded data removed]",
            "text/plain": [
              "<Figure size 432x432 with 1 Axes>"
            ]
          },
          "metadata": {
            "tags": [],
            "needs_background": "light"
          }
        }
      ]
    },
    {
      "cell_type": "code",
      "metadata": {
        "id": "UQ0el9vvtsh4"
      },
      "source": [
        "import os\n",
        "import datetime\n",
        "\n",
        "import IPython\n",
        "import IPython.display\n",
        "import matplotlib as mpl\n",
        "import matplotlib.pyplot as plt\n",
        "import numpy as np\n",
        "import pandas as pd\n",
        "import seaborn as sns\n",
        "import tensorflow as tf\n",
        "\n",
        "mpl.rcParams['figure.figsize'] = (8, 6)\n",
        "mpl.rcParams['axes.grid'] = False"
      ],
      "execution_count": 21,
      "outputs": []
    },
    {
      "cell_type": "markdown",
      "metadata": {
        "id": "l9krc4AKYYmf"
      },
      "source": [
        "# PRONÓSTICOS"
      ]
    },
    {
      "cell_type": "code",
      "metadata": {
        "colab": {
          "base_uri": "https://localhost:8080/",
          "height": 295
        },
        "id": "23U7hPq07I6c",
        "outputId": "67051a95-1ebd-4970-a977-05ef9234a4f1"
      },
      "source": [
        "x = data_clust.Year\n",
        "y = data_clust.Value\n",
        "plt.figure(figsize = (6,4)) #Tamaño en x,y de la figura\n",
        "plt . grid ( True )\n",
        "plt.title('Colombia')\n",
        "plt . ylabel('Agricultural Land')\n",
        "plt . xlabel('Año')\n",
        "plt . plot ( x, y )\n",
        "plt.show()"
      ],
      "execution_count": 22,
      "outputs": [
        {
          "output_type": "display_data",
          "data": {
            "image/png": "[encoded data removed]",
            "text/plain": [
              "<Figure size 432x288 with 1 Axes>"
            ]
          },
          "metadata": {
            "tags": [],
            "needs_background": "light"
          }
        }
      ]
    },
    {
      "cell_type": "code",
      "metadata": {
        "colab": {
          "base_uri": "https://localhost:8080/"
        },
        "id": "b5j2EeUxNhOs",
        "outputId": "ba602532-2261-404b-96e7-8d82f2df7e95"
      },
      "source": [
        "data_clust.shape[0]"
      ],
      "execution_count": 61,
      "outputs": [
        {
          "output_type": "execute_result",
          "data": {
            "text/plain": [
              "58"
            ]
          },
          "metadata": {
            "tags": []
          },
          "execution_count": 61
        }
      ]
    },
    {
      "cell_type": "code",
      "metadata": {
        "id": "BWuFQFGXBnpd"
      },
      "source": [
        "#VENTANA DE DATOS\n",
        "#Divisió de los datos (70\\%, 20\\%, 10\\%) para entrenmiento, validación y prueba, respectivamente.\n",
        "column_indices = {name: i for i, name in enumerate(data_clust.columns)}\n",
        "n =len(data_clust)\n",
        "train_df = data_clust[0:int(n*0.7)]\n",
        "val_df = data_clust[int(n*0.7):int(n*0.9)]\n",
        "test_df = data_clust[int(n*0.9):]\n",
        "num_features = data_clust.shape[1]"
      ],
      "execution_count": 23,
      "outputs": []
    },
    {
      "cell_type": "code",
      "metadata": {
        "id": "ESCVhcmu8XOb"
      },
      "source": [
        "class WindowGenerator():\n",
        "  def __init__(self, input_width, label_width, shift,\n",
        "               train_df=train_df, val_df=val_df, test_df=test_df,\n",
        "               label_columns=None):\n",
        "    # Store the raw data.\n",
        "    self.train_df = train_df\n",
        "    self.val_df = val_df\n",
        "    self.test_df = test_df\n",
        "\n",
        "    # Work out the label column indices.\n",
        "    self.label_columns = label_columns\n",
        "    if label_columns is not None:\n",
        "      self.label_columns_indices = {name: i for i, name in\n",
        "                                    enumerate(label_columns)}\n",
        "    self.column_indices = {name: i for i, name in\n",
        "                           enumerate(train_df.columns)}\n",
        "\n",
        "    # Work out the window parameters.\n",
        "    self.input_width = input_width\n",
        "    self.label_width = label_width\n",
        "    self.shift = shift\n",
        "\n",
        "    self.total_window_size = input_width + shift\n",
        "\n",
        "    self.input_slice = slice(0, input_width)\n",
        "    self.input_indices = np.arange(self.total_window_size)[self.input_slice]\n",
        "\n",
        "    self.label_start = self.total_window_size - self.label_width\n",
        "    self.labels_slice = slice(self.label_start, None)\n",
        "    self.label_indices = np.arange(self.total_window_size)[self.labels_slice]\n",
        "\n",
        "  def __repr__(self):\n",
        "    return '\\n'.join([\n",
        "        f'Total window size: {self.total_window_size}',\n",
        "        f'Input indices: {self.input_indices}',\n",
        "        f'Label indices: {self.label_indices}',\n",
        "        f'Label column name(s): {self.label_columns}'])"
      ],
      "execution_count": 24,
      "outputs": []
    },
    {
      "cell_type": "code",
      "metadata": {
        "colab": {
          "base_uri": "https://localhost:8080/"
        },
        "id": "F97WF8wBChcr",
        "outputId": "9b8061c3-9788-4698-cf56-9651ac433f41"
      },
      "source": [
        "# Indices y compensaciones\n",
        "w1 = WindowGenerator(input_width=5, label_width=1, shift=1,  # Cinco años de entrada,\n",
        "                     label_columns=['Value'])\n",
        "w1"
      ],
      "execution_count": 25,
      "outputs": [
        {
          "output_type": "execute_result",
          "data": {
            "text/plain": [
              "Total window size: 6\n",
              "Input indices: [0 1 2 3 4]\n",
              "Label indices: [5]\n",
              "Label column name(s): ['Value']"
            ]
          },
          "metadata": {
            "tags": []
          },
          "execution_count": 25
        }
      ]
    },
    {
      "cell_type": "code",
      "metadata": {
        "id": "saZDVOC0EV8p"
      },
      "source": [
        "# División\n",
        "\n",
        "def split_window(self, features):\n",
        "  inputs = features[:, self.input_slice, :]\n",
        "  labels = features[:, self.labels_slice, :]\n",
        "  if self.label_columns is not None:\n",
        "    labels = tf.stack(\n",
        "        [labels[:, :, self.column_indices[name]] for name in self.label_columns],\n",
        "        axis=-1)\n",
        "\n",
        "  # Slicing doesn't preserve static shape information, so set the shapes\n",
        "  # manually. This way the `tf.data.Datasets` are easier to inspect.\n",
        "  inputs.set_shape([None, self.input_width, None])\n",
        "  labels.set_shape([None, self.label_width, None])\n",
        "\n",
        "  return inputs, labels\n",
        "\n",
        "WindowGenerator.split_window = split_window"
      ],
      "execution_count": 26,
      "outputs": []
    },
    {
      "cell_type": "code",
      "metadata": {
        "colab": {
          "base_uri": "https://localhost:8080/"
        },
        "id": "GG7Fhc7BEbfl",
        "outputId": "43848bc3-5cf5-4f90-e22b-e15726df8c12"
      },
      "source": [
        "# Stack three slices, the length of the total window:\n",
        "example_window = tf.stack([np.array(train_df[:w1.total_window_size]), np.array(train_df[:w1.total_window_size]), np.array(train_df[1:1+w1.total_window_size])])\n",
        "\n",
        "\n",
        "example_inputs, example_labels = w1.split_window(example_window)\n",
        "\n",
        "print('All shapes are: (batch, time, features)')\n",
        "print(f'Window shape: {example_window.shape}')\n",
        "print(f'Inputs shape: {example_inputs.shape}')\n",
        "print(f'labels shape: {example_labels.shape}')"
      ],
      "execution_count": 27,
      "outputs": [
        {
          "output_type": "stream",
          "text": [
            "All shapes are: (batch, time, features)\n",
            "Window shape: (3, 6, 2)\n",
            "Inputs shape: (3, 5, 2)\n",
            "labels shape: (3, 1, 1)\n"
          ],
          "name": "stdout"
        }
      ]
    },
    {
      "cell_type": "code",
      "metadata": {
        "id": "w0lWrVM7Fmjg"
      },
      "source": [
        "w1.example = example_inputs, example_labels"
      ],
      "execution_count": 28,
      "outputs": []
    },
    {
      "cell_type": "code",
      "metadata": {
        "id": "Tm-hiQk1Hvkz"
      },
      "source": [
        "def plot(self, model=None, plot_col='Value', max_subplots=3):\n",
        "  inputs, labels = self.example\n",
        "  plt.figure(figsize=(12, 8))\n",
        "  plot_col_index = self.column_indices[plot_col]\n",
        "  max_n = min(max_subplots, len(inputs))\n",
        "  for n in range(max_n):\n",
        "    plt.subplot(max_n, 1, n+1)\n",
        "    plt.ylabel(f'{plot_col} [normed]')\n",
        "    plt.plot(self.input_indices, inputs[n, :, plot_col_index],\n",
        "             label='Inputs', marker='.', zorder=-10)\n",
        "\n",
        "    if self.label_columns:\n",
        "      label_col_index = self.label_columns_indices.get(plot_col, None)\n",
        "    else:\n",
        "      label_col_index = plot_col_index\n",
        "\n",
        "    if label_col_index is None:\n",
        "      continue\n",
        "\n",
        "    plt.scatter(self.label_indices, labels[n, :, label_col_index],\n",
        "                edgecolors='k', label='Labels', c='#2ca02c', s=64)\n",
        "    if model is not None:\n",
        "      predictions = model(inputs)\n",
        "      plt.scatter(self.label_indices, predictions[n, :, label_col_index],\n",
        "                  marker='X', edgecolors='k', label='Predictions',\n",
        "                  c='#ff7f0e', s=64)\n",
        "\n",
        "    if n == 0:\n",
        "      plt.legend()\n",
        "\n",
        "  plt.xlabel('Time [year]')\n",
        "\n",
        "WindowGenerator.plot = plot"
      ],
      "execution_count": 29,
      "outputs": []
    },
    {
      "cell_type": "code",
      "metadata": {
        "colab": {
          "base_uri": "https://localhost:8080/",
          "height": 508
        },
        "id": "6uxSoclfHzAT",
        "outputId": "109520dd-cd84-44c0-fab5-038182169092"
      },
      "source": [
        "w1.plot(plot_col='Value')"
      ],
      "execution_count": 49,
      "outputs": [
        {
          "output_type": "display_data",
          "data": {
            "image/png": "[encoded data removed]",
            "text/plain": [
              "<Figure size 864x576 with 3 Axes>"
            ]
          },
          "metadata": {
            "tags": [],
            "needs_background": "light"
          }
        }
      ]
    },
    {
      "cell_type": "code",
      "metadata": {
        "id": "wHtauVMQJBLe"
      },
      "source": [
        "def make_dataset(self, data):\n",
        "  data = np.array(data, dtype=np.float32)\n",
        "  ds = tf.keras.preprocessing.timeseries_dataset_from_array(\n",
        "      data=data,\n",
        "      targets=None,\n",
        "      sequence_length=self.total_window_size,\n",
        "      sequence_stride=1,\n",
        "      shuffle=True,\n",
        "      batch_size=32,)\n",
        "\n",
        "  ds = ds.map(self.split_window)\n",
        "\n",
        "  return ds\n",
        "\n",
        "WindowGenerator.make_dataset = make_dataset"
      ],
      "execution_count": 50,
      "outputs": []
    },
    {
      "cell_type": "code",
      "metadata": {
        "id": "feI1W-mWJUYJ"
      },
      "source": [
        "@property\n",
        "def train(self):\n",
        "  return self.make_dataset(self.train_df)\n",
        "\n",
        "@property\n",
        "def val(self):\n",
        "  return self.make_dataset(self.val_df)\n",
        "\n",
        "@property\n",
        "def test(self):\n",
        "  return self.make_dataset(self.test_df)\n",
        "\n",
        "@property\n",
        "def example(self):\n",
        "  \"\"\"Get and cache an example batch of `inputs, labels` for plotting.\"\"\"\n",
        "  result = getattr(self, '_example', None)\n",
        "  if result is None:\n",
        "    # No example batch was found, so get one from the `.train` dataset\n",
        "    result = next(iter(self.train))\n",
        "    # And cache it for next time\n",
        "    self._example = result\n",
        "  return result\n",
        "\n",
        "WindowGenerator.train = train\n",
        "WindowGenerator.val = val\n",
        "WindowGenerator.test = test\n",
        "WindowGenerator.example = example"
      ],
      "execution_count": 51,
      "outputs": []
    },
    {
      "cell_type": "code",
      "metadata": {
        "colab": {
          "base_uri": "https://localhost:8080/"
        },
        "id": "sDjxg3DZJYKE",
        "outputId": "ecace0c8-3433-4f6f-db94-bcf8f568048c"
      },
      "source": [
        "w1.train.element_spec"
      ],
      "execution_count": 52,
      "outputs": [
        {
          "output_type": "execute_result",
          "data": {
            "text/plain": [
              "(TensorSpec(shape=(None, 5, 2), dtype=tf.float32, name=None),\n",
              " TensorSpec(shape=(None, 1, 1), dtype=tf.float32, name=None))"
            ]
          },
          "metadata": {
            "tags": []
          },
          "execution_count": 52
        }
      ]
    },
    {
      "cell_type": "code",
      "metadata": {
        "colab": {
          "base_uri": "https://localhost:8080/"
        },
        "id": "Yep4GkLHJm-a",
        "outputId": "3d510834-c4bc-4c00-e2c8-34dadc8ad690"
      },
      "source": [
        "for example_inputs, example_labels in w1.train.take(1):\n",
        "  print(f'Inputs shape (batch, time, features): {example_inputs.shape}')\n",
        "  print(f'Labels shape (batch, time, features): {example_labels.shape}')"
      ],
      "execution_count": 53,
      "outputs": [
        {
          "output_type": "stream",
          "text": [
            "Inputs shape (batch, time, features): (32, 5, 2)\n",
            "Labels shape (batch, time, features): (32, 1, 1)\n"
          ],
          "name": "stdout"
        }
      ]
    },
    {
      "cell_type": "code",
      "metadata": {
        "colab": {
          "base_uri": "https://localhost:8080/"
        },
        "id": "MELN0ga-KFzA",
        "outputId": "2e216b4a-1e1f-4530-9586-a6b04395485d"
      },
      "source": [
        "# MODELOS DE UN SOLO PASO\n",
        "\n",
        "single_step_window = WindowGenerator(\n",
        "    input_width=5, label_width=1, shift=1,\n",
        "    label_columns=['Value'])\n",
        "single_step_window"
      ],
      "execution_count": 54,
      "outputs": [
        {
          "output_type": "execute_result",
          "data": {
            "text/plain": [
              "Total window size: 6\n",
              "Input indices: [0 1 2 3 4]\n",
              "Label indices: [5]\n",
              "Label column name(s): ['Value']"
            ]
          },
          "metadata": {
            "tags": []
          },
          "execution_count": 54
        }
      ]
    },
    {
      "cell_type": "code",
      "metadata": {
        "colab": {
          "base_uri": "https://localhost:8080/"
        },
        "id": "EOHv_y_wKRap",
        "outputId": "435c8d9f-06fe-450d-e81c-68e74107493b"
      },
      "source": [
        "for example_inputs, example_labels in single_step_window.train.take(1):\n",
        "  print(f'Inputs shape (batch, time, features): {example_inputs.shape}')\n",
        "  print(f'Labels shape (batch, time, features): {example_labels.shape}')"
      ],
      "execution_count": 55,
      "outputs": [
        {
          "output_type": "stream",
          "text": [
            "Inputs shape (batch, time, features): (32, 5, 2)\n",
            "Labels shape (batch, time, features): (32, 1, 1)\n"
          ],
          "name": "stdout"
        }
      ]
    },
    {
      "cell_type": "code",
      "metadata": {
        "id": "sNRPeQG9Kb9K"
      },
      "source": [
        "#Modelo base\n",
        "class Baseline(tf.keras.Model):\n",
        "  def __init__(self, label_index=None):\n",
        "    super().__init__()\n",
        "    self.label_index = label_index\n",
        "\n",
        "  def call(self, inputs):\n",
        "    if self.label_index is None:\n",
        "      return inputs\n",
        "    result = inputs[:, :, self.label_index]\n",
        "    return result[:, :, tf.newaxis]"
      ],
      "execution_count": 56,
      "outputs": []
    },
    {
      "cell_type": "code",
      "metadata": {
        "colab": {
          "base_uri": "https://localhost:8080/"
        },
        "id": "WaQor9-gKhgF",
        "outputId": "1dbd8ecf-d917-4b14-f6d8-d15d81c405c9"
      },
      "source": [
        "baseline = Baseline(label_index=column_indices['Value'])\n",
        "\n",
        "baseline.compile(loss=tf.losses.MeanSquaredError(),\n",
        "                 metrics=[tf.metrics.MeanAbsoluteError()])\n",
        "\n",
        "val_performance = {}\n",
        "performance = {}\n",
        "val_performance['Baseline'] = baseline.evaluate(single_step_window.val)\n",
        "performance['Baseline'] = baseline.evaluate(single_step_window.test, verbose=0)"
      ],
      "execution_count": 57,
      "outputs": [
        {
          "output_type": "stream",
          "text": [
            "1/1 [==============================] - 0s 136ms/step - loss: 16815090688.0000 - mean_absolute_error: 85191.4297\n"
          ],
          "name": "stdout"
        }
      ]
    },
    {
      "cell_type": "code",
      "metadata": {
        "colab": {
          "base_uri": "https://localhost:8080/"
        },
        "id": "gyAUr6OOLQZs",
        "outputId": "48da4919-d6c0-4c63-f2e0-5c88fa665c2a"
      },
      "source": [
        "wide_window = WindowGenerator(\n",
        "    input_width=5, label_width=5, shift=1,\n",
        "    label_columns=['Value'])\n",
        "\n",
        "wide_window"
      ],
      "execution_count": 58,
      "outputs": [
        {
          "output_type": "execute_result",
          "data": {
            "text/plain": [
              "Total window size: 6\n",
              "Input indices: [0 1 2 3 4]\n",
              "Label indices: [1 2 3 4 5]\n",
              "Label column name(s): ['Value']"
            ]
          },
          "metadata": {
            "tags": []
          },
          "execution_count": 58
        }
      ]
    },
    {
      "cell_type": "code",
      "metadata": {
        "colab": {
          "base_uri": "https://localhost:8080/"
        },
        "id": "zk27LWFuLfCT",
        "outputId": "0a727c95-a6b3-468b-d967-e1250f2bfc69"
      },
      "source": [
        "print('Input shape:', wide_window.example[0].shape)\n",
        "print('Output shape:', baseline(wide_window.example[0]).shape)"
      ],
      "execution_count": 59,
      "outputs": [
        {
          "output_type": "stream",
          "text": [
            "Input shape: (32, 5, 2)\n",
            "Output shape: (32, 5, 1)\n"
          ],
          "name": "stdout"
        }
      ]
    },
    {
      "cell_type": "code",
      "metadata": {
        "colab": {
          "base_uri": "https://localhost:8080/",
          "height": 508
        },
        "id": "kHwTawYNLi84",
        "outputId": "bbf6c0eb-a33d-4d0d-acfc-1d3408c13cd8"
      },
      "source": [
        "wide_window.plot(baseline)"
      ],
      "execution_count": 64,
      "outputs": [
        {
          "output_type": "display_data",
          "data": {
            "image/png": "[encoded data removed]",
            "text/plain": [
              "<Figure size 864x576 with 3 Axes>"
            ]
          },
          "metadata": {
            "tags": [],
            "needs_background": "light"
          }
        }
      ]
    },
    {
      "cell_type": "code",
      "metadata": {
        "id": "n0dPXX96M-SG"
      },
      "source": [
        "### MODELO LINEAL\n",
        "\n",
        "linear = tf.keras.Sequential([\n",
        "    tf.keras.layers.Dense(units=1)\n",
        "])"
      ],
      "execution_count": 66,
      "outputs": []
    },
    {
      "cell_type": "code",
      "metadata": {
        "colab": {
          "base_uri": "https://localhost:8080/"
        },
        "id": "dN0wv_ViNC7X",
        "outputId": "3b2ee126-28f4-498c-8a43-70dcdfd645c4"
      },
      "source": [
        "print('Input shape:', single_step_window.example[0].shape)\n",
        "print('Output shape:', linear(single_step_window.example[0]).shape)"
      ],
      "execution_count": 67,
      "outputs": [
        {
          "output_type": "stream",
          "text": [
            "Input shape: (32, 5, 2)\n",
            "Output shape: (32, 5, 1)\n"
          ],
          "name": "stdout"
        }
      ]
    },
    {
      "cell_type": "code",
      "metadata": {
        "id": "zIdd-8afNKRf"
      },
      "source": [
        "MAX_EPOCHS = 20\n",
        "\n",
        "def compile_and_fit(model, window, patience=2):\n",
        "  early_stopping = tf.keras.callbacks.EarlyStopping(monitor='val_loss',\n",
        "                                                    patience=patience,\n",
        "                                                    mode='min')\n",
        "\n",
        "  model.compile(loss=tf.losses.MeanSquaredError(),\n",
        "                optimizer=tf.optimizers.Adam(),\n",
        "                metrics=[tf.metrics.MeanAbsoluteError()])\n",
        "\n",
        "  history = model.fit(window.train, epochs=MAX_EPOCHS,\n",
        "                      validation_data=window.val,\n",
        "                      callbacks=[early_stopping])\n",
        "  return history"
      ],
      "execution_count": 68,
      "outputs": []
    },
    {
      "cell_type": "code",
      "metadata": {
        "colab": {
          "base_uri": "https://localhost:8080/"
        },
        "id": "Iof2tjTGNLEO",
        "outputId": "0f49d5dc-3ef5-48b3-d558-bcad3c75fb15"
      },
      "source": [
        "history = compile_and_fit(linear, single_step_window)\n",
        "\n",
        "val_performance['Linear'] = linear.evaluate(single_step_window.val)\n",
        "performance['Linear'] = linear.evaluate(single_step_window.test, verbose=0)"
      ],
      "execution_count": 69,
      "outputs": [
        {
          "output_type": "stream",
          "text": [
            "Epoch 1/20\n",
            "2/2 [==============================] - 1s 158ms/step - loss: 11693709066240.0000 - mean_absolute_error: 3417250.5000 - val_loss: 11366994804736.0000 - val_mean_absolute_error: 3370167.5000\n",
            "Epoch 2/20\n",
            "2/2 [==============================] - 0s 70ms/step - loss: 11633171628032.0000 - mean_absolute_error: 3408405.2500 - val_loss: 11306685956096.0000 - val_mean_absolute_error: 3361208.7500\n",
            "Epoch 3/20\n",
            "2/2 [==============================] - 0s 61ms/step - loss: 11573119680512.0000 - mean_absolute_error: 3399568.7500 - val_loss: 11246573191168.0000 - val_mean_absolute_error: 3352256.0000\n",
            "Epoch 4/20\n",
            "2/2 [==============================] - 0s 65ms/step - loss: 11512834949120.0000 - mean_absolute_error: 3390710.7500 - val_loss: 11186610372608.0000 - val_mean_absolute_error: 3343301.5000\n",
            "Epoch 5/20\n",
            "2/2 [==============================] - 0s 63ms/step - loss: 11452915122176.0000 - mean_absolute_error: 3381869.0000 - val_loss: 11126714662912.0000 - val_mean_absolute_error: 3334333.0000\n",
            "Epoch 6/20\n",
            "2/2 [==============================] - 0s 65ms/step - loss: 11393100152832.0000 - mean_absolute_error: 3373018.0000 - val_loss: 11066958413824.0000 - val_mean_absolute_error: 3325361.5000\n",
            "Epoch 7/20\n",
            "2/2 [==============================] - 0s 73ms/step - loss: 11333538938880.0000 - mean_absolute_error: 3364157.5000 - val_loss: 11007469551616.0000 - val_mean_absolute_error: 3316405.5000\n",
            "Epoch 8/20\n",
            "2/2 [==============================] - 0s 66ms/step - loss: 11274182197248.0000 - mean_absolute_error: 3355321.5000 - val_loss: 10948363419648.0000 - val_mean_absolute_error: 3307484.0000\n",
            "Epoch 9/20\n",
            "2/2 [==============================] - 0s 82ms/step - loss: 11214974353408.0000 - mean_absolute_error: 3346503.7500 - val_loss: 10889548791808.0000 - val_mean_absolute_error: 3298582.0000\n",
            "Epoch 10/20\n",
            "2/2 [==============================] - 0s 66ms/step - loss: 11156060110848.0000 - mean_absolute_error: 3337708.0000 - val_loss: 10830828535808.0000 - val_mean_absolute_error: 3289670.2500\n",
            "Epoch 11/20\n",
            "2/2 [==============================] - 0s 67ms/step - loss: 11097382846464.0000 - mean_absolute_error: 3328908.0000 - val_loss: 10772169097216.0000 - val_mean_absolute_error: 3280743.2500\n",
            "Epoch 12/20\n",
            "2/2 [==============================] - 0s 58ms/step - loss: 11038878597120.0000 - mean_absolute_error: 3320106.0000 - val_loss: 10713708888064.0000 - val_mean_absolute_error: 3271822.7500\n",
            "Epoch 13/20\n",
            "2/2 [==============================] - 0s 68ms/step - loss: 10980433068032.0000 - mean_absolute_error: 3311292.0000 - val_loss: 10655538085888.0000 - val_mean_absolute_error: 3262922.2500\n",
            "Epoch 14/20\n",
            "2/2 [==============================] - 0s 63ms/step - loss: 10922168942592.0000 - mean_absolute_error: 3302501.2500 - val_loss: 10597554978816.0000 - val_mean_absolute_error: 3254025.7500\n",
            "Epoch 15/20\n",
            "2/2 [==============================] - 0s 61ms/step - loss: 10864315858944.0000 - mean_absolute_error: 3293725.0000 - val_loss: 10539771101184.0000 - val_mean_absolute_error: 3245136.5000\n",
            "Epoch 16/20\n",
            "2/2 [==============================] - 0s 61ms/step - loss: 10806561341440.0000 - mean_absolute_error: 3284943.7500 - val_loss: 10482289213440.0000 - val_mean_absolute_error: 3236268.5000\n",
            "Epoch 17/20\n",
            "2/2 [==============================] - 0s 64ms/step - loss: 10748939993088.0000 - mean_absolute_error: 3276169.7500 - val_loss: 10424995020800.0000 - val_mean_absolute_error: 3227405.7500\n",
            "Epoch 18/20\n",
            "2/2 [==============================] - 0s 66ms/step - loss: 10691759046656.0000 - mean_absolute_error: 3267430.5000 - val_loss: 10367869648896.0000 - val_mean_absolute_error: 3218545.0000\n",
            "Epoch 19/20\n",
            "2/2 [==============================] - 0s 62ms/step - loss: 10634596974592.0000 - mean_absolute_error: 3258670.0000 - val_loss: 10310986498048.0000 - val_mean_absolute_error: 3209697.0000\n",
            "Epoch 20/20\n",
            "2/2 [==============================] - 0s 58ms/step - loss: 10577841750016.0000 - mean_absolute_error: 3249947.0000 - val_loss: 10254409531392.0000 - val_mean_absolute_error: 3200872.2500\n",
            "1/1 [==============================] - 0s 54ms/step - loss: 10254409531392.0000 - mean_absolute_error: 3200872.2500\n"
          ],
          "name": "stdout"
        }
      ]
    },
    {
      "cell_type": "code",
      "metadata": {
        "colab": {
          "base_uri": "https://localhost:8080/"
        },
        "id": "CTFmBQg6NMsY",
        "outputId": "71e07c9e-f7d5-40e7-c80e-1f26ae2da00a"
      },
      "source": [
        "print('Input shape:', wide_window.example[0].shape)\n",
        "print('Output shape:', baseline(wide_window.example[0]).shape)"
      ],
      "execution_count": 70,
      "outputs": [
        {
          "output_type": "stream",
          "text": [
            "Input shape: (32, 5, 2)\n",
            "Output shape: (32, 5, 1)\n"
          ],
          "name": "stdout"
        }
      ]
    },
    {
      "cell_type": "code",
      "metadata": {
        "colab": {
          "base_uri": "https://localhost:8080/",
          "height": 508
        },
        "id": "1_QemDB4NTAg",
        "outputId": "bdaa3d18-0e02-4063-f81b-3dfc9bfb7531"
      },
      "source": [
        "wide_window.plot(linear)"
      ],
      "execution_count": 71,
      "outputs": [
        {
          "output_type": "display_data",
          "data": {
            "image/png": "[encoded data removed]",
            "text/plain": [
              "<Figure size 864x576 with 3 Axes>"
            ]
          },
          "metadata": {
            "tags": [],
            "needs_background": "light"
          }
        }
      ]
    }
  ]
}